{
  "nbformat": 4,
  "nbformat_minor": 0,
  "metadata": {
    "colab": {
      "name": "AC_Textbook_Chapter1.ipynb",
      "provenance": [],
      "collapsed_sections": [],
      "include_colab_link": true
    },
    "kernelspec": {
      "name": "python3",
      "display_name": "Python 3"
    },
    "language_info": {
      "name": "python"
    }
  },
  "cells": [
    {
      "cell_type": "markdown",
      "metadata": {
        "id": "view-in-github",
        "colab_type": "text"
      },
      "source": [
        "<a href=\"https://colab.research.google.com/github/AguaClara/Textbook/blob/master/Colab/AC_Textbook_Chapter1.ipynb\" target=\"_parent\"><img src=\"https://colab.research.google.com/assets/colab-badge.svg\" alt=\"Open In Colab\"/></a>"
      ]
    },
    {
      "cell_type": "markdown",
      "metadata": {
        "id": "Jhe6kTirQ0g8"
      },
      "source": [
        "# Chapter 1: Introduction\n",
        "\n",
        "This is the corresponding Colab document for the first chapter of the AguaClara textbook!"
      ]
    },
    {
      "cell_type": "code",
      "metadata": {
        "id": "ZidQdcL5QYrI"
      },
      "source": [
        "!pip install aguaclara"
      ],
      "execution_count": null,
      "outputs": []
    },
    {
      "cell_type": "markdown",
      "metadata": {
        "id": "vQ7seH8lRXpx"
      },
      "source": [
        "## Example: NYC Water Supply\n",
        "\n",
        "The following code snippet is from the section titled [the Physics of Water Treatment Design: The Global Context for Drinking Water Treatment](https://aguaclara.github.io/Textbook/Introduction/Introduction.html#the-global-context-for-drinking-water-treatment)"
      ]
    },
    {
      "cell_type": "code",
      "metadata": {
        "id": "4jdQAAsUSI6y"
      },
      "source": [
        "from aguaclara.core.units import unit_registry as u\n",
        "import datetime\n",
        "People_needing_water_2030 = 3.3*10**9\n",
        "now = datetime.datetime.now()\n",
        "Task_time = (2030 - now.year)*u.year\n",
        "#If we assume we will meet this demand by building the same amount of new capacity each year, then we have\n",
        "People_per_year = People_needing_water_2030/Task_time\n",
        "People_per_year\n",
        "#The percapita demand for water\n",
        "Per_capita_demand = 3*u.mL/u.s\n",
        "Per_capita_demand.to(u.L/u.day)\n",
        "Per_capita_demand\n",
        "Rate_new_water_supply_capacity = (People_per_year * Per_capita_demand).to(u.L/(u.s*u.year))\n",
        "Rate_new_water_supply_capacity\n",
        "NYC_water_supply = 44000 * u.L/u.s\n",
        "NYC_per_year = Rate_new_water_supply_capacity/NYC_water_supply\n",
        "NYC_per_year"
      ],
      "execution_count": null,
      "outputs": []
    },
    {
      "cell_type": "markdown",
      "metadata": {
        "id": "sEqG7_T5Su2m"
      },
      "source": [
        "## Example: Terminal Velocities of Particles of Differing Sizes\n",
        "\n",
        "The following example is from [the Physics of Water Treatment Design: The AguaClara Treatment Train](https://aguaclara.github.io/Textbook/Introduction/Introduction.html#the-aguaclara-treatment-train)"
      ]
    },
    {
      "cell_type": "code",
      "metadata": {
        "id": "j9W3I6FqTaC3"
      },
      "source": [
        "import aguaclara.core.physchem as pc\n",
        "#BIG CHANGE SO ITS EASY TO SEE IF IT WORKED\n",
        "import numpy as np\n",
        "import matplotlib.pyplot as plt\n",
        "#Note: original code has pc.gravity, changed to u.gravity\n",
        "def v_t(D_particle,density_particle,Temperature):\n",
        "  return (D_particle**2*u.gravity *(density_particle - pc.density_water(Temperature))/(18*pc.viscosity_kinematic(Temperature)*pc.density_water(Temperature))).to(u.m/u.s)\n",
        "clay = 2650 * u.kg/u.m**3\n",
        "organic = 1040 * u.kg/u.m**3\n",
        "Temperature = 20 * u.degC\n",
        "D_particle = np.logspace(-6,-3)*u.m\n",
        "fig, ax = plt.subplots()\n",
        "ax.loglog(D_particle.to(u.m),v_t(D_particle,clay,Temperature).to(u.m/u.s))\n",
        "ax.loglog(D_particle.to(u.m),v_t(D_particle,organic,Temperature).to(u.m/u.s))\n",
        "ax.set(xlabel='Particle diameter (m)', ylabel='Terminal velocity (m/s)')\n",
        "ax.legend([\"clay or sand\",\"organic particle\"])\n",
        "#imagepath = 'Introduction/Images/'\n",
        "#fig.savefig(imagepath+'Terminal_velocity')\n",
        "plt.show()"
      ],
      "execution_count": null,
      "outputs": []
    },
    {
      "cell_type": "markdown",
      "metadata": {
        "id": "-QdtlLo9UPrS"
      },
      "source": [
        "## Example: AC Plant vs. Croton Water Treatment Plant\n",
        "\n",
        "The following code is from [the Physics of Water Treatment Design: the Global Context for Drinking Water Treatment, Comparison with Croton Water Treatment Plant](https://aguaclara.github.io/Textbook/Introduction/Introduction.html#comparison-with-croton-water-treatment-plant)"
      ]
    },
    {
      "cell_type": "code",
      "metadata": {
        "id": "WLFCIygeVb6N"
      },
      "source": [
        "#the unit registry has been imported above and does not need to be imported again\n",
        "import aguaclara\n",
        "import aguaclara.core.physchem as pc\n",
        "from aguaclara.core.units import unit_registry as u\n",
        "Q_Croton =(290 *u.Mgal/u.day).to(u.L/u.s)\n",
        "Cost_Croton = 3.2 * 10**9 * u.USD\n",
        "Cost_per_Lps = Cost_Croton/Q_Croton\n",
        "Cost_per_Lps\n",
        "N_DAF = 48\n",
        "Q_per_unit = Q_Croton/N_DAF\n",
        "Q_per_unit/6\n",
        "(15.9 * u.m/u.hr).to(u.mm/u.s)"
      ],
      "execution_count": null,
      "outputs": []
    }
  ]
}