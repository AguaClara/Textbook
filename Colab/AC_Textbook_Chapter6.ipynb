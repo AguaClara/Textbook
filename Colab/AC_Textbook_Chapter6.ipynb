{
  "nbformat": 4,
  "nbformat_minor": 0,
  "metadata": {
    "colab": {
      "name": "AC_Textbook_Chapter6.ipynb",
      "provenance": [],
      "authorship_tag": "ABX9TyNl7jwRKwpBJ7rYj2trcrTn",
      "include_colab_link": true
    },
    "kernelspec": {
      "name": "python3",
      "display_name": "Python 3"
    },
    "language_info": {
      "name": "python"
    }
  },
  "cells": [
    {
      "cell_type": "markdown",
      "metadata": {
        "id": "view-in-github",
        "colab_type": "text"
      },
      "source": [
        "<a href=\"https://colab.research.google.com/github/lainey-reed/Textbook/blob/master/Colab/AC_Textbook_Chapter6.ipynb\" target=\"_parent\"><img src=\"https://colab.research.google.com/assets/colab-badge.svg\" alt=\"Open In Colab\"/></a>"
      ]
    },
    {
      "cell_type": "markdown",
      "metadata": {
        "id": "0K4LH7quOX_m"
      },
      "source": [
        "# Chapter 6: Flow Control and Measumrent\n",
        "\n",
        "All of the examples in this document are from [Chapter 6](https://aguaclara.github.io/Textbook/Flow_Control_and_Measurement/FCM_Intro.html#flow-control-and-measurement-introduction)"
      ]
    },
    {
      "cell_type": "code",
      "metadata": {
        "id": "xzgy5rzHPyUN"
      },
      "source": [
        "!pip install aguaclara"
      ],
      "execution_count": null,
      "outputs": []
    },
    {
      "cell_type": "markdown",
      "metadata": {
        "id": "_YAf5yN3P0TE"
      },
      "source": [
        "## Example 1: Kinematic Viscosity of Coagulants\n",
        "\n",
        "The following example is from the chapter section [Flow Control and Measurement Design](https://aguaclara.github.io/Textbook/Flow_Control_and_Measurement/FCM_Design.html#kinematic-viscosity-of-coagulants)\n"
      ]
    },
    {
      "cell_type": "code",
      "metadata": {
        "id": "A6xIhKpqQze9"
      },
      "source": [
        "import aguaclara.core.physchem as pc\n",
        "from aguaclara.core.units import unit_registry as u\n",
        "import numpy as np\n",
        "import matplotlib.pyplot as plt\n",
        "# the following concentrations were prepared for each chemical\n",
        "Measured_C = np.linspace(0,600,13) * u.g/u.L\n",
        "Measured_C[0] = 10 * u.g/u.L\n",
        "# the following dynamic viscosities were measured\n",
        "Measured_Viscosity_Dynamic_Alum = np.array([0.00097, 0.00114,0.00143,0.00178,0.00208,0.00253,0.00349,0.00451,0.00532,0.00691,0.00901,0.0117,0.0133]) * u.kg/u.s/u.m\n",
        "Measured_Viscosity_Dynamic_PACl = np.array([0.001,0.00108,0.00122,0.00145,0.00171,0.00231,0.00256,0.00301,0.00392,0.00378,0.00476,0.00486,0.00768]) * u.kg/u.s/u.m\n",
        "Density_PACl_400gperL = 58.88 * u.g/(50 * u.mL)\n",
        "Density_Alum_600gperL = 63.2 * u.g/(50 * u.mL)\n",
        "temperature = 22 * u.degC\n",
        "\n",
        "def Density_Alum(Alum_C, temperature):\n",
        "  #Alum_C is concentration of aluminum sulfate with attached waters (not concentration of aluminum)\n",
        "  return Density_Alum_600gperL * Alum_C/(600 * u.g/u.L) + pc.density_water(temperature)*(600 * u.g/u.L - Alum_C)/(600 * u.g/u.L)\n",
        "\n",
        "def Density_PACl(PACl_C, temperature):\n",
        "  #PACl_C is concentration of poly aluminum chloride granules (not concentration of aluminum\n",
        "  return Density_PACl_400gperL * PACl_C/(400 * u.g/u.L) + pc.density_water(temperature)*(400 * u.g/u.L - PACl_C)/(400 * u.g/u.L)\n",
        "\n",
        "Measured_Viscosity_Kinematic_Alum = Measured_Viscosity_Dynamic_Alum/Density_Alum(Measured_C, temperature)\n",
        "Measured_Viscosity_Kinematic_PACl = Measured_Viscosity_Dynamic_PACl/Density_PACl(Measured_C, temperature)\n",
        "def Alum_Viscosity_Kinematic(Alum_C, temperature):\n",
        "  return (1 + (4.225 * 10**(-6) * ((Alum_C.to(u.kg/u.m**3)).magnitude)**2.289))*pc.viscosity_kinematic_water(temperature)\n",
        "\n",
        "def PACl_Viscosity_Kinematic(PACl_C, temperature):\n",
        "  return (1 + (2.383 * 10**(-5) * ((PACl_C.to(u.kg/u.m**3)).magnitude)**1.893))*pc.viscosity_kinematic_water(temperature)\n",
        "\n",
        "fig, ax = plt.subplots()\n",
        "ax.plot(Measured_C, Measured_Viscosity_Kinematic_Alum.to(u.mm**2/u.s), 'ro')\n",
        "ax.plot(Measured_C, Alum_Viscosity_Kinematic(Measured_C, temperature).to(u.mm**2/u.s), 'r-')\n",
        "ax.plot(Measured_C, Measured_Viscosity_Kinematic_PACl.to(u.mm**2/u.s), 'bo')\n",
        "ax.plot(Measured_C, PACl_Viscosity_Kinematic(Measured_C, temperature).to(u.mm**2/u.s), 'b-')\n",
        "\n",
        "ax.set(xlabel=r'Coagulant concentration prepared from granules ' + r'$\\left[\\frac{g}{L}\\right]$')\n",
        "ax.set(ylabel='Kinematic Viscosity ' + r'$\\left[\\frac{mm^2}{s}\\right]$')\n",
        "ax.legend(['Alum data','Alum model', 'PACl data','PACl model'])\n",
        "#fig.savefig('Flow_Control_and_Measurement/Images/Coagulant_Viscosity')\n",
        "plt.show()"
      ],
      "execution_count": null,
      "outputs": []
    },
    {
      "cell_type": "markdown",
      "metadata": {
        "id": "g24IBLnVRSjy"
      },
      "source": [
        "## Example 2: Design Challenge\n",
        "\n",
        "The following code segments are from the design challenge in the section [Flow Control and Measurement Solution](https://aguaclara.github.io/Textbook/Flow_Control_and_Measurement/FCM_Solution.html)"
      ]
    },
    {
      "cell_type": "code",
      "metadata": {
        "id": "LTkC1EqzRyfL"
      },
      "source": [
        "import aguaclara as ac\n",
        "from aguaclara.core.units import unit_registry as u\n",
        "import numpy as np\n",
        "import matplotlib.pyplot as plt"
      ],
      "execution_count": null,
      "outputs": []
    },
    {
      "cell_type": "code",
      "metadata": {
        "id": "CZ5G4LzBRz6y"
      },
      "source": [
        "print('The *vena contracta* coefficient for an orifice is ',ac.VC_ORIFICE_RATIO,'.')"
      ],
      "execution_count": null,
      "outputs": []
    },
    {
      "cell_type": "code",
      "metadata": {
        "id": "F7l7sG0aR24k"
      },
      "source": [
        "WaterElevationNormalized = np.linspace(-1,2,100)\n",
        "DiamOrifice = 5*u.cm\n",
        "WaterElevation = WaterElevationNormalized*DiamOrifice\n",
        "\n",
        "#Here we initialize some empty numpy arrays of the same size and type as WaterElevationNormalized\n",
        "HorizontalOrificeFlows = np.empty_like(WaterElevationNormalized)\n",
        "VerticalOrificeFlows = np.empty_like(WaterElevationNormalized)\n",
        "\n",
        "#Here we need to populate the arrays we created above.\n",
        "# Our graphing library, pyplot, cannot handle units, so we need to remove\n",
        "# them from each element as we insert it into the array.\n",
        "# While the code looks somewhat ugly, this is the best place to remove units;\n",
        "# we are removing them after all calculations have been made to minimize the\n",
        "# severity of floating-point errors.\n",
        "for i in range(len(WaterElevation)):\n",
        "  HorizontalOrificeFlows[i] = (ac.flow_orifice(DiamOrifice, WaterElevation[i], ac.VC_ORIFICE_RATIO).to(u.L/u.s).magnitude)\n",
        "  VerticalOrificeFlows[i] = (ac.flow_orifice_vert(DiamOrifice, WaterElevation[i], ac.VC_ORIFICE_RATIO).to(u.L/u.s).magnitude)\n",
        "\n",
        "fig, ax = plt.subplots()\n",
        "ax.plot(WaterElevationNormalized, HorizontalOrificeFlows, 'r-', WaterElevationNormalized, VerticalOrificeFlows, 'b-')\n",
        "\n",
        "ax.set(xlabel='Normalized height of water above center of the orifice')\n",
        "ax.set(ylabel='Flow rate through the orifice (L/s)')\n",
        "ax.legend(['Horizontal Orientation', 'Vertical orientation'])\n",
        "ax.grid(True)\n",
        "#fig.savefig('Flow_Control_and_Measurement/Images/Horizontal_vs_Vertical_Orifice_Orientation')\n",
        "plt.show()"
      ],
      "execution_count": null,
      "outputs": []
    },
    {
      "cell_type": "code",
      "metadata": {
        "id": "hLjYn9CzR-Jv"
      },
      "source": [
        "FlowPlant = 50*u.L/u.s\n",
        "T = 20 * u.degC\n",
        "NuBleach = ac.viscosity_kinematic_water(T)\n",
        "HeadlossDosingTubeMax = 20*(u.cm)\n",
        "StockCl2 = 51.4*(u.g/u.L)\n",
        "DoseCl2 = 2*(u.mg/u.L)\n",
        "RatioError = 0.1\n",
        "KMinor = 2"
      ],
      "execution_count": null,
      "outputs": []
    },
    {
      "cell_type": "code",
      "metadata": {
        "id": "mVINIWLbSL51"
      },
      "source": [
        "FlowStockClMax = (FlowPlant * DoseCl2 / StockCl2).to(u.mL/u.s)\n",
        "print('The required flow of bleach is', FlowStockClMax)"
      ],
      "execution_count": null,
      "outputs": []
    },
    {
      "cell_type": "code",
      "metadata": {
        "id": "fPuBw6MZSNPg"
      },
      "source": [
        "print('The daily required flow of bleach is',FlowStockClMax.to(u.L/u.day))"
      ],
      "execution_count": null,
      "outputs": []
    },
    {
      "cell_type": "code",
      "metadata": {
        "id": "Dy4MxbuHSQpL"
      },
      "source": [
        "DiamTubeArray = (np.arange(1,6,1)) * 1 / 16 * u.inch\n",
        "print(DiamTubeArray.magnitude, DiamTubeArray.units)"
      ],
      "execution_count": null,
      "outputs": []
    },
    {
      "cell_type": "code",
      "metadata": {
        "id": "sR2IN1hYSUaR"
      },
      "source": [
        "VelTubeMax = (((RatioError * 2 * HeadlossDosingTubeMax * u.gravity) / KMinor)**(1/2)).to(u.m/u.s)\n",
        "print('The maximum average velocity in a dosing tube is', VelTubeMax)"
      ],
      "execution_count": null,
      "outputs": []
    },
    {
      "cell_type": "code",
      "metadata": {
        "id": "kQ0RVEOBSVag"
      },
      "source": [
        "HeadlossMinorMax = RatioError * HeadlossDosingTubeMax\n",
        "print('The head loss due to minor losses when the tube is at maximum capacity is', HeadlossMinorMax)"
      ],
      "execution_count": null,
      "outputs": []
    },
    {
      "cell_type": "code",
      "metadata": {
        "id": "6fqFroCkSYch"
      },
      "source": [
        "def flow_cdc_max(diam, VelTubeMax):\n",
        "    Flow = ac.area_circle(diam) * (VelTubeMax)\n",
        "    return Flow\n",
        "\n",
        "FlowMaxArray = flow_cdc_max(DiamTubeArray, VelTubeMax).to(u.mL/u.s)\n",
        "print(FlowMaxArray)"
      ],
      "execution_count": null,
      "outputs": []
    },
    {
      "cell_type": "code",
      "metadata": {
        "id": "bKpCtXdGSbdp"
      },
      "source": [
        "NDosingTubes = np.ceil(FlowStockClMax / FlowMaxArray)\n",
        "print('The number of tubes of each diameter is', NDosingTubes)"
      ],
      "execution_count": null,
      "outputs": []
    },
    {
      "cell_type": "code",
      "metadata": {
        "id": "Ogt6D8WaSjqz"
      },
      "source": [
        "FlowDosingTubeArray = FlowStockClMax / NDosingTubes\n",
        "print('The flow rate per tube is', FlowDosingTubeArray)\n",
        "print(FlowStockClMax)"
      ],
      "execution_count": null,
      "outputs": []
    },
    {
      "cell_type": "code",
      "metadata": {
        "id": "znrdVDf5SmCs"
      },
      "source": [
        "def length_tube(flow_max, diam, headloss_max, nu, k_minor):\n",
        "    \"Returns the length of tube necessary to handle the maximum flow.\"\n",
        "    L = (((ac.core.constants.GRAVITY * headloss_max * np.pi * diam**4)/\n",
        "                           (128 * nu * flow_max))-\n",
        "                    ((k_minor * flow_max)/\n",
        "                             (16 * np.pi * nu)))\n",
        "    return L\n",
        "\n",
        "LengthDosingTube = length_tube(FlowDosingTubeArray, DiamTubeArray,\n",
        "                                 HeadlossDosingTubeMax, NuBleach, KMinor).to(u.m)\n",
        "\n",
        "print('The length of each dosing tube would be', LengthDosingTube)"
      ],
      "execution_count": null,
      "outputs": []
    },
    {
      "cell_type": "code",
      "metadata": {
        "id": "sc07AVmCS6fw"
      },
      "source": [
        "MYPICK = 1\n",
        "print('The number of dosing tubes I will need is',NDosingTubes[MYPICK])\n",
        "print('The flow through each tube is', FlowDosingTubeArray[MYPICK])\n",
        "print('The inner diameter of the tube is', DiamTubeArray[MYPICK])\n",
        "print('The length of each tube is', LengthDosingTube[MYPICK].to(u.m))\n"
      ],
      "execution_count": null,
      "outputs": []
    }
  ]
}