{
  "nbformat": 4,
  "nbformat_minor": 0,
  "metadata": {
    "colab": {
      "name": "AC_Textbook_Chapter11.ipynb",
      "provenance": [],
      "collapsed_sections": [],
      "include_colab_link": true
    },
    "kernelspec": {
      "name": "python3",
      "display_name": "Python 3"
    },
    "language_info": {
      "name": "python"
    }
  },
  "cells": [
    {
      "cell_type": "markdown",
      "metadata": {
        "id": "view-in-github",
        "colab_type": "text"
      },
      "source": [
        "<a href=\"https://colab.research.google.com/github/lainey-reed/Textbook/blob/master/Colab/AC_Textbook_Chapter11.ipynb\" target=\"_parent\"><img src=\"https://colab.research.google.com/assets/colab-badge.svg\" alt=\"Open In Colab\"/></a>"
      ]
    },
    {
      "cell_type": "markdown",
      "metadata": {
        "id": "D90Xesr4QvKj"
      },
      "source": [
        "# Chapter 11: Hydraulics\n",
        "\n",
        "This Colab document corresponds to the eleventh chapter of the AguaClara textbook."
      ]
    },
    {
      "cell_type": "code",
      "metadata": {
        "id": "QKlfOMPoROA3"
      },
      "source": [
        "!pip install aguaclara"
      ],
      "execution_count": null,
      "outputs": []
    },
    {
      "cell_type": "markdown",
      "metadata": {
        "id": "X5_Vhq403Kyk"
      },
      "source": [
        "#Constants Needed To Run Snippets:"
      ]
    },
    {
      "cell_type": "code",
      "metadata": {
        "id": "lUZ2QL_S3OL1"
      },
      "source": [
        "import aguaclara.core.physchem as pc\n",
        "import aguaclara.core.utility as uc\n",
        "import aguaclara.core.pipes as pp\n",
        "\n",
        "\n",
        "from aguaclara.core.units import unit_registry as u\n",
        "\n",
        "import numpy as np\n",
        "import matplotlib.pyplot as plt\n",
        "#I played with the velocity gradient to get a reasonable head loss of 50 cm.\n",
        "G_CS = 123 * u.Hz\n",
        "density_clay = 2650 * u.kg/u.m**3\n",
        "#From William's research the k for flocculator is 0.03. We need to confirm that this value is correct.\n",
        "k = 0.03\n",
        "# It isn't clear what value should be used for alpha\n",
        "alpha = 0.5\n",
        "# The following 3 values are estimates from Casey's floc filter video.\n",
        "C_infb = 40 * u.NTU\n",
        "C_outfb = 1 * u.NTU\n",
        "t_fb = 800 * u.s\n",
        "k_fb = -1/t_fb*(np.log(C_outfb/C_infb))\n",
        "C_out_f = (np.pi* density_clay/6 * (k_fb/(np.pi*alpha*k*G_CS))**(3/2)).to(u.NTU)\n",
        "\n",
        "Gt = (3/2 * 1/(k*np.pi * alpha) * (np.pi/6 * density_clay/C_out_f)**(2/3)).to(u.dimensionless)\n",
        "t_floc = 3/2 * 1/k_fb\n",
        "\n",
        "Temp = 20 * u.degC\n",
        "\n",
        "Floc_HL = (G_CS**2 * t_floc * pc.viscosity_kinematic(Temp)/u.standard_gravity).to(u.cm)"
      ],
      "execution_count": null,
      "outputs": []
    },
    {
      "cell_type": "markdown",
      "metadata": {
        "id": "7bOkmx0kRVHh"
      },
      "source": [
        "#Example: Inlet Manifold Flow Distribution "
      ]
    },
    {
      "cell_type": "code",
      "metadata": {
        "id": "JTY6Xw3SSuQ0"
      },
      "source": [
        "def Ratio_Pipe_Manifold_V_Port_to_V_Man(Ratio_Flow):\n",
        "  return np.sqrt((Ratio_Flow**2 + 1)/(2*(1-Ratio_Flow**2)))"
      ],
      "execution_count": null,
      "outputs": []
    },
    {
      "cell_type": "markdown",
      "metadata": {
        "id": "xfspOSkPUFgx"
      },
      "source": [
        "#Example: Sedimentation Tank Inlet Manifold"
      ]
    },
    {
      "cell_type": "code",
      "metadata": {
        "id": "ndlvydp8UMFJ"
      },
      "source": [
        "#Design the sedimentation tank inlet manifold\n",
        "v_FB = 1 * u.mm/u.s\n",
        "W_Diffuser = 3.175 * u.mm\n",
        "W_Sed = 1.07 * u.m\n",
        "v_jet = v_FB * W_Sed/W_Diffuser\n",
        "print('The jet velocity is',v_jet)\n",
        "L_Sed = 6 * u.m\n",
        "Ratio_Flow = 0.85\n",
        "v_Influent_Manifold = v_jet / Ratio_Pipe_Manifold_V_Port_to_V_Man(Ratio_Flow)\n",
        "print('The manifold velocity is',v_Influent_Manifold)\n",
        "Q_sed =(L_Sed * W_Sed * v_FB).to(u.L/u.s)\n",
        "ID_min_Influent_Manifold = pc.diam_circle(Q_sed/v_Influent_Manifold)\n",
        "print('The minimum manifold diameter is',ID_min_Influent_Manifold.to(u.inch))\n",
        "SDR = 41\n",
        "ID_Influent_Manifold = uc.ceil_nearest(ID_min_Influent_Manifold,pp.ID_SDR_all_available(SDR))\n",
        "ND_Influent_Manifold = pp.ND_SDR_available(ID_Influent_Manifold,SDR)\n",
        "print('The manifold nominal diameter is',ND_Influent_Manifold.to(u.inch))"
      ],
      "execution_count": null,
      "outputs": []
    },
    {
      "cell_type": "markdown",
      "metadata": {
        "id": "YqmUqEDAUQ2B"
      },
      "source": [
        "#Example: Sedimentation Tank Outlet Manifold"
      ]
    },
    {
      "cell_type": "code",
      "metadata": {
        "id": "pmtD8iWCUXu-"
      },
      "source": [
        "#Design the sedimentation tank inlet manifold\n",
        "HL_orifice = 5 * u.cm\n",
        "v_orifice_contracted = np.sqrt(2 * u.gravity * HL_orifice)\n",
        "v_Effluent_Manifold = (v_orifice_contracted / Ratio_Pipe_Manifold_V_Port_to_V_Man(Ratio_Flow)).to(u.m/u.s)\n",
        "print('The maximum effluent manifold velocity is',v_Effluent_Manifold)\n",
        "Q_sed =(L_Sed * W_Sed * v_FB).to(u.L/u.s)\n",
        "ID_min_Effluent_Manifold = pc.diam_circle(Q_sed/v_Effluent_Manifold)\n",
        "print('The minimum effluent manifold diameter is',ID_min_Effluent_Manifold.to(u.inch))\n",
        "SDR = 41\n",
        "ID_Effluent_Manifold = uc.ceil_nearest(ID_min_Effluent_Manifold,pp.ID_SDR_all_available(SDR))\n",
        "ND_Effluent_Manifold = pp.ND_SDR_available(ID_Effluent_Manifold,SDR)\n",
        "print('The manifold nominal diameter is',ND_Effluent_Manifold.to(u.inch))"
      ],
      "execution_count": null,
      "outputs": []
    },
    {
      "cell_type": "markdown",
      "metadata": {
        "id": "VQ1If9xLUcaK"
      },
      "source": [
        "#Example: Sedimentor Inlet Channel"
      ]
    },
    {
      "cell_type": "code",
      "metadata": {
        "id": "8DRdoLVGUmWS"
      },
      "source": [
        "Pi_Q_min = 0.8\n",
        "Pi_Q = np.linspace(Pi_Q_min,0.99,50)\n",
        "Psi_Sed = 5 * u.cm\n",
        "\n",
        "def v_man(Psi,Pi_Q):\n",
        "  v_man = (2 * np.sqrt(u.gravity * Psi * (1 - Pi_Q**2)/(Pi_Q**2 + 1) )).to(u.m/u.s)\n",
        "  return v_man\n",
        "\n",
        "v_man(Psi_Sed,Pi_Q)\n",
        "\n",
        "plt.plot(Pi_Q,v_man(Psi_Sed,Pi_Q),linewidth=2, color='blue')\n",
        "plt.plot([Pi_Q_min,1],[0.45,0.45],linewidth=2, color='black')\n",
        "plt.plot([Pi_Q_min,1],[0.15,0.15],linewidth=2, color='black', linestyle='dashed')\n",
        "plt.ylabel('Channel water velocity (m/s)')\n",
        "plt.xlabel('Flow uniformity')\n",
        "plt.ylim((0,0.7))\n",
        "plt.legend(['Max channel velocity','10 State Standards Max','10 State Standards Min'])\n",
        "plt.show()"
      ],
      "execution_count": null,
      "outputs": []
    },
    {
      "cell_type": "markdown",
      "metadata": {
        "id": "jeEorEE1UwV7"
      },
      "source": [
        "#Example: Filter Inlet Channel with Rectangular Weir Flow Distribution"
      ]
    },
    {
      "cell_type": "code",
      "metadata": {
        "id": "MyYpzYxOU5px"
      },
      "source": [
        "def Inlet_Channel_V_Max(H_weir,Ratio_Flow):\n",
        "  return (2 * np.sqrt(u.gravity*H_weir*(1-Ratio_Flow**(2/3))/(1+Ratio_Flow**(2/3)))).to(u.m/u.s)\n",
        "\n",
        "Ratio_Q_graph = np.linspace(0.6,0.95,20)\n",
        "\n",
        "H_weir = 5 * u.cm\n",
        "v_graph = np.empty_like(Ratio_Q_graph) * u.m/u.s\n",
        "for i in range(20):\n",
        "  v_graph[i] = Inlet_Channel_V_Max(H_weir,Ratio_Q_graph[i])\n",
        "\n",
        "plt.plot(Ratio_Q_graph,v_graph)\n",
        "plt.xlabel(r'Flow ratio, $\\Pi_{Q_{weir}}$')\n",
        "plt.ylabel(r'Maximum manifold channel velocity, $ \\bar v_{M_1} \\left(\\frac{m}{s} \\right)$')\n",
        "plt.show()"
      ],
      "execution_count": null,
      "outputs": []
    }
  ]
}