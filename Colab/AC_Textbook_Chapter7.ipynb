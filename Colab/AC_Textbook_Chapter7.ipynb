{
  "nbformat": 4,
  "nbformat_minor": 0,
  "metadata": {
    "colab": {
      "name": "AC_Textbook_Chapter7.ipynb",
      "provenance": [],
      "collapsed_sections": [],
      "authorship_tag": "ABX9TyOgkLNo7gx+6i7BG8UoMUpt",
      "include_colab_link": true
    },
    "kernelspec": {
      "name": "python3",
      "display_name": "Python 3"
    },
    "language_info": {
      "name": "python"
    }
  },
  "cells": [
    {
      "cell_type": "markdown",
      "metadata": {
        "id": "view-in-github",
        "colab_type": "text"
      },
      "source": [
        "<a href=\"https://colab.research.google.com/github/lainey-reed/Textbook/blob/master/Colab/AC_Textbook_Chapter7.ipynb\" target=\"_parent\"><img src=\"https://colab.research.google.com/assets/colab-badge.svg\" alt=\"Open In Colab\"/></a>"
      ]
    },
    {
      "cell_type": "markdown",
      "metadata": {
        "id": "n8laV3aqWYch"
      },
      "source": [
        "# Chapter 7: Rapid Mix\n",
        "\n",
        "All of the code examples in this colab file are from [Chapter 7: Rapid Mix](https://aguaclara.github.io/Textbook/Rapid_Mix/RM_Intro.html)"
      ]
    },
    {
      "cell_type": "code",
      "metadata": {
        "id": "L5ELLZ70Wk-i"
      },
      "source": [
        "!pip install aguaclara"
      ],
      "execution_count": null,
      "outputs": []
    },
    {
      "cell_type": "markdown",
      "metadata": {
        "id": "AAaK87eFWsDL"
      },
      "source": [
        "## Example 1: Maximum Velocity Gradients\n",
        "\n",
        "The example below is from the section [Conventional Mechanical Rapid Mix: Maximum Velocity Gradients](https://aguaclara.github.io/Textbook/Rapid_Mix/RM_Intro.html#maximum-velocity-gradients)"
      ]
    },
    {
      "cell_type": "code",
      "metadata": {
        "id": "cu3z2Pi7XCUY"
      },
      "source": [
        "import numpy as np\n",
        "import matplotlib.pyplot as plt\n",
        "from matplotlib import ticker\n",
        "from aguaclara.core.units import unit_registry as u\n",
        "import aguaclara as ac\n",
        "\n",
        "\n",
        "Mix_HRT = np.array([0.5,15,25,35,85])*u.s\n",
        "Mix_G = np.array([4000,1500,950,850,750])/u.s\n",
        "Mix_CP = np.multiply(Mix_HRT, np.sqrt(Mix_G))\n",
        "Mix_Gt = np.multiply(Mix_HRT, Mix_G)\n",
        "# added line to create temperature variable\n",
        "temperature = 22 * u.degC\n",
        "Mix_EDR = (Mix_G**2*ac.core.physchem.viscosity_kinematic(temperature))\n",
        "\n",
        "fig, ax = plt.subplots()\n",
        "ax.plot(Mix_G.to(1/u.s),Mix_HRT.to(u.s),'o')\n",
        "ax.yaxis.set_major_formatter(ticker.FormatStrFormatter('%.f'))\n",
        "ax.xaxis.set_major_formatter(ticker.FormatStrFormatter('%.f'))\n",
        "ax.set(xlabel='Velocity gradient (Hz)', ylabel='Residence time (s)')\n",
        "\n",
        "#fig.savefig(imagepath+'Mechanical_RM_Gt')\n",
        "plt.show()"
      ],
      "execution_count": null,
      "outputs": []
    },
    {
      "cell_type": "markdown",
      "metadata": {
        "id": "PhvSUDbqYwuA"
      },
      "source": [
        "## Examples: Rapid Mix Design\n",
        "\n",
        "The next two code examples are from the [Rapid Mix Deisign](https://aguaclara.github.io/Textbook/Rapid_Mix/RM_Design.html) section."
      ]
    },
    {
      "cell_type": "code",
      "metadata": {
        "id": "Wb5pRBA4Yw3e"
      },
      "source": [
        "n_points = 50\n",
        "h_e_graph = np.logspace(-1,1,n_points) * u.m\n",
        "\n",
        "v_channel = 0.45 * u.m/u.s\n",
        "def Q_per_mixer(t_eddy):\n",
        "  return (u.gravity * h_e_graph * t_eddy**2 * v_channel).to(u.L/u.s)\n",
        "\n",
        "plt.plot(h_e_graph,Q_per_mixer(1*u.s),linewidth=3)\n",
        "plt.plot(h_e_graph,Q_per_mixer(0.3*u.s),linewidth=3)\n",
        "plt.plot(h_e_graph,Q_per_mixer(0.1*u.s),linewidth=3)\n",
        "plt.xscale(\"log\")\n",
        "plt.yscale(\"log\")\n",
        "plt.xlabel('Head loss (m)')\n",
        "plt.ylabel('Flow rate (L/s)')\n",
        "plt.grid(which='both')\n",
        "plt.legend(['1 s','0.3 s','0.1 s'])\n",
        "plt.gca().yaxis.set_major_formatter(ticker.ScalarFormatter())\n",
        "plt.gca().xaxis.set_major_formatter(ticker.ScalarFormatter())"
      ],
      "execution_count": null,
      "outputs": []
    },
    {
      "cell_type": "code",
      "metadata": {
        "id": "MpwXnJvCaN05"
      },
      "source": [
        "Head_loss_max = 20 * u.cm\n",
        "t_eddy = 0.3 * u.s\n",
        "L_eddy = (t_eddy * np.sqrt(u.gravity * Head_loss_max)).to(u.m)\n",
        "print('The spacing between injection ports is',L_eddy)\n",
        "\n",
        "\n",
        "#expanded velocity\n",
        "v_channel = 0.45 * u.m/u.s\n",
        "Q_per_mixer = (v_channel * L_eddy**2).to(u.L/u.s)\n",
        "print('The flow rate of raw water per chemical injection point is',Q_per_mixer)\n",
        "\n",
        "Q=20000/7 * u.L/u.s #Fairmont design\n",
        "A_channel = Q/v_channel\n",
        "n_ports = (A_channel/L_eddy**2).to(u.dimensionless)\n",
        "print('The number of injection ports is',(np.round(n_ports)).magnitude)\n",
        "\n",
        "Pi_A = np.sqrt(2*u.gravity*Head_loss_max)/v_channel + 1\n",
        "print('The expansion ratio is',Pi_A)\n",
        "v_jet = v_channel * Pi_A\n",
        "w_contraction = L_eddy/Pi_A\n",
        "print('The width of the contractions is',w_contraction)\n",
        "\n",
        "D_cyl = L_eddy - w_contraction\n",
        "print('The diameter of the cylinder is',D_cyl)"
      ],
      "execution_count": null,
      "outputs": []
    },
    {
      "cell_type": "markdown",
      "metadata": {
        "id": "-bWQ8GL9b5Ju"
      },
      "source": [
        "## Rapid Mix Appendix C: Examples\n",
        "\n",
        "The following cells of code are from [Rapid Mix Appendix C: Examples](https://aguaclara.github.io/Textbook/Rapid_Mix/RM_Examples.html)"
      ]
    },
    {
      "cell_type": "markdown",
      "metadata": {
        "id": "lSR7J-PtaiTv"
      },
      "source": [
        "### Example: pH Adjustment\n",
        "\n",
        "This code is from [Example: pH Adjustment](https://aguaclara.github.io/Textbook/Rapid_Mix/RM_Examples.html#example-ph-adjustment)**bold text**"
      ]
    },
    {
      "cell_type": "code",
      "metadata": {
        "id": "EYj26XBJa9DD"
      },
      "source": [
        "from aguaclara.core.units import unit_registry as u\n",
        "import aguaclara.research.environmental_processes_analysis as epa\n",
        "import numpy as np\n",
        "import matplotlib.pyplot as plt\n",
        "import pandas as pd\n",
        "\n",
        "\"\"\"define molecular weights\"\"\"\n",
        "m_Ca = 40.078*u.g/u.mol\n",
        "m_C = 12.011*u.g/u.mol\n",
        "m_O = 15.999*u.g/u.mol\n",
        "m_Na = 22.99*u.g/u.mol\n",
        "m_H = 1.008*u.g/u.mol\n",
        "m_CaCO3 = m_Ca+m_C+3*m_O\n",
        "m_Na2CO3 = 2*m_Na+m_C+3*m_O\n",
        "m_NaHCO3 = m_Na+m_H+m_C+3*m_O\n",
        "m_NaOH = m_Na+m_O+m_H\n",
        "\n",
        "\"\"\"Raw water characteristics\"\"\"\n",
        "pH_0 = 5.91\n",
        "ANC_0 = (24.5 * u.mg/u.L/m_CaCO3).to(u.mmol/u.L)\n",
        "ANC_0\n",
        "\n",
        "def total_carbonates_closed(pH, ANC):\n",
        "    \"\"\"This function calculates total carbonates for a closed system given pH and ANC\n",
        "\n",
        "    Parameters\n",
        "    ----------\n",
        "    pH : float\n",
        "        pH of the sample\n",
        "    ANC: float\n",
        "        acid neutralizing capacity of the sample\n",
        "    Returns\n",
        "    -------\n",
        "    The total carbonates of the sample\n",
        "    Examples\n",
        "    --------\n",
        "    >>> total_carbonates_closed(1*u.mmol/u.L,8)\n",
        "    1.017 mole/liter\n",
        "    \"\"\"\n",
        "    return (ANC - epa.Kw/epa.invpH(pH) + epa.invpH(pH)) / (epa.alpha1_carbonate(pH) + 2 * epa.alpha2_carbonate(pH))\n",
        "\n",
        "\n",
        "CT_0 = total_carbonates_closed(pH_0,ANC_0)\n",
        "\n",
        "\n",
        "\"\"\" calculate the amount of base that must be added to reach a target pH\"\"\"\n",
        "\n",
        "def pH_adjust(pH_0,ANC_0,Pi_base,Pi_CO3,Pi_Al,C_Al,pH_target):\n",
        "  \"\"\"This function calculates the required base (or acid) to adjust the pH to a target value. The buffering capacity is assumed to be completely due to carbonate species. The initial carbonate concentration is calculated based on the initial pH and the initial ANC.\n",
        "\n",
        "  Parameters\n",
        "  ----------\n",
        "  pH_0: float\n",
        "      pH of the sample\n",
        "  ANC_0: float\n",
        "      acid neutralizing capacity (Alkalinity) of the sample in eq/L.\n",
        "  Pi_base: float\n",
        "    equivalents of ANC per mole of base (or acid)\n",
        "  Pi_CO3: float\n",
        "    mole of carbonate per mole of base (or acid)\n",
        "  Pi_Al : float\n",
        "    equivalents of ANC per mole of aluminum coagulant\n",
        "  C_Al\n",
        "    concentration of aluminum coagulant in moles/L\n",
        "  pH_target: float\n",
        "    pH goal\n",
        "  Returns\n",
        "  -------\n",
        "  The required concentration of base (or acid) in millimoles/L\n",
        "  Examples\n",
        "  --------\n",
        "  >>> pH_adjust(5.91,0.2*u.mmol/u.L,1,1,0,0,7)\n",
        "  2.2892822041250924 millimole/liter\n",
        "  >>> pH_adjust(7,0.2*u.mmol/u.L,1,1,0,0,0,0,7)\n",
        "  0.0 millimole/liter\n",
        "  >>> pH_adjust(7,0*u.mmol/u.L,1,0,-3,1*u.mmol/u.L,7)\n",
        "  3.0 millimole/liter\n",
        "  \"\"\"\n",
        "  CT_0 = total_carbonates_closed(pH_0,ANC_0)\n",
        "  B_num = CT_0 * (epa.alpha1_carbonate(pH_target) + 2 * epa.alpha2_carbonate(pH_target)) + epa.Kw/epa.invpH(pH_target) - epa.invpH(pH_target) - ANC_0 - Pi_Al*C_Al\n",
        "  B_den = Pi_base - Pi_CO3*(epa.alpha1_carbonate(pH_target) + 2 * epa.alpha2_carbonate(pH_target))\n",
        "  return (B_num/B_den).to(u.mmol/u.L)\n",
        "\n",
        "\n",
        "\"\"\"target pH\"\"\"\n",
        "pH_target = 7\n",
        "\n",
        "Pi_base_Na2CO3 = 2\n",
        "Pi_CO3_Na2CO3 = 1\n",
        "\n",
        "Pi_base_NaHCO3 = 1\n",
        "Pi_CO3_NaHCO3 = 1\n",
        "\n",
        "Pi_base_NaOH = 1\n",
        "Pi_CO3_NaOH = 0\n",
        "\n",
        "C_Na2CO3 = pH_adjust(pH_0,ANC_0,Pi_base_Na2CO3,Pi_CO3_Na2CO3,0,0,pH_target)\n",
        "\n",
        "C_NaHCO3 = pH_adjust(pH_0,ANC_0,Pi_base_NaHCO3,Pi_CO3_NaHCO3,0,0,pH_target)\n",
        "C_NaOH = pH_adjust(pH_0,ANC_0,Pi_base_NaOH,Pi_CO3_NaOH,0,0,pH_target)\n",
        "\n",
        "\"\"\"Display results in a pandas table\"\"\"\n",
        "base = [\"NaOH\",\"NaHCO3\",\"Na2CO3\"]\n",
        "myindex = [\"[mmoles/L]\",\"[mg/L]\"]\n",
        "row1 = [C_Na2CO3.magnitude,C_NaHCO3.magnitude,C_NaOH.magnitude]\n",
        "row2 = [(C_Na2CO3*m_Na2CO3).to(u.mg/u.L).magnitude,(C_NaHCO3*m_NaHCO3).to(u.mg/u.L).magnitude,(C_NaOH*m_NaOH).to(u.mg/u.L).magnitude]\n",
        "df = pd.DataFrame([row1,row2],index=myindex,columns=base)\n",
        "print(df.round(2))\n",
        "\n",
        "\"\"\"Graph the base concentration required as a function of the target pH\"\"\"\n",
        "pH_graph = np.linspace(6,7,50)\n",
        "C_Na2CO3 = pH_adjust(pH_0,ANC_0,Pi_base_Na2CO3,Pi_CO3_Na2CO3,0,0,pH_graph)\n",
        "C_NaHCO3 = pH_adjust(pH_0,ANC_0,Pi_base_NaHCO3,Pi_CO3_NaHCO3,0,0,pH_graph)\n",
        "C_NaOH = pH_adjust(pH_0,ANC_0,Pi_base_NaOH,Pi_CO3_NaOH,0,0,pH_graph)\n",
        "\n",
        "fig, ax = plt.subplots()\n",
        "\n",
        "ax.plot(pH_graph,C_NaHCO3)\n",
        "ax.plot(pH_graph,C_Na2CO3)\n",
        "ax.plot(pH_graph,C_NaOH)\n",
        "#imagepath = 'Rapid_Mix/Images/'\n",
        "ax.set(xlabel='pH target', ylabel='Base concentration (mmole/L)')\n",
        "ax.legend([\"sodium bicarbonate\",\"sodium carbonate\",\"sodium hydroxide\"])\n",
        "#fig.savefig(imagepath+'mole_base_for_target_pH')\n",
        "plt.show()\n",
        "\n",
        "fig, ax = plt.subplots()\n",
        "ax.plot(pH_graph,(C_Na2CO3*m_Na2CO3).to(u.mg/u.L))\n",
        "ax.plot(pH_graph,(C_NaOH*m_NaOH).to(u.mg/u.L))\n",
        "ax.set(xlabel='pH target', ylabel='Base concentration (mg/L)')\n",
        "ax.legend([\"sodium carbonate\",\"sodium hydroxide\"])\n",
        "#fig.savefig(imagepath+'mg_base_for_target_pH')\n",
        "plt.show()"
      ],
      "execution_count": null,
      "outputs": []
    },
    {
      "cell_type": "markdown",
      "metadata": {
        "id": "X1ENqjaLzioz"
      },
      "source": [
        "### Example: LFOM and Coagulant Injection\n",
        "\n",
        "The following example can be found [here.](https://aguaclara.github.io/Textbook/Rapid_Mix/RM_Examples.html#lfom-and-coagulant-injection-sizing)"
      ]
    },
    {
      "cell_type": "code",
      "metadata": {
        "id": "900qlLctzxLj"
      },
      "source": [
        "from aguaclara.core.units import unit_registry as u\n",
        "import aguaclara.research.environmental_processes_analysis as epa\n",
        "import numpy as np\n",
        "import matplotlib.pyplot as plt\n",
        "import aguaclara.research.floc_model as fm\n",
        "from aguaclara.design.lfom import LFOM\n",
        "from aguaclara.core import pipes\n",
        "\n",
        "#from matplotlib.ticker import FormatStrFormatter\n",
        "#imagepath = 'AguaClara Water Treatment Plant Design/Rapid Mix/Images/'\n",
        "\n",
        "Q_plant = 120 * u.L / u.s\n",
        "HL_LFOM = 20 * u.cm\n",
        "Pi_LFOM_safety = 1.2\n",
        "SDR_LFOM = 26\n",
        "\n",
        "ND_LFOM = LFOM(q=Q_plant,hl=HL_LFOM).pipe_nd\n",
        "print(ND_LFOM, '(',ND_LFOM.to(u.cm), ')')\n",
        "\n",
        "L_flow = pipes.ID_SDR(ND_LFOM,SDR_LFOM)\n",
        "L_flow"
      ],
      "execution_count": null,
      "outputs": []
    },
    {
      "cell_type": "code",
      "metadata": {
        "id": "6yMnvxrMcT4G"
      },
      "source": [
        "LFOM(q=20 * u.L / u.s, hl=20 * u.cm).pipe_nd"
      ],
      "execution_count": null,
      "outputs": []
    },
    {
      "cell_type": "markdown",
      "metadata": {
        "id": "WNKdUVqr1BlF"
      },
      "source": [
        "### Example: Energy dissapation in a straight pipe\n",
        "\n",
        "The following examples can be found [here.](https://aguaclara.github.io/Textbook/Rapid_Mix/RM_Examples.html#example-problem-energy-dissipation-rate-in-a-straight-pipe)"
      ]
    },
    {
      "cell_type": "code",
      "metadata": {
        "id": "tsf9Xo4a1Tjp"
      },
      "source": [
        "import aguaclara.core.pipes as pipes\n",
        "import aguaclara.core.physchem as pc\n",
        "from aguaclara.core.units import unit_registry as u\n",
        "import aguaclara.core.materials as mat\n",
        "T_water=0*u.degC\n",
        "Pipe_roughness = mat.PVC_PIPE_ROUGH\n",
        "Pipe_roughness\n",
        "Nu_water = pc.viscosity_kinematic(T_water)\n",
        "Q_pipe = 120 * u.L/u.s\n",
        "ND_pipe = 24*u.inch\n",
        "SDR_pipe = 26\n",
        "ID_pipe = pipes.Pipe(ND_pipe,SDR_pipe).id_sdr\n",
        "f_pipe = pc.fric(Q_pipe,ID_pipe,Nu_water,Pipe_roughness)\n",
        "N_pipe_diameters = (2/f_pipe)**(1/3)\n",
        "N_pipe_diameters\n",
        "\"\"\"The minimum length for mixing is thus\"\"\"\n",
        "L_mixing = ID_pipe*N_pipe_diameters\n",
        "print('The minimum distance required for mixing across the diameter of the pipe is ',L_mixing.to_base_units())\n",
        "v_lfom = (Q_plant/pc.area_circle(pipes.Pipe(ND_LFOM,SDR_LFOM).id_sdr)).to_base_units()\n",
        "print(v_lfom)\n",
        "t_mixing = (L_mixing/v_lfom).to(u.s)\n",
        "t_mixing"
      ],
      "execution_count": null,
      "outputs": []
    },
    {
      "cell_type": "code",
      "metadata": {
        "id": "Fly3_gop3GDZ"
      },
      "source": [
        "C_PACl_stock = 70 *u.g/u.L\n",
        "C_PACl_dose_max = 10 * u.mg/u.L\n",
        "Q_PACl_max = (Q_plant*C_PACl_dose_max/C_PACl_stock).to(u.mL/u.s)\n",
        "print(Q_PACl_max)"
      ],
      "execution_count": null,
      "outputs": []
    },
    {
      "cell_type": "code",
      "metadata": {
        "id": "gO_quuJh4HpS"
      },
      "source": [
        "HL_Coag_injection = 2 * u.cm\n",
        "v_Coag_injection = ((2 * u.gravity * HL_Coag_injection)**0.5).to(u.m/u.s)\n",
        "print(v_Coag_injection)\n",
        "D_Coag_injection_min = pc.diam_circle(Q_PACl_max/v_Coag_injection)\n",
        "print(D_Coag_injection_min.to(u.mm))"
      ],
      "execution_count": null,
      "outputs": []
    },
    {
      "cell_type": "markdown",
      "metadata": {
        "id": "KMbTie3N4OCr"
      },
      "source": [
        "## Rapid Mix Theory and Future Work\n",
        "\n",
        "The following examples are from the section [Rapid Mix Theory and Future Work](https://aguaclara.github.io/Textbook/Rapid_Mix/RM_Theory_and_Future_Work.html)"
      ]
    },
    {
      "cell_type": "markdown",
      "metadata": {
        "id": "yOFKIy8o4dDG"
      },
      "source": [
        "### Example: Diffusion Band Thickness vs Velocity Gradient\n",
        "\n",
        "This code can be found at the subsection [Diffustion band thickness](https://aguaclara.github.io/Textbook/Rapid_Mix/RM_Theory_and_Future_Work.html#diffusion-band-thickness)"
      ]
    },
    {
      "cell_type": "code",
      "metadata": {
        "id": "xLb8eJza5gs0"
      },
      "source": [
        "import aguaclara.core.physchem as pc\n",
        "from aguaclara.core.units import unit_registry as u\n",
        "import aguaclara.research.floc_model as fm\n",
        "import numpy as np\n",
        "import matplotlib.pyplot as plt\n",
        "\n",
        "\"\"\"I needed to attach units to material properties due to a bug in floc_model. This will need to be fixed when floc_model is updated.\"\"\"\n",
        "#imagepath = 'Rapid_Mix/Images/'\n",
        "T_graph = np.linspace(0,30,4)*u.degC\n",
        "G = np.arange(50,5000,50)*u.Hz\n",
        "\n",
        "def L_Diff(Temperature,G):\n",
        "  return (((2*u.boltzmann_constant*Temperature * fm.Clay.Diameter*u.m)/(3 * np.pi *pc.viscosity_dynamic_water(Temperature)* (fm.PACl.Diameter*u.m)*G))**(1/3)).to_base_units()\n",
        "\n",
        "fig, ax = plt.subplots()\n",
        "for i in range(len(T_graph)):\n",
        "  ax.semilogx(G,L_Diff(T_graph[i],G).to(u.nm))\n",
        "\n",
        "ax.legend([*T_graph])\n",
        "\"\"\"* is used to unpack T_graph so that units are preserved when adding another legend item.\"\"\"\n",
        "\n",
        "\n",
        "ax.set(xlabel='Velocity gradient (Hz)', ylabel='Diffusion band thickness ($nm$)')\n",
        "#fig.savefig(imagepath+'Diffusion_band_thickness')\n",
        "plt.show()"
      ],
      "execution_count": null,
      "outputs": []
    },
    {
      "cell_type": "markdown",
      "metadata": {
        "id": "7mgtmJ0y5y4U"
      },
      "source": [
        "### Example: Nanoparticle attachment time vs Velocity Gradient\n",
        "\n",
        "The following code can be found in the subsection [Coagulant nanoparticle application](https://aguaclara.github.io/Textbook/Rapid_Mix/RM_Theory_and_Future_Work.html#coagulant-nanoparticle-application)"
      ]
    },
    {
      "cell_type": "code",
      "metadata": {
        "id": "FiqAt0PF6L1t"
      },
      "source": [
        "import aguaclara.core.physchem as pc\n",
        "from aguaclara.core.units import unit_registry as u\n",
        "import aguaclara.research.floc_model as fm\n",
        "import numpy as np\n",
        "import matplotlib.pyplot as plt\n",
        "\"\"\"I needed to attach units to material properties due to a bug in floc_model. This will need to be fixed when floc_model is updated.\"\"\"\n",
        "\n",
        "#imagepath = 'Rapid_Mix/Images/'\n",
        "\n",
        "# conventional mechanical design values below\n",
        "Mix_HRT = np.array([0.5,15,25,35,85])*u.s\n",
        "Mix_G = np.array([4000,1500,950,850,750])/u.s\n",
        "Mix_CP = np.multiply(Mix_HRT, np.sqrt(Mix_G))\n",
        "Mix_Gt = np.multiply(Mix_HRT, Mix_G)\n",
        "Temperature= 20 * u.degC\n",
        "Mix_EDR = (Mix_G**2*pc.viscosity_kinematic_water(Temperature))\n",
        "\n",
        "def Nano_coag_attach_time(pC_CN,C_clay,G,Temperature):\n",
        "  \"\"\"We assume that 70% of nanoparticles attach in the average time for one collision.\"\"\"\n",
        "  k_nano = 1-np.exp(-1)\n",
        "  num=2.3*pC_CN*(fm.sep_dist_clay(C_clay,fm.Clay))**2\n",
        "  den = np.pi * G* k_nano * fm.Clay.Diameter*u.m * L_Diff(Temperature,G)\n",
        "  return (num/den).to_base_units()\n",
        "\n",
        "C_Al = 2 * u.mg/u.L\n",
        "C_clay = 10 * u.NTU\n",
        "pC_CN = -np.log10(1-0.8)\n",
        "\"\"\"apply 80% of the coagulant nanoparticles to the clay\"\"\"\n",
        "\n",
        "G = np.arange(50,5000,10)*u.Hz\n",
        "\n",
        "fig, ax = plt.subplots()\n",
        "\n",
        "for i in range(len(T_graph)):\n",
        "  ax.semilogx(G,Nano_coag_attach_time(pC_CN,C_clay,G,T_graph[i]))\n",
        "\n",
        "ax.semilogx(Mix_G.to(1/u.s),Mix_HRT.to(u.s),'o')\n",
        "ax.legend([*T_graph, \"Conventional rapid mix\"])\n",
        "\"\"\"* is used to unpack T_graph so that units are preserved when adding another legend item.\"\"\"\n",
        "\n",
        "\n",
        "ax.set(xlabel='Velocity gradient (Hz)', ylabel='Nanoparticle attachment time (s)')\n",
        "#fig.savefig(imagepath+'Coag_attach_time')\n",
        "plt.show()"
      ],
      "execution_count": null,
      "outputs": []
    },
    {
      "cell_type": "markdown",
      "metadata": {
        "id": "9UJmCFyc6o1Z"
      },
      "source": [
        "### Examples: Energy Tradeoff for Coagulant Transport\n",
        "\n",
        "The next two examples can be found [here.](https://aguaclara.github.io/Textbook/Rapid_Mix/RM_Theory_and_Future_Work.html#energy-tradeoff-for-coagulant-transport)"
      ]
    },
    {
      "cell_type": "code",
      "metadata": {
        "id": "lSrjJEAT6-Gd"
      },
      "source": [
        "from aguaclara.core.units import unit_registry as u\n",
        "import aguaclara.research.floc_model as fm\n",
        "import numpy as np\n",
        "import aguaclara.core.constants as constants\n",
        "import aguaclara.core.physchem as pc\n",
        "import matplotlib.pyplot as plt\n",
        "\n",
        "Temperature=20* u.degC\n",
        "Nano_attach_time = Nano_coag_attach_time(pC_CN,C_clay,G,Temperature)\n",
        "\n",
        "def HL_coag_attach(pC_CN,C_clay,G,Temperature):\n",
        "  return ((G**2)*pc.viscosity_kinematic_water(Temperature)*Nano_attach_time/(1*u.gravity))\n",
        "\n",
        "fig, ax = plt.subplots()\n",
        "\n",
        "for i in range(len(T_graph)):\n",
        "  ax.loglog(G,HL_coag_attach(pC_CN,C_clay,G,T_graph[i]))\n",
        "\n",
        "ax.legend(T_graph)\n",
        "\n",
        "ax.set(xlabel='Velocity gradient (Hz)', ylabel='Head loss (cm)')\n",
        "#fig.savefig(imagepath+'Coag_attach_head_loss')\n",
        "plt.show()"
      ],
      "execution_count": null,
      "outputs": []
    },
    {
      "cell_type": "code",
      "metadata": {
        "id": "6cWi2zks8tiD"
      },
      "source": [
        "import aguaclara.core.physchem as pc\n",
        "from aguaclara.core.units import unit_registry as u\n",
        "import aguaclara.research.floc_model as fm\n",
        "import numpy as np\n",
        "import matplotlib.pyplot as plt\n",
        "\"\"\"find G for target head loss\"\"\"\n",
        "HL_nano_transport = np.linspace(10,100,10)*u.cm\n",
        "def G_max_head_loss(pC_CN,C_clay,HL_nano_transport,Temperature):\n",
        "  k_nano = 1-np.exp(-1)\n",
        "  num = u.gravity * HL_nano_transport * np.pi * k_nano\n",
        "  den= 2.3 * pC_CN * (fm.sep_dist_clay(C_clay,fm.Clay))**2 * pc.viscosity_kinematic_water(Temperature)\n",
        "  num2 = 2 * u.boltzmann_constant * Temperature\n",
        "  den2 = 3 * np.pi * pc.viscosity_dynamic_water(Temperature) * (fm.PACl.Diameter*u.m)\n",
        "  return fm.Clay.Diameter*u.m*((((num/den)**(3) * (num2/den2)).to_base_units())**(1/4))\n",
        "\n",
        "\"\"\"Note the use of to_base_units BEFORE raising to the fractional power. This prevents a rounding error in the unit exponent.\"\"\"\n",
        "\n",
        "G_max = G_max_head_loss(pC_CN,C_clay,50*u.cm,Temperature)\n",
        "print(G_max)\n",
        "\n",
        "\"\"\"The time required?\"\"\"\n",
        "Nano_attach_time = Nano_coag_attach_time(pC_CN,C_clay,G_max,Temperature)\n",
        "print(Nano_attach_time)\n",
        "print(G_max*Nano_attach_time)"
      ],
      "execution_count": null,
      "outputs": []
    },
    {
      "cell_type": "markdown",
      "metadata": {
        "id": "ZMZdccpj9FuB"
      },
      "source": [
        "## Rapid Mix Mechanical Solution\n",
        "\n",
        "The next code examples are from the [Rapid Mix Design Challenge](https://aguaclara.github.io/Textbook/Rapid_Mix/RM_Mechanical_Solution.html)"
      ]
    },
    {
      "cell_type": "code",
      "metadata": {
        "id": "iQyz-6oO9Qjo"
      },
      "source": [
        "import aguaclara.core.physchem as pc\n",
        "from aguaclara.core.units import unit_registry as u\n",
        "import aguaclara.core.utility as ut\n",
        "import numpy as np\n",
        "import matplotlib.pyplot as plt"
      ],
      "execution_count": null,
      "outputs": []
    },
    {
      "cell_type": "code",
      "metadata": {
        "id": "KrQbKPFS9Trz"
      },
      "source": [
        "GraphTempArray =  np.linspace(0,35)*u.degC\n",
        "GraphKinematicViscosity=pc.viscosity_kinematic_water(GraphTempArray)\n",
        "fig, ax = plt.subplots()\n",
        "ax.plot(GraphTempArray, GraphKinematicViscosity.to(u.mm**2/u.s), 'r-')\n",
        "ax.set(xlabel='Temperature (degrees Celcius)')\n",
        "ax.set(ylabel='Kinematic viscosity (mm^2/s)')\n",
        "#fig.savefig('Rapid_Mix/Images/Kinematic_vs_T')\n",
        "plt.show()"
      ],
      "execution_count": null,
      "outputs": []
    },
    {
      "cell_type": "code",
      "metadata": {
        "id": "o25pKAfQ9dPu"
      },
      "source": [
        "FlowPlant = 50*(u.L/u.s)\n",
        "t = 15 * u.s\n",
        "G = 1500 * 1/(u.s)\n",
        "\n",
        "def rapid_mix_shaft_power(Flow,VelocityGradient,time,Temp):\n",
        "    power = ((VelocityGradient**2) * Flow * time * pc.viscosity_kinematic_water(Temp) * pc.density_water(Temp))\n",
        "    return power\n",
        "\n",
        "\n",
        "ShaftPower = rapid_mix_shaft_power(FlowPlant,G,t,GraphTempArray)\n",
        "\n",
        "fig, ax = plt.subplots()\n",
        "ax.plot(GraphTempArray, ShaftPower.to(u.kW), 'r-')\n",
        "ax.set(xlabel='Temperature (degrees Celcius)')\n",
        "ax.set(ylabel='shaft power required (kW)')\n",
        "#fig.savefig('Rapid_Mix/Images/Shaft_Power')\n",
        "plt.show()"
      ],
      "execution_count": null,
      "outputs": []
    },
    {
      "cell_type": "code",
      "metadata": {
        "id": "IAoPyhsK9tRB"
      },
      "source": [
        "TempDesign = u.Quantity(0, u.degC)\n",
        "\n",
        "RapidMixShaftPower = rapid_mix_shaft_power(FlowPlant,G,t,TempDesign).to(u.hp)\n",
        "print('The required shaft power is', RapidMixShaftPower)"
      ],
      "execution_count": null,
      "outputs": []
    },
    {
      "cell_type": "code",
      "metadata": {
        "id": "iccuk41t91Fz"
      },
      "source": [
        "ElevDrop = (RapidMixShaftPower/ (FlowPlant * pc.density_water(TempDesign) * u.gravity)).to(u.m)\n",
        "print('The equivalent height is',  ElevDrop)"
      ],
      "execution_count": null,
      "outputs": []
    },
    {
      "cell_type": "code",
      "metadata": {
        "id": "nhp0DVic-B3K"
      },
      "source": [
        "import pandas as pd\n",
        "#We use a pandas dataframe (df) to hold the data from the excel sheet.\n",
        "#MotorEfficiencydf = pd.read_excel('motor_efficiency.xlsx')\n",
        "\n",
        "d = {\n",
        "    \"Horsepower\": pd.Series([0.25,0.3333,0.5,0.75,1,1.5,2,3,5,7.5,10,15,25,50,100,200],index=[0,1,2,3,4,5,6,7,8,9,10,11,12,13,14,15]),\n",
        "    \"Premium Efficiency\": pd.Series([64,68,71,75.5,82.5,82.5,84,86,89.6,90,91.1,91.7,93,94.1,95,95.8],index=[0,1,2,3,4,5,6,7,8,9,10,11,12,13,14,15]),\n",
        "\n",
        "}\n",
        "\n",
        "MotorEfficiencydf = pd.DataFrame(d)\n",
        "\n",
        "print(MotorEfficiencydf)\n",
        "\n",
        "MotorHpArray = np.array(MotorEfficiencydf['Horsepower'])*u.horsepower\n",
        "MotorEfficiencyArray = np.array(MotorEfficiencydf['Premium Efficiency'])/100\n",
        "\n",
        "MotorHpArray\n"
      ],
      "execution_count": null,
      "outputs": []
    },
    {
      "cell_type": "code",
      "metadata": {
        "id": "UEXCZ31D_hHl"
      },
      "source": [
        "MotorDesign = ut.ceil_nearest(RapidMixShaftPower,MotorHpArray)\n",
        "print('The rapid mix motor has',  MotorDesign)"
      ],
      "execution_count": null,
      "outputs": []
    },
    {
      "cell_type": "code",
      "metadata": {
        "id": "7bB7njbF_j1y"
      },
      "source": [
        "MotorIndex=(np.where(MotorEfficiencydf['Horsepower'] == MotorDesign.magnitude))[0][0]\n",
        "MotorIndex"
      ],
      "execution_count": null,
      "outputs": []
    },
    {
      "cell_type": "code",
      "metadata": {
        "id": "D5Xan45W_oHX"
      },
      "source": [
        "#Examplefor how to use .get_value to return an element by calling on row index and column heading\n",
        "MotorEfficiency=(MotorEfficiencydf.loc[MotorIndex, 'Premium Efficiency'])/100\n",
        "\n",
        "#-------------------------------------------Your code below-------------------------------------\n",
        "\n",
        "print(MotorEfficiencyArray[MotorIndex])\n",
        "\n",
        "print('The motor efficiency is ',MotorEfficiency,'.')"
      ],
      "execution_count": null,
      "outputs": []
    },
    {
      "cell_type": "code",
      "metadata": {
        "id": "Wyub0oW6BFHt"
      },
      "source": [
        "COST_MOTOR = 714.64 * u.USD\n",
        "print('The cost of the motor is', COST_MOTOR)"
      ],
      "execution_count": null,
      "outputs": []
    },
    {
      "cell_type": "code",
      "metadata": {
        "id": "YkUI7CpyBIkC"
      },
      "source": [
        "from google.colab import files\n",
        "import pandas as pd\n",
        "uploaded = files.upload()\n",
        "\n",
        "import io\n",
        "\n",
        "ElectricityCostdata = pd.read_csv(io.BytesIO(uploaded['Average_retail_price_of_electricity_monthly.csv']),header=4,nrows=12)\n",
        "\n",
        "#ElectricityCostdata = pd.read_csv('Average_retail_price_of_electricity_monthly.csv',header=4,nrows=12)\n",
        "#ElectricityCostdata"
      ],
      "execution_count": null,
      "outputs": []
    },
    {
      "cell_type": "code",
      "metadata": {
        "id": "nncam7WwEYcV"
      },
      "source": [
        "ElectricityRate = np.average(np.array(ElectricityCostdata['commercial cents per kilowatthour']))/100*u.USD/(u.kWh)\n",
        "print('The New York State commercial electricity cost for the past year was ',ElectricityRate)"
      ],
      "execution_count": null,
      "outputs": []
    },
    {
      "cell_type": "code",
      "metadata": {
        "id": "boIVOsdOEZcy"
      },
      "source": [
        "print ('The price of electricity is', ElectricityRate.to(u.USD/u.GJ))"
      ],
      "execution_count": null,
      "outputs": []
    },
    {
      "cell_type": "code",
      "metadata": {
        "id": "3JdNPmgiEbvG"
      },
      "source": [
        "PowerElectricity = (rapid_mix_shaft_power(FlowPlant,G,t,TempDesign)/MotorEfficiency).to(u.kW)\n",
        "print ('The power required by the motor is', PowerElectricity)"
      ],
      "execution_count": null,
      "outputs": []
    },
    {
      "cell_type": "code",
      "metadata": {
        "id": "VFULuIx_EfHm"
      },
      "source": [
        "rapid_mix_shaft_power(FlowPlant,G,t,TempDesign).to(u.hp)"
      ],
      "execution_count": null,
      "outputs": []
    },
    {
      "cell_type": "code",
      "metadata": {
        "id": "H62VQXODEjyn"
      },
      "source": [
        "RMElectricityCost = (PowerElectricity*ElectricityRate).to(u.USD/u.year)\n",
        "print ('The cost of electricity to operate the rapid mix unit is', RMElectricityCost)\n",
        "\n",
        "print(PowerElectricity)\n",
        "print(ElectricityRate)"
      ],
      "execution_count": null,
      "outputs": []
    },
    {
      "cell_type": "code",
      "metadata": {
        "id": "TFup2VQLEp1K"
      },
      "source": [
        "YR25Electricity = RMElectricityCost*(25*u.year)\n",
        "print ('The cumulative energy costs for a period of 25 years is', YR25Electricity)"
      ],
      "execution_count": null,
      "outputs": []
    },
    {
      "cell_type": "markdown",
      "metadata": {
        "id": "lOWRymeTEw2A"
      },
      "source": [
        "## Rapid Mix Design Solution\n",
        "\n",
        "The following examples are from the subsection [Rapid Mix Design Solution](https://aguaclara.github.io/Textbook/Rapid_Mix/RM_Design_Solution.html#rapid-mix-design-solution)"
      ]
    },
    {
      "cell_type": "code",
      "metadata": {
        "id": "qt52Q_cjFNxs"
      },
      "source": [
        "import aguaclara.core.physchem as pc\n",
        "from aguaclara.core.units import unit_registry as u\n",
        "import aguaclara.core.constants as con\n",
        "import numpy as np\n",
        "import matplotlib.pyplot as plt"
      ],
      "execution_count": null,
      "outputs": []
    },
    {
      "cell_type": "code",
      "metadata": {
        "id": "S_eMUbTWFRfR"
      },
      "source": [
        "DiamJet = 10*u.cm\n",
        "VelJet = 1*(u.m/u.s)\n",
        "\n",
        "def energy_dissipation_rate(x, Diam, Velocity):\n",
        "\n",
        "    dissipation = (50 * Diam**3 * Velocity**3 / ((x - (2 * Diam))**4))\n",
        "    return dissipation.to(u.m**2/(u.s**3))\n",
        "\n",
        "DistanceDownstream = (np.array(np.linspace(7,20,100))*DiamJet).to(u.m)\n",
        "\n",
        "print(energy_dissipation_rate(DistanceDownstream, DiamJet, VelJet)[1])\n",
        "fig, ax = plt.subplots()\n",
        "ax.plot(DistanceDownstream, energy_dissipation_rate(DistanceDownstream, DiamJet, VelJet), 'r-')\n",
        "ax.set(xlabel='Distance from jet origin (m)')\n",
        "ax.set(ylabel='Energy dissipation rate (W/kg)')\n",
        "#fig.savefig('Rapid_Mix/Images/Energy_dissipation_rate_vs_Distance_from_jet_origin')\n",
        "plt.show()"
      ],
      "execution_count": null,
      "outputs": []
    }
  ]
}