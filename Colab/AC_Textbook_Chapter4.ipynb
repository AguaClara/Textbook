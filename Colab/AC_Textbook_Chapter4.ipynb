{
  "nbformat": 4,
  "nbformat_minor": 0,
  "metadata": {
    "colab": {
      "name": "AC_Textbook_Chapter4.ipynb",
      "provenance": [],
      "include_colab_link": true
    },
    "kernelspec": {
      "name": "python3",
      "display_name": "Python 3"
    },
    "language_info": {
      "name": "python"
    }
  },
  "cells": [
    {
      "cell_type": "markdown",
      "metadata": {
        "id": "view-in-github",
        "colab_type": "text"
      },
      "source": [
        "<a href=\"https://colab.research.google.com/github/lainey-reed/Textbook/blob/master/Colab/AC_Textbook_Chapter4.ipynb\" target=\"_parent\"><img src=\"https://colab.research.google.com/assets/colab-badge.svg\" alt=\"Open In Colab\"/></a>"
      ]
    },
    {
      "cell_type": "markdown",
      "metadata": {
        "id": "dzFk4mw1Wy1A"
      },
      "source": [
        "# Chapter 4: Fluid Deformaton and Energy Derivations\n",
        "\n",
        "This Colab file contains examples from [Chapter 4 of the Aguaclara textbook](https://aguaclara.github.io/Textbook/Fluid_Deformation_and_Energy_Dissipation/FDED_Intro.html)"
      ]
    },
    {
      "cell_type": "code",
      "metadata": {
        "id": "FgExxlx1Wk8g",
        "collapsed": true
      },
      "source": [
        "!pip install aguaclara "
      ],
      "execution_count": null,
      "outputs": []
    },
    {
      "cell_type": "markdown",
      "metadata": {
        "id": "imFF0qC8boif"
      },
      "source": [
        "## Estimates of time required for mixing processes\n",
        "\n",
        "The following examples are all from [Chapter 4: Fluid Deormation and Energy Dissapation Derivations: Estimates of time required for mixing processes](https://aguaclara.github.io/Textbook/Fluid_Deformation_and_Energy_Dissipation/FDED_Derivations.html#estimates-of-time-required-for-mixing-processes)"
      ]
    },
    {
      "cell_type": "markdown",
      "metadata": {
        "id": "oizJutoQXBnU"
      },
      "source": [
        "### Example 1: Inner Viscous Legnth Scale vs Energy Dissapation Rate\n",
        "\n",
        "The following example is from the section titled [Inner Viscous Length Scale](https://aguaclara.github.io/Textbook/Fluid_Deformation_and_Energy_Dissipation/FDED_Derivations.html#inner-viscous-length-scale)\n",
        "\n"
      ]
    },
    {
      "cell_type": "code",
      "metadata": {
        "id": "c1i093Lsax_u",
        "collapsed": true
      },
      "source": [
        "from aguaclara.core.units import unit_registry as u\n",
        "import aguaclara.core.utility as ut\n",
        "import numpy as np\n",
        "import matplotlib.pyplot as plt\n",
        "import aguaclara.research.floc_model as fm\n",
        "\n",
        "from matplotlib.ticker import FormatStrFormatter\n",
        "imagepath = 'Rapid_Mix/Images/'\n",
        "EDR_array = np.logspace(0,4,num=50)*u.mW/u.kg\n",
        "Temperature = 20*u.degC\n",
        "def Inner_viscous(EDR, Temperature):\n",
        "    return fm.RATIO_KOLMOGOROV * fm.eta_kolmogorov(EDR, Temperature)\n",
        "\n",
        "fig, ax = plt.subplots()\n",
        "ax.semilogx(EDR_array.to(u.mW/u.kg),Inner_viscous(EDR_array, Temperature).to(u.mm))\n",
        "ax.yaxis.set_major_formatter(FormatStrFormatter('%.f'))\n",
        "ax.xaxis.set_major_formatter(FormatStrFormatter('%.f'))\n",
        "ax.set(xlabel='Energy dissipation rate (W/kg)', ylabel='Inner viscous length scale (mm)')\n",
        "ax.text(30, 4, 'Eddies cause mixing', fontsize=12,rotation=-30)\n",
        "ax.text(1, 1, 'Shear and diffusion cause mixing', fontsize=12,rotation=-30)\n",
        "plt.show()"
      ],
      "execution_count": null,
      "outputs": []
    },
    {
      "cell_type": "markdown",
      "metadata": {
        "id": "4zUMlZy8bR1Z"
      },
      "source": [
        "### Example 2: Eddy Turnover Time v Length\n",
        "\n",
        "The following example is from [Turbulent Mixing Time as a Function of Scale](https://aguaclara.github.io/Textbook/Fluid_Deformation_and_Energy_Dissipation/FDED_Derivations.html#turbulent-mixing-time-as-a-function-of-scale)"
      ]
    },
    {
      "cell_type": "code",
      "metadata": {
        "id": "L2MBnqnlbZnZ"
      },
      "source": [
        "from aguaclara.core.units import unit_registry as u\n",
        "import aguaclara.core.utility as ut\n",
        "import numpy as np\n",
        "import matplotlib.pyplot as plt\n",
        "import aguaclara.research.floc_model as fm\n",
        "EDR_graph = np.array([0.01,0.1,1,10 ])*u.W/u.kg\n",
        "\"\"\"Use the highest EDR to estimate the smallest length scale\"\"\"\n",
        "Inner_viscous_graph = Inner_viscous(EDR_graph[2], Temperature)\n",
        "Inner_viscous_graph\n",
        "L_flow = 0.5*u.m\n",
        "L_scale = np.logspace(np.log10(Inner_viscous_graph.magnitude),np.log10(L_flow.magnitude),50)\n",
        "L_scale\n",
        "imagepath = 'Rapid_Mix/Images/'\n",
        "fig, ax = plt.subplots()\n",
        "for i in range(len(EDR_graph)):\n",
        "  ax.semilogx(L_scale,((L_scale**2/EDR_graph[i])**(1/3)).to_base_units())\n",
        "\n",
        "ax.legend(EDR_graph)\n",
        "\n",
        "#ax.yaxis.set_major_formatter(FormatStrFormatter('%.f'))\n",
        "#ax.xaxis.set_major_formatter(FormatStrFormatter('%.f'))\n",
        "ax.set(xlabel='Length (m)', ylabel='Eddy turnover time (s)')\n",
        "plt.show()"
      ],
      "execution_count": null,
      "outputs": []
    },
    {
      "cell_type": "markdown",
      "metadata": {
        "id": "Wdvqa0VCchaD"
      },
      "source": [
        "### Example 3: Length Scale v Velocity Gradient\n",
        "The following example is from [Einstein's Diffusion Equation](https://aguaclara.github.io/Textbook/Fluid_Deformation_and_Energy_Dissipation/FDED_Derivations.html#einsteins-diffusion-equation) "
      ]
    },
    {
      "cell_type": "code",
      "metadata": {
        "id": "cq3JeCP8czH3"
      },
      "source": [
        "import aguaclara.core.physchem as pc\n",
        "import aguaclara.research.floc_model as fm\n",
        "def L_Shear_Diffusion(G,Temperature,d_particle):\n",
        "  return np.sqrt((u.boltzmann_constant*Temperature/\n",
        "  (3 * G *  np.pi *pc.viscosity_dynamic_water(Temperature)* d_particle)).to_base_units())\n",
        "\n",
        "G = np.arange(10,5000)*u.Hz\n",
        "d_particle = fm.PACl.Diameter*u.m\n",
        "Temperature=20*u.degC\n",
        "# Changed x unit call to remove error\n",
        "x = (L_Shear_Diffusion(G,Temperature,d_particle)).to(u.nm ** .5)\n",
        "fig, ax = plt.subplots()\n",
        "ax.semilogx(G,x)\n",
        "ax.set(xlabel='Velocity gradient (Hz)', ylabel='Length scale (nm)')\n",
        "plt.show()"
      ],
      "execution_count": null,
      "outputs": []
    },
    {
      "cell_type": "markdown",
      "metadata": {
        "id": "WQtdrsP9egHB"
      },
      "source": [
        "## Maximum Velocity Gradients\n",
        "\n",
        "The following examples are from the subchapter [Fluid Deformaton and Energy Dissapation Derivations: Maximum Velociy Gradients](https://aguaclara.github.io/Textbook/Fluid_Deformation_and_Energy_Dissipation/FDED_Derivations.html#maximum-velocity-gradients)"
      ]
    },
    {
      "cell_type": "markdown",
      "metadata": {
        "id": "IRCi0Kjge0Ma"
      },
      "source": [
        "### Example 4: Ratio Jet Plane\n",
        "\n",
        "This example is from the [Jet Plane](https://aguaclara.github.io/Textbook/Fluid_Deformation_and_Energy_Dissipation/FDED_Derivations.html#plane-jet) section."
      ]
    },
    {
      "cell_type": "code",
      "metadata": {
        "id": "5gan9kjde8k0"
      },
      "source": [
        "import aguaclara.core.constants as con\n",
        "VC_BAFFLE_RATIO=con.VC_ORIFICE_RATIO**2\n",
        "K_MINOR_FLOC_BAFFLE = (1/VC_BAFFLE_RATIO - 1)**2\n",
        "Ratio_Jet_Plane = 2*con.VC_ORIFICE_RATIO**8 * K_MINOR_FLOC_BAFFLE/2/5\n",
        "Ratio_Jet_Plane\n",
        "\n",
        "VC_BAFFLE_RATIO**4*K_MINOR_FLOC_BAFFLE/Ratio_Jet_Plane"
      ],
      "execution_count": null,
      "outputs": []
    },
    {
      "cell_type": "markdown",
      "metadata": {
        "id": "juEleCKZLNuk"
      },
      "source": [
        "### Example 5: Flat Plate\n",
        "\n",
        "This example is from the [Flat Plate](https://aguaclara.github.io/Textbook/Fluid_Deformation_and_Energy_Dissipation/FDED_Derivations.html#plane-jet) section."
      ]
    },
    {
      "cell_type": "code",
      "metadata": {
        "id": "Qt4XiIYYLa_Y"
      },
      "source": [
        "\"\"\"CFD analysis setup used by Ariane Walker-Horn in 2015\"\"\"\n",
        "from aguaclara.core.units import unit_registry as u\n",
        "EDR_Max = 0.04*u.W/u.kg\n",
        "v = 1*u.m/u.s\n",
        "W = 1*u.m\n",
        "Ratio_Jet_Plate = (EDR_Max * W/v**3).to_base_units()\n",
        "print(Ratio_Jet_Plate)"
      ],
      "execution_count": null,
      "outputs": []
    }
  ]
}