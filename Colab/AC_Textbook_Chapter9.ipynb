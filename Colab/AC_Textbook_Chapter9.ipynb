{
  "nbformat": 4,
  "nbformat_minor": 0,
  "metadata": {
    "colab": {
      "name": "AC_Textbook_Chapter9.ipynb",
      "provenance": [],
      "include_colab_link": true
    },
    "kernelspec": {
      "name": "python3",
      "display_name": "Python 3"
    },
    "language_info": {
      "name": "python"
    }
  },
  "cells": [
    {
      "cell_type": "markdown",
      "metadata": {
        "id": "view-in-github",
        "colab_type": "text"
      },
      "source": [
        "<a href=\"https://colab.research.google.com/github/AguaClara/Textbook/blob/master/Colab/AC_Textbook_Chapter9.ipynb\" target=\"_parent\"><img src=\"https://colab.research.google.com/assets/colab-badge.svg\" alt=\"Open In Colab\"/></a>"
      ]
    },
    {
      "cell_type": "markdown",
      "metadata": {
        "id": "IcEtbrliXYjw"
      },
      "source": [
        "#Chapter 9: Sedimentation\n",
        "\n",
        "This is a corresponding Colab document for the ninth chapter of the AguaClara textbook."
      ]
    },
    {
      "cell_type": "code",
      "metadata": {
        "id": "zIWjstKkXf8m"
      },
      "source": [
        "!pip install aguaclara"
      ],
      "execution_count": null,
      "outputs": []
    },
    {
      "cell_type": "markdown",
      "metadata": {
        "id": "CNOrNPhrYL9h"
      },
      "source": [
        "#Example: Optimizing the transition from the flocculator to floc blanket"
      ]
    },
    {
      "cell_type": "code",
      "metadata": {
        "id": "fMlmtxm_YWJY"
      },
      "source": [
        "import aguaclara.core.physchem as pc\n",
        "from aguaclara.core.units import unit_registry as u\n",
        "\n",
        "import numpy as np\n",
        "import matplotlib.pyplot as plt\n",
        "#I played with the velocity gradient to get a reasonable head loss of 50 cm.\n",
        "G_CS = 123 * u.Hz\n",
        "density_clay = 2650 * u.kg/u.m**3\n",
        "#From William's research the k for flocculator is 0.03. We need to confirm that this value is correct.\n",
        "k = 0.03\n",
        "# It isn't clear what value should be used for alpha\n",
        "alpha = 0.5\n",
        "# The following 3 values are estimates from Casey's floc blanket video.\n",
        "C_infb = 40 * u.NTU\n",
        "C_outfb = 1 * u.NTU\n",
        "t_fb = 800 * u.s\n",
        "k_fb = -1/t_fb*(np.log(C_outfb/C_infb))\n",
        "C_out_f = (np.pi* density_clay/6 * (k_fb/(np.pi*alpha*k*G_CS))**(3/2)).to(u.NTU)\n",
        "print('The concentration of primary particles in the flocculated water is',C_out_f)\n",
        "\n",
        "Gt = (3/2 * 1/(k*np.pi * alpha) * (np.pi/6 * density_clay/C_out_f)**(2/3)).to(u.dimensionless)\n",
        "print('The flocculator Gt value is ',Gt)\n",
        "t_floc = 3/2 * 1/k_fb\n",
        "print('The flocculator residence time is',t_floc)\n",
        "\n",
        "Temp = 20 * u.degC\n",
        "\n",
        "Floc_HL = (G_CS**2 * t_floc * pc.viscosity_kinematic(Temp)/u.standard_gravity).to(u.cm)\n",
        "print('The head loss through the flocculator is',Floc_HL)"
      ],
      "execution_count": null,
      "outputs": []
    },
    {
      "cell_type": "markdown",
      "metadata": {
        "id": "soNh0jThw1c4"
      },
      "source": [
        "#Initializing Constants for Examples:"
      ]
    },
    {
      "cell_type": "code",
      "metadata": {
        "id": "FMhBN6N6xAPe"
      },
      "source": [
        "# We are experimenting with using head loss at the exit of the diffusers as\n",
        "# a reasonable design constraint for the design of the\n",
        "# inlet manifold/diffuser system. This head loss in the exit of the diffuser\n",
        "# will allow higher velocities (and pressure recovery) in the manifold pipe\n",
        "# and thus will enable use of smaller diameter manifold pipes.\n",
        "# -----\n",
        "# We've set a maximum head loss in the sedimentation tank inlet:\n",
        "headloss_sed_inlet_max = 1 * u.cm\n",
        "\n",
        "# The manifold and diffuser pipes used in the sedimentation tank have an SDR of 26.\n",
        "SDR=26\n",
        "\n",
        "# Pi_jet_plane is used to estimate the maximum energy dissipation rate in a plane jet.\n",
        "# A plane jet is uniform in one dimension. A plane jet can be formed by a long narrow slot.\n",
        "# see table_EDR_G_equations\n",
        "Pi_jet_plane = 0.0124\n",
        "\n",
        "# Design temperature will be helpful to calculate viscosity\n",
        "T_design = 15*u.degC\n",
        "\n",
        "# Plant Flowrate:\n",
        "flow_plant = 60 * u.L/u.s\n",
        "\n",
        "# Upflow velocity at the top of the floc blanket:\n",
        "V_sed_up = 1 * u.mm/u.s\n",
        "\n",
        "# The corrugated plastic sheets used to make the plate settlers:\n",
        "W_sed = 42 * u.inch\n",
        "thickness_sed_plate = 2 * u.mm\n",
        "\n",
        "# The plate settlers are angled 60° from the horizontal:\n",
        "angle_sed_plate = 60 * u.deg\n",
        "\n",
        "# The plate setters are spaced 2.5cm apart (this is the perpendicular\n",
        "# distance between plates, not the horizontal distance between plates):\n",
        "s_sed_plate = 2.5 * u.cm\n",
        "\n",
        "# Plate settler capture velocity:\n",
        "V_sed_capture = 0.12 * u.mm/u.s\n",
        "\n",
        "# The minimum port flow (from the first port) divided by the maximum port\n",
        "# flow (from the last port) for flow division between sedimentation tanks\n",
        "# and for flow distribution from the inlet manifold should be at least:\n",
        "Pi_sed_manifold_flow = 0.8\n"
      ],
      "execution_count": null,
      "outputs": []
    },
    {
      "cell_type": "markdown",
      "metadata": {
        "id": "4fN633qSYcIt"
      },
      "source": [
        "#Example: Floc recycle"
      ]
    },
    {
      "cell_type": "markdown",
      "metadata": {
        "id": "7T5daJsXZNOI"
      },
      "source": [
        "Finding relationship between collision potential and recycle ratio:"
      ]
    },
    {
      "cell_type": "code",
      "metadata": {
        "id": "Z53_rxgCYne3"
      },
      "source": [
        "import aguaclara.core.physchem as pc\n",
        "from aguaclara.core.units import unit_registry as u\n",
        "\n",
        "import numpy as np\n",
        "import matplotlib.pyplot as plt\n",
        "\n",
        "D_fb=2.5*u.cm\n",
        "A_fb = pc.area_circle(D_fb)\n",
        "H_fb = 1 * u.m\n",
        "v_hindered = 1 * u.mm/u.s\n",
        "C_fb_conventional = 3 * u.g/u.L\n",
        "C_recycle = 20 * u.g/u.L\n",
        "C_plant = 100 * u.NTU\n",
        "v_up = 3 * u.mm/u.s\n",
        "\n",
        "\n",
        "def CP(H_fb,v_up,v_hindered,Pi_recycle,C_plant,C_recycle):\n",
        " return (H_fb*v_hindered/v_up*(C_plant+C_recycle*Pi_recycle)/((1+Pi_recycle)*(1+Pi_recycle-v_hindered/v_up))).to_base_units()\n",
        "Pi_recycle_max = 2\n",
        "Pi_recycle = np.arange(0,Pi_recycle_max,0.1)\n",
        "fig, ax = plt.subplots()\n",
        "x=np.array([0,Pi_recycle_max])\n",
        "yscale = (C_fb_conventional*H_fb*v_hindered/(1*u.mm/u.s)).to_base_units()\n",
        "yscale\n",
        "y=np.array([1,1])*yscale\n",
        "ax.plot(x,y)\n",
        "ax.plot(Pi_recycle,CP(H_fb,v_up,v_hindered,Pi_recycle,C_plant,C_recycle))\n",
        "imagepath = 'Sedimentation/Images/'\n",
        "ax.set(xlabel='recycle ratio', ylabel='Collision Potential (kg/m^2)')\n",
        "ax.legend([\"no recycle at 1 mm/s\",\"with recycle at 3 mm/s\"])\n",
        "plt.show()"
      ],
      "execution_count": null,
      "outputs": []
    },
    {
      "cell_type": "markdown",
      "metadata": {
        "id": "pVORzwxdY7cm"
      },
      "source": [
        "Solve for tube diameter:"
      ]
    },
    {
      "cell_type": "code",
      "metadata": {
        "id": "Nft_WjztY5YE"
      },
      "source": [
        "import aguaclara.core.physchem as pc\n",
        "from aguaclara.core.units import unit_registry as u\n",
        "\n",
        "import numpy as np\n",
        "import matplotlib.pyplot as plt\n",
        "\n",
        "Temperature= 20*u.degC\n",
        "D_fb=2.5*u.cm\n",
        "A_fb = pc.area_circle(D_fb)\n",
        "H_fb = 1.5 * u.m\n",
        "Angle_tube = 60*u.deg\n",
        "L_tube = H_fb/np.sin(Angle_tube)\n",
        "density_clay=2650*u.kg/u.m**3\n",
        "\n",
        "H_l = H_fb*(C_recycle-C_fb_conventional)/(C_recycle+((pc.density_water(Temperature)*density_clay)/(density_clay-pc.density_water(Temperature))))\n",
        "H_l\n",
        "Q_plant=v_up*A_fb\n",
        "Pi_recycle=0.5\n",
        "density_recycle = (1 - pc.density_water(Temperature)/density_clay)*C_recycle + pc.density_water(Temperature)\n",
        "nu_recycle = pc.viscosity_dynamic(Temperature)/density_recycle\n",
        "D_recycle = pc.diam_pipe(Q_plant*Pi_recycle,H_l,L_tube,nu_recycle,0.01*u.mm,2)\n",
        "D_recycle.to(u.mm)\n",
        "D_recycle.to(u.inch)"
      ],
      "execution_count": null,
      "outputs": []
    },
    {
      "cell_type": "markdown",
      "metadata": {
        "id": "PKUbAl1_ZbRm"
      },
      "source": [
        "Sedimentation Examples:"
      ]
    },
    {
      "cell_type": "markdown",
      "metadata": {
        "id": "0qY6d0VhZiLF"
      },
      "source": [
        "#Tube Settler Design:"
      ]
    },
    {
      "cell_type": "markdown",
      "metadata": {
        "id": "yoFVX4nnZqMj"
      },
      "source": [
        "Computing length of tube settler:"
      ]
    },
    {
      "cell_type": "code",
      "metadata": {
        "id": "qxeWciqaZnPZ"
      },
      "source": [
        "from aguaclara.core.units import unit_registry as u\n",
        "\n",
        "import numpy as np\n",
        "\n",
        "v_alpha = 3 * u.mm/u.s\n",
        "v_c = 1 * u.mm/u.s\n",
        "D = 2.54 * u.cm\n",
        "alpha = 60 * u.deg\n",
        "\n",
        "def L_settler(D,alpha,v_alpha,v_c):\n",
        " return D/np.cos(alpha)*(v_alpha/v_c - np.sin(alpha))\n",
        "\n",
        "print(L_settler(D,alpha,v_alpha,1*u.mm/u.s))\n",
        "print(L_settler(D,alpha,v_alpha,0.2*u.mm/u.s))"
      ],
      "execution_count": null,
      "outputs": []
    },
    {
      "cell_type": "markdown",
      "metadata": {
        "id": "kmMZMexEak6-"
      },
      "source": [
        "#Example: Diffuser and Jet Reverser Design:"
      ]
    },
    {
      "cell_type": "code",
      "metadata": {
        "id": "VE_1JE-pasAm"
      },
      "source": [
        "from aguaclara.core.units import unit_registry as u\n",
        "from aguaclara.core import utility as ut\n",
        "\n",
        "import numpy as np\n",
        "\n",
        "#given sedimentation inlet maximum headloss\n",
        "headloss_sed_inlet_max = 1 * u.cm\n",
        "#given sedimentation tank up flow velocity\n",
        "V_sed_up = 1 * u.mm/u.s\n",
        "#given sedimentation tank width\n",
        "W_sed = 42 * u.inch"
      ],
      "execution_count": null,
      "outputs": []
    },
    {
      "cell_type": "markdown",
      "metadata": {
        "id": "tsIWl68AaxFQ"
      },
      "source": [
        "Find max velocity of sedimentation tank diffusers:"
      ]
    },
    {
      "cell_type": "code",
      "metadata": {
        "id": "f80nuueca2Hg"
      },
      "source": [
        "g = 9.81 * u.m / u.s**2\n",
        "# minor loss equation with K=1\n",
        "V_diffuser_max = (np.sqrt((2 * g * headloss_sed_inlet_max))).to(u.m / u.s)\n",
        "print('The maximum velocity of the sed tank diffusers is',V_diffuser_max)\n",
        "\n",
        "# mass conservation\n",
        "W_diffuser_inner_min = ((V_sed_up / V_diffuser_max) * W_sed).to(u.mm)\n",
        "print('The minimum width of the sed tank diffusers is',W_diffuser_inner_min)"
      ],
      "execution_count": null,
      "outputs": []
    },
    {
      "cell_type": "markdown",
      "metadata": {
        "id": "5Mw9BjBla7hm"
      },
      "source": [
        "Find minimum inner width of diffuser:"
      ]
    },
    {
      "cell_type": "code",
      "metadata": {
        "id": "ycOd0J-tbABh"
      },
      "source": [
        "W_diffuser = ut.ceil_nearest(W_diffuser_inner_min, np.arange(1/16,1/4,1/16)*u.inch)\n",
        "\n",
        "print('The width of sed tank diffuser is',W_diffuser.to(u.cm))"
      ],
      "execution_count": null,
      "outputs": []
    },
    {
      "cell_type": "markdown",
      "metadata": {
        "id": "hEJlnvpfbFDW"
      },
      "source": [
        "Calculate inner and outer length of rectangular diffuser slot:"
      ]
    },
    {
      "cell_type": "code",
      "metadata": {
        "id": "aHNyi1V9bJGA"
      },
      "source": [
        "from aguaclara.core import pipes as pipe\n",
        "SDR=26\n",
        "\n",
        "# Assumed stretch of the PVC pipes as they are heated and molded:\n",
        "Pi_PVC_stretch = 1.2\n",
        "\n",
        "# Nominal diameter of the sed tank diffuser\n",
        "ND_sed_diffuser = 1 * u.inch\n",
        "#The cross-sectional area of the pipe wall is:\n",
        "area_PVC = (np.pi/4) * ((pipe.OD(ND_sed_diffuser)**2) - (pipe.ID_SDR(ND_sed_diffuser,SDR)**2))\n",
        "\n",
        "#The thickness of the wall is reduced by the stretch factor:\n",
        "thickness_sed_diffuser_wall = ((pipe.OD(ND_sed_diffuser) - pipe.ID_SDR(ND_sed_diffuser,SDR)) / (2 * Pi_PVC_stretch))\n",
        "\n",
        "# From geometry of the rectangular diffuser opening (assuming perfectly square corners) we have:\n",
        "B_diffuser = ((area_PVC / (2 * thickness_sed_diffuser_wall)) - W_diffuser).to(u.cm)\n",
        "\n",
        "print(\"Sed diffuser outer length:\", B_diffuser)\n",
        "\n",
        "S_diffuser = B_diffuser - (2 * thickness_sed_diffuser_wall)\n",
        "print(\"Sed diffuser inner length:\", S_diffuser)"
      ],
      "execution_count": null,
      "outputs": []
    },
    {
      "cell_type": "markdown",
      "metadata": {
        "id": "Umd6FDnvbPzP"
      },
      "source": [
        "Determine diffuser velocity:"
      ]
    },
    {
      "cell_type": "code",
      "metadata": {
        "id": "CKVZRhHPbUfK"
      },
      "source": [
        "flow_max_diffuser = V_sed_up * W_sed * B_diffuser\n",
        "V_diffuser = (flow_max_diffuser / (W_diffuser * S_diffuser)).to(u.m / u.s)\n",
        "print('The flow of water leaving a sed tank diffuser is',flow_max_diffuser.to(u.ml/u.s))\n",
        "print('The velocity of water leaving the sed tank diffuser is',V_diffuser)"
      ],
      "execution_count": null,
      "outputs": []
    },
    {
      "cell_type": "markdown",
      "metadata": {
        "id": "5y7atoLHbbJK"
      },
      "source": [
        "Reynolds Number:"
      ]
    },
    {
      "cell_type": "code",
      "metadata": {
        "id": "lwy3sEdObZar"
      },
      "source": [
        "from aguaclara.core import physchem as pc\n",
        "T_design = 15 * u.degC\n",
        "Re_diffuser_jet = ((W_diffuser * V_diffuser) / pc.viscosity_kinematic(T_design)).to(u.dimensionless)\n",
        "print('The Reynolds number for this jet is',Re_diffuser_jet)"
      ],
      "execution_count": null,
      "outputs": []
    },
    {
      "cell_type": "code",
      "metadata": {
        "id": "kvLaS4AEbhvR"
      },
      "source": [
        "Re_sed = ((W_sed * V_sed_up) / pc.viscosity_kinematic(T_design)).to(u.dimensionless)\n",
        "print('Reynolds number through floc is',Re_sed)"
      ],
      "execution_count": null,
      "outputs": []
    },
    {
      "cell_type": "markdown",
      "metadata": {
        "id": "6IUVWnLibnqa"
      },
      "source": [
        "Find max energy dissipation rate:"
      ]
    },
    {
      "cell_type": "code",
      "metadata": {
        "id": "8vvPOw1RbsK2"
      },
      "source": [
        "Pi_jet_plane = 0.0124\n",
        "W_jet_reversed = W_sed * V_sed_up / V_diffuser\n",
        "EDR_inlet_jet = Pi_jet_plane* ((V_diffuser**3)/ W_jet_reversed).to(u.mW / u.kg)\n",
        "print('The energy dissipation rate for inlet jet is', EDR_inlet_jet)"
      ],
      "execution_count": null,
      "outputs": []
    },
    {
      "cell_type": "markdown",
      "metadata": {
        "id": "B62qnV0ZbwlA"
      },
      "source": [
        "Is it reasonable to neglect the upflow velocity in the sed tank when calculating this head loss?"
      ]
    },
    {
      "cell_type": "code",
      "metadata": {
        "id": "mT6cY0pGbzKt"
      },
      "source": [
        "hl_sed_diffuser_exit1 = (((V_diffuser - V_sed_up) ** 2) / (2 *g)).to(u.cm)\n",
        "hl_sed_diffuser_exit2 = (((V_diffuser) ** 2) / (2 *g)).to(u.cm)\n",
        "hl_sed_diffuser_error = (hl_sed_diffuser_exit2-hl_sed_diffuser_exit1)/hl_sed_diffuser_exit1\n",
        "\n",
        "print('The best estimate of the exit head loss for the diffuser is', hl_sed_diffuser_exit1)\n",
        "print('The 2nd estimate of the exit head loss for the diffuser ignoring the upflow velocity is', hl_sed_diffuser_exit2)\n",
        "print('It is reasonable to neglect the effect of the upflow velocity. The error is',hl_sed_diffuser_error)"
      ],
      "execution_count": null,
      "outputs": []
    },
    {
      "cell_type": "markdown",
      "metadata": {
        "id": "1DiT3Z0lOXSA"
      },
      "source": [
        "#Example: Manifolds and Launders"
      ]
    },
    {
      "cell_type": "markdown",
      "metadata": {
        "id": "A-Wzq3jnOlxn"
      },
      "source": [
        "Equation for maximum velocity for an inlet manifold in terms of diffuser exit velocity and flow distribution constraint:"
      ]
    },
    {
      "cell_type": "code",
      "metadata": {
        "id": "1OcsKfesOejs"
      },
      "source": [
        "def Vel_sed_manifold_max(Pi_diffuser_flow, V_diffuser):\n",
        "  return (V_diffuser * np.sqrt(2 * ((1-(Pi_diffuser_flow**2)) / ((Pi_diffuser_flow**2)+1))))"
      ],
      "execution_count": null,
      "outputs": []
    },
    {
      "cell_type": "code",
      "metadata": {
        "id": "wNjOuUcMPAmN"
      },
      "source": [
        "Pi_sed_manifold_flow = 0.8\n",
        "V_sed_manifold_max = Vel_sed_manifold_max(Pi_sed_manifold_flow, V_diffuser)\n",
        "print('The maximum velocity in the sedimentation tank manifold is',V_sed_manifold_max)"
      ],
      "execution_count": null,
      "outputs": []
    },
    {
      "cell_type": "markdown",
      "metadata": {
        "id": "Y5ll8ftLPLiM"
      },
      "source": [
        "Determine flow area ratio:"
      ]
    },
    {
      "cell_type": "code",
      "metadata": {
        "id": "voeAlHjbPPEV"
      },
      "source": [
        "print('The flow area ratio of manifold pipe to diffusers is',(V_diffuser / V_sed_manifold_max).to(u.dimensionless))\n"
      ],
      "execution_count": null,
      "outputs": []
    },
    {
      "cell_type": "markdown",
      "metadata": {
        "id": "dGQ_zSsJPe_B"
      },
      "source": [
        "Determine maximum flow rate:"
      ]
    },
    {
      "cell_type": "code",
      "metadata": {
        "id": "4IIQwvYMPh7P"
      },
      "source": [
        "L_sed_upflow_max = 5.8 * u.m\n",
        "flow_sed_max = (L_sed_upflow_max * V_sed_up * W_sed).to(u.L / u.s)\n",
        "print(\"The maximum flow rate in one sedimentation tank is\",flow_sed_max)"
      ],
      "execution_count": null,
      "outputs": []
    },
    {
      "cell_type": "markdown",
      "metadata": {
        "id": "z13ULVnWPmQ1"
      },
      "source": [
        "Determine required nominal pipe diameter:"
      ]
    },
    {
      "cell_type": "code",
      "metadata": {
        "id": "lExuIc6SPq58"
      },
      "source": [
        "D_sed_manifold_min= pc.diam_circle(flow_sed_max / V_sed_manifold_max)\n",
        "ND_sed_manifold = pipe.ND_SDR_available(D_sed_manifold_min, SDR)\n",
        "print('The minimum inner diameter of the sedimentation tank manifold is',D_sed_manifold_min.to(u.inch))\n",
        "print('The nominal diameter of the sedimentation tank manifold is',ND_sed_manifold)"
      ],
      "execution_count": null,
      "outputs": []
    },
    {
      "cell_type": "markdown",
      "metadata": {
        "id": "kRxYi5tsPwZF"
      },
      "source": [
        "#Example: Sedimentation Tank Bays and Number of Diffusers"
      ]
    },
    {
      "cell_type": "markdown",
      "metadata": {
        "id": "25wJZTz-P2wJ"
      },
      "source": [
        "Determine required plan area:"
      ]
    },
    {
      "cell_type": "code",
      "metadata": {
        "id": "wg6BNPlkP6oz"
      },
      "source": [
        "flow_plant = 60 * u.L / u.s\n",
        "A_sed_flocblanket_total = (flow_plant / V_sed_up).to(u.m**2)\n",
        "print('The plant view area of the floc blanket is',A_sed_flocblanket_total)"
      ],
      "execution_count": null,
      "outputs": []
    },
    {
      "cell_type": "markdown",
      "metadata": {
        "id": "OVVRe5AdQAYU"
      },
      "source": [
        "Total length of floc blanket:"
      ]
    },
    {
      "cell_type": "code",
      "metadata": {
        "id": "-MHwQyXUQEqp"
      },
      "source": [
        "L_sed_flocblanket_total = (A_sed_flocblanket_total / W_sed).to(u.m)\n",
        "print(L_sed_flocblanket_total)"
      ],
      "execution_count": null,
      "outputs": []
    },
    {
      "cell_type": "markdown",
      "metadata": {
        "id": "DmXBMyucQIk_"
      },
      "source": [
        "Determine number of sedimentation tanks required:"
      ]
    },
    {
      "cell_type": "code",
      "metadata": {
        "id": "u0J7OWpoQVjy"
      },
      "source": [
        "N_sed_tanks = int(np.ceil(flow_plant / flow_sed_max))\n",
        "print('The required number of sedimentation tanks is',N_sed_tanks)"
      ],
      "execution_count": null,
      "outputs": []
    },
    {
      "cell_type": "markdown",
      "metadata": {
        "id": "x2JXng8xQlul"
      },
      "source": [
        "Amount of water that can be treated:"
      ]
    },
    {
      "cell_type": "code",
      "metadata": {
        "id": "YQ314w1LQsEN"
      },
      "source": [
        "flow_sed_tanks_total = flow_sed_max * N_sed_tanks\n",
        "print(flow_sed_tanks_total)"
      ],
      "execution_count": null,
      "outputs": []
    },
    {
      "cell_type": "markdown",
      "metadata": {
        "id": "WiIe-XZZQucA"
      },
      "source": [
        "Number of diffusers required in each tank:"
      ]
    },
    {
      "cell_type": "code",
      "metadata": {
        "id": "VfMU2AIjQzPw"
      },
      "source": [
        "N_sed_tank_diffusers = int(np.floor(((L_sed_flocblanket_total/N_sed_tanks) / B_diffuser).to(u.dimensionless)))\n",
        "print('The number of diffuser pipes per sed tank is',N_sed_tank_diffusers)"
      ],
      "execution_count": null,
      "outputs": []
    },
    {
      "cell_type": "markdown",
      "metadata": {
        "id": "yrxUi13sQ4RB"
      },
      "source": [
        "#Example: Plate Settler Design"
      ]
    },
    {
      "cell_type": "markdown",
      "metadata": {
        "id": "Of3Itc4RQ9kI"
      },
      "source": [
        "Required length of plate settlers:"
      ]
    },
    {
      "cell_type": "code",
      "metadata": {
        "id": "xK3Q6UmvRBAL"
      },
      "source": [
        "L_sed_plate = ((s_sed_plate * ((V_sed_up/V_sed_capture)-1) + thickness_sed_plate * (V_sed_up/V_sed_capture)) / (np.sin(angle_sed_plate) * np.cos(angle_sed_plate))).to(u.m)\n",
        "print('The minimum length of the plate settlers is',L_sed_plate)"
      ],
      "execution_count": null,
      "outputs": []
    },
    {
      "cell_type": "markdown",
      "metadata": {
        "id": "adnAU8LdREF4"
      },
      "source": [
        "Horizontal spacing:"
      ]
    },
    {
      "cell_type": "code",
      "metadata": {
        "id": "AbkEyYAWRHwg"
      },
      "source": [
        "B_sed_plate_horizontal = ((thickness_sed_plate + s_sed_plate)/ np.sin(angle_sed_plate)).to(u.cm)\n",
        "print('The horizontal center to center spacing of the plate settlers is',B_sed_plate_horizontal)"
      ],
      "execution_count": null,
      "outputs": []
    },
    {
      "cell_type": "markdown",
      "metadata": {
        "id": "ynpUXhIARKSZ"
      },
      "source": [
        "Number of plate settlers needed per sedimentation tank:"
      ]
    },
    {
      "cell_type": "code",
      "metadata": {
        "id": "0uwRgXoGRRdK"
      },
      "source": [
        "N_sed_plates_pertank = int(round((((L_sed_flocblanket_total/N_sed_tanks) / B_sed_plate_horizontal)).to(u.dimensionless)))\n",
        "print('The number of plate settlers per sedimentation tank is',N_sed_plates_pertank)"
      ],
      "execution_count": null,
      "outputs": []
    },
    {
      "cell_type": "markdown",
      "metadata": {
        "id": "7Ukmon1cS4pw"
      },
      "source": [
        "**All of the functions created so far correspond to those shown in the design solutions for chapter 9. In order to create your own examples, simply change the parameter values at the beginning of this file.**"
      ]
    },
    {
      "cell_type": "code",
      "source": [
        ""
      ],
      "metadata": {
        "id": "OvTGURK6Q0ui"
      },
      "execution_count": null,
      "outputs": []
    },
    {
      "cell_type": "markdown",
      "metadata": {
        "id": "D90Xesr4QvKj"
      },
      "source": [
        "# Chapter 11: Hydraulics\n",
        "\n",
        "This Colab document corresponds to the eleventh chapter of the AguaClara textbook."
      ]
    },
    {
      "cell_type": "markdown",
      "metadata": {
        "id": "X5_Vhq403Kyk"
      },
      "source": [
        "#Constants Needed To Run Snippets:"
      ]
    },
    {
      "cell_type": "code",
      "metadata": {
        "id": "QKlfOMPoROA3",
        "outputId": "fba57465-e23b-41df-d082-a823295f491a",
        "colab": {
          "base_uri": "https://localhost:8080/"
        }
      },
      "source": [
        "!pip install aguaclara\n",
        "import aguaclara.core.physchem as pc\n",
        "import aguaclara.core.utility as uc\n",
        "import aguaclara.core.pipes as pp\n",
        "from aguaclara.core.units import unit_registry as u\n",
        "\n",
        "import numpy as np\n",
        "import matplotlib.pyplot as plt\n",
        "#I played with the velocity gradient to get a reasonable head loss of 50 cm.\n",
        "G_CS = 123 * u.Hz\n",
        "density_clay = 2650 * u.kg/u.m**3\n",
        "#From William's research the k for flocculator is 0.03. We need to confirm that this value is correct.\n",
        "k = 0.03\n",
        "# It isn't clear what value should be used for alpha\n",
        "alpha = 0.5\n",
        "# The following 3 values are estimates from Casey's floc blanket video.\n",
        "C_infb = 40 * u.NTU\n",
        "C_outfb = 1 * u.NTU\n",
        "t_fb = 800 * u.s\n",
        "k_fb = -1/t_fb*(np.log(C_outfb/C_infb))\n",
        "C_out_f = (np.pi* density_clay/6 * (k_fb/(np.pi*alpha*k*G_CS))**(3/2)).to(u.NTU)\n",
        "\n",
        "Gt = (3/2 * 1/(k*np.pi * alpha) * (np.pi/6 * density_clay/C_out_f)**(2/3)).to(u.dimensionless)\n",
        "t_floc = 3/2 * 1/k_fb\n",
        "\n",
        "Temp = 20 * u.degC\n",
        "\n",
        "Floc_HL = (G_CS**2 * t_floc * pc.viscosity_kinematic(Temp)/u.standard_gravity).to(u.cm)"
      ],
      "execution_count": null,
      "outputs": [
        {
          "output_type": "stream",
          "name": "stdout",
          "text": [
            "Collecting aguaclara\n",
            "  Downloading aguaclara-0.2.10.tar.gz (94 kB)\n",
            "\u001b[K     |████████████████████████████████| 94 kB 3.0 MB/s \n",
            "\u001b[?25hRequirement already satisfied: matplotlib in /usr/local/lib/python3.7/dist-packages (from aguaclara) (3.2.2)\n",
            "Requirement already satisfied: urllib3 in /usr/local/lib/python3.7/dist-packages (from aguaclara) (1.24.3)\n",
            "Collecting pint\n",
            "  Downloading Pint-0.18-py2.py3-none-any.whl (209 kB)\n",
            "\u001b[K     |████████████████████████████████| 209 kB 63.1 MB/s \n",
            "\u001b[?25hRequirement already satisfied: pandas in /usr/local/lib/python3.7/dist-packages (from aguaclara) (1.3.5)\n",
            "Requirement already satisfied: scipy in /usr/local/lib/python3.7/dist-packages (from aguaclara) (1.4.1)\n",
            "Collecting onshape_client\n",
            "  Downloading onshape_client-1.6.3-py3-none-any.whl (2.1 MB)\n",
            "\u001b[K     |████████████████████████████████| 2.1 MB 45.1 MB/s \n",
            "\u001b[?25hRequirement already satisfied: kiwisolver>=1.0.1 in /usr/local/lib/python3.7/dist-packages (from matplotlib->aguaclara) (1.3.2)\n",
            "Requirement already satisfied: cycler>=0.10 in /usr/local/lib/python3.7/dist-packages (from matplotlib->aguaclara) (0.11.0)\n",
            "Requirement already satisfied: numpy>=1.11 in /usr/local/lib/python3.7/dist-packages (from matplotlib->aguaclara) (1.21.5)\n",
            "Requirement already satisfied: python-dateutil>=2.1 in /usr/local/lib/python3.7/dist-packages (from matplotlib->aguaclara) (2.8.2)\n",
            "Requirement already satisfied: pyparsing!=2.0.4,!=2.1.2,!=2.1.6,>=2.0.1 in /usr/local/lib/python3.7/dist-packages (from matplotlib->aguaclara) (3.0.7)\n",
            "Requirement already satisfied: six>=1.5 in /usr/local/lib/python3.7/dist-packages (from python-dateutil>=2.1->matplotlib->aguaclara) (1.15.0)\n",
            "Collecting nulltype\n",
            "  Downloading nulltype-2.3.1-py2.py3-none-any.whl (11 kB)\n",
            "Requirement already satisfied: requests-oauthlib in /usr/local/lib/python3.7/dist-packages (from onshape_client->aguaclara) (1.3.1)\n",
            "Collecting ruamel.yaml\n",
            "  Downloading ruamel.yaml-0.17.21-py3-none-any.whl (109 kB)\n",
            "\u001b[K     |████████████████████████████████| 109 kB 54.1 MB/s \n",
            "\u001b[?25hRequirement already satisfied: certifi>=2017.4.17 in /usr/local/lib/python3.7/dist-packages (from onshape_client->aguaclara) (2021.10.8)\n",
            "Requirement already satisfied: pytz>=2017.3 in /usr/local/lib/python3.7/dist-packages (from pandas->aguaclara) (2018.9)\n",
            "Requirement already satisfied: importlib-metadata in /usr/local/lib/python3.7/dist-packages (from pint->aguaclara) (4.11.2)\n",
            "Requirement already satisfied: packaging in /usr/local/lib/python3.7/dist-packages (from pint->aguaclara) (21.3)\n",
            "Requirement already satisfied: typing-extensions>=3.6.4 in /usr/local/lib/python3.7/dist-packages (from importlib-metadata->pint->aguaclara) (3.10.0.2)\n",
            "Requirement already satisfied: zipp>=0.5 in /usr/local/lib/python3.7/dist-packages (from importlib-metadata->pint->aguaclara) (3.7.0)\n",
            "Requirement already satisfied: requests>=2.0.0 in /usr/local/lib/python3.7/dist-packages (from requests-oauthlib->onshape_client->aguaclara) (2.23.0)\n",
            "Requirement already satisfied: oauthlib>=3.0.0 in /usr/local/lib/python3.7/dist-packages (from requests-oauthlib->onshape_client->aguaclara) (3.2.0)\n",
            "Requirement already satisfied: idna<3,>=2.5 in /usr/local/lib/python3.7/dist-packages (from requests>=2.0.0->requests-oauthlib->onshape_client->aguaclara) (2.10)\n",
            "Requirement already satisfied: chardet<4,>=3.0.2 in /usr/local/lib/python3.7/dist-packages (from requests>=2.0.0->requests-oauthlib->onshape_client->aguaclara) (3.0.4)\n",
            "Collecting ruamel.yaml.clib>=0.2.6\n",
            "  Downloading ruamel.yaml.clib-0.2.6-cp37-cp37m-manylinux1_x86_64.whl (546 kB)\n",
            "\u001b[K     |████████████████████████████████| 546 kB 75.3 MB/s \n",
            "\u001b[?25hBuilding wheels for collected packages: aguaclara\n",
            "  Building wheel for aguaclara (setup.py) ... \u001b[?25l\u001b[?25hdone\n",
            "  Created wheel for aguaclara: filename=aguaclara-0.2.10-py3-none-any.whl size=107244 sha256=9e71b95f889ee1ec0abcffb2c4596c01f37a6883996d4d17babe218611b7865b\n",
            "  Stored in directory: /root/.cache/pip/wheels/a3/12/ef/53d591c580e122cb62a84cb2180ddba9ba03bb3dc85b19285e\n",
            "Successfully built aguaclara\n",
            "Installing collected packages: ruamel.yaml.clib, ruamel.yaml, pint, nulltype, onshape-client, aguaclara\n",
            "Successfully installed aguaclara-0.2.10 nulltype-2.3.1 onshape-client-1.6.3 pint-0.18 ruamel.yaml-0.17.21 ruamel.yaml.clib-0.2.6\n"
          ]
        },
        {
          "output_type": "stream",
          "name": "stderr",
          "text": [
            "/usr/local/lib/python3.7/dist-packages/aguaclara/core/physchem.py:157: UserWarning: viscosity_kinematic is deprecated; use viscosity_kinematic_water instead.\n",
            "  'viscosity_kinematic_water instead.', UserWarning)\n"
          ]
        }
      ]
    },
    {
      "cell_type": "markdown",
      "metadata": {
        "id": "7bOkmx0kRVHh"
      },
      "source": [
        "#Example: Inlet Manifold Flow Distribution "
      ]
    },
    {
      "cell_type": "code",
      "metadata": {
        "id": "JTY6Xw3SSuQ0"
      },
      "source": [
        "def Ratio_Pipe_Manifold_V_Port_to_V_Man(Ratio_Flow):\n",
        "  return np.sqrt((Ratio_Flow**2 + 1)/(2*(1-Ratio_Flow**2)))"
      ],
      "execution_count": null,
      "outputs": []
    },
    {
      "cell_type": "markdown",
      "metadata": {
        "id": "xfspOSkPUFgx"
      },
      "source": [
        "#Example: Sedimentation Tank Inlet Manifold"
      ]
    },
    {
      "cell_type": "code",
      "metadata": {
        "id": "ndlvydp8UMFJ",
        "outputId": "76f1db18-f22e-4391-b53c-c85f437849cd",
        "colab": {
          "base_uri": "https://localhost:8080/"
        }
      },
      "source": [
        "#Design the sedimentation tank inlet manifold\n",
        "v_FB = 1 * u.mm/u.s\n",
        "W_Diffuser = 3.175 * u.mm\n",
        "W_Sed = 1.07 * u.m\n",
        "v_jet = v_FB * W_Sed/W_Diffuser\n",
        "print('The jet velocity is',v_jet)\n",
        "L_Sed = 6 * u.m\n",
        "Ratio_Flow = 0.85\n",
        "v_Influent_Manifold = v_jet / Ratio_Pipe_Manifold_V_Port_to_V_Man(Ratio_Flow)\n",
        "print('The manifold velocity is',v_Influent_Manifold)\n",
        "Q_sed =(L_Sed * W_Sed * v_FB).to(u.L/u.s)\n",
        "ID_min_Influent_Manifold = pc.diam_circle(Q_sed/v_Influent_Manifold)\n",
        "print('The minimum manifold diameter is',ID_min_Influent_Manifold.to(u.inch))\n",
        "SDR = 41\n",
        "ID_Influent_Manifold = uc.ceil_nearest(ID_min_Influent_Manifold,pp.ID_SDR_all_available(SDR))\n",
        "ND_Influent_Manifold = pp.ND_SDR_available(ID_Influent_Manifold,SDR)\n",
        "print('The manifold nominal diameter is',ND_Influent_Manifold.to(u.inch))"
      ],
      "execution_count": null,
      "outputs": [
        {
          "output_type": "stream",
          "name": "stdout",
          "text": [
            "The jet velocity is 0.337 meter / second\n",
            "The manifold velocity is 0.1913 meter / second\n",
            "The minimum manifold diameter is 8.138 inch\n",
            "The manifold nominal diameter is 8 inch\n"
          ]
        },
        {
          "output_type": "stream",
          "name": "stderr",
          "text": [
            "/usr/local/lib/python3.7/dist-packages/aguaclara/core/pipes.py:144: UnitStrippedWarning: The unit of the quantity is stripped when downcasting to ndarray.\n",
            "  for i in range(len(np.array(ID_SDR_all_available(SDR)))):\n",
            "/usr/local/lib/python3.7/dist-packages/aguaclara/core/pipes.py:145: UnitStrippedWarning: The unit of the quantity is stripped when downcasting to ndarray.\n",
            "  if np.array(ID_SDR_all_available(SDR))[i] >= (ID.to(u.inch)).magnitude:\n"
          ]
        }
      ]
    },
    {
      "cell_type": "markdown",
      "metadata": {
        "id": "YqmUqEDAUQ2B"
      },
      "source": [
        "#Example: Sedimentation Tank Outlet Manifold"
      ]
    },
    {
      "cell_type": "code",
      "metadata": {
        "id": "pmtD8iWCUXu-",
        "outputId": "e1ded526-2c38-4f65-f198-0cebcee6774e",
        "colab": {
          "base_uri": "https://localhost:8080/"
        }
      },
      "source": [
        "#Design the sedimentation tank outlet manifold\n",
        "HL_orifice = 5 * u.cm\n",
        "v_orifice_contracted = np.sqrt(2 * u.gravity * HL_orifice)\n",
        "v_Effluent_Manifold = (v_orifice_contracted / Ratio_Pipe_Manifold_V_Port_to_V_Man(Ratio_Flow)).to(u.m/u.s)\n",
        "print('The maximum effluent manifold velocity is',v_Effluent_Manifold)\n",
        "Q_sed =(L_Sed * W_Sed * v_FB).to(u.L/u.s)\n",
        "ID_min_Effluent_Manifold = pc.diam_circle(Q_sed/v_Effluent_Manifold)\n",
        "print('The minimum effluent manifold diameter is',ID_min_Effluent_Manifold.to(u.inch))\n",
        "SDR = 41\n",
        "ID_Effluent_Manifold = uc.ceil_nearest(ID_min_Effluent_Manifold,pp.ID_SDR_all_available(SDR))\n",
        "ND_Effluent_Manifold = pp.ND_SDR_available(ID_Effluent_Manifold,SDR)\n",
        "print('The manifold nominal diameter is',ND_Effluent_Manifold.to(u.inch))"
      ],
      "execution_count": null,
      "outputs": [
        {
          "output_type": "stream",
          "name": "stdout",
          "text": [
            "The maximum effluent manifold velocity is 0.5621 meter / second\n",
            "The minimum effluent manifold diameter is 4.748 inch\n",
            "The manifold nominal diameter is 6 inch\n"
          ]
        },
        {
          "output_type": "stream",
          "name": "stderr",
          "text": [
            "/usr/local/lib/python3.7/dist-packages/aguaclara/core/pipes.py:144: UnitStrippedWarning: The unit of the quantity is stripped when downcasting to ndarray.\n",
            "  for i in range(len(np.array(ID_SDR_all_available(SDR)))):\n",
            "/usr/local/lib/python3.7/dist-packages/aguaclara/core/pipes.py:145: UnitStrippedWarning: The unit of the quantity is stripped when downcasting to ndarray.\n",
            "  if np.array(ID_SDR_all_available(SDR))[i] >= (ID.to(u.inch)).magnitude:\n"
          ]
        }
      ]
    },
    {
      "cell_type": "markdown",
      "metadata": {
        "id": "VQ1If9xLUcaK"
      },
      "source": [
        "#Example: Sedimentor Inlet Channel"
      ]
    }
  ]
}