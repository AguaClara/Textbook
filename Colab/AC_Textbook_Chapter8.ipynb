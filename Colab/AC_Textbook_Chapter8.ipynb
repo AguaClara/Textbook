{
  "nbformat": 4,
  "nbformat_minor": 0,
  "metadata": {
    "colab": {
      "name": "AC_Textbook_Chapter8.ipynb",
      "provenance": [],
      "collapsed_sections": [],
      "include_colab_link": true
    },
    "kernelspec": {
      "name": "python3",
      "display_name": "Python 3"
    },
    "language_info": {
      "name": "python"
    }
  },
  "cells": [
    {
      "cell_type": "markdown",
      "metadata": {
        "id": "view-in-github",
        "colab_type": "text"
      },
      "source": [
        "<a href=\"https://colab.research.google.com/github/lainey-reed/Textbook/blob/master/Colab/AC_Textbook_Chapter8.ipynb\" target=\"_parent\"><img src=\"https://colab.research.google.com/assets/colab-badge.svg\" alt=\"Open In Colab\"/></a>"
      ]
    },
    {
      "cell_type": "markdown",
      "metadata": {
        "id": "n8laV3aqWYch"
      },
      "source": [
        "# Chapter 8: Flocculation\n",
        "\n",
        "All of the code examples in this colab file are from [Chapter 8: Flocculation](https://aguaclara.github.io/Textbook/Flocculation/Floc_Intro.html)"
      ]
    },
    {
      "cell_type": "code",
      "metadata": {
        "id": "L5ELLZ70Wk-i"
      },
      "source": [
        "!pip install aguaclara"
      ],
      "execution_count": null,
      "outputs": []
    },
    {
      "cell_type": "markdown",
      "metadata": {
        "id": "H2MJ5_jmqGdq"
      },
      "source": [
        "## Flocculation Introduction\n",
        "\n",
        "The following examples are from the chapter section [Flocculation Introduction](https://aguaclara.github.io/Textbook/Flocculation/Floc_Intro.html#)"
      ]
    },
    {
      "cell_type": "markdown",
      "metadata": {
        "id": "AAaK87eFWsDL"
      },
      "source": [
        "### Example 1: Number of collisions in a floc\n",
        "\n",
        "The example below is from the subsection [Number of Particles in a Floc](https://aguaclara.github.io/Textbook/Flocculation/Floc_Intro.html#number-of-particles-in-a-floc)"
      ]
    },
    {
      "cell_type": "code",
      "metadata": {
        "id": "cu3z2Pi7XCUY"
      },
      "source": [
        "import numpy as np\n",
        "\n",
        "n_primary = 1000000000\n",
        "n_collisions = np.log10(n_primary)/np.log10(2)\n",
        "print(n_collisions)"
      ],
      "execution_count": null,
      "outputs": []
    },
    {
      "cell_type": "markdown",
      "metadata": {
        "id": "opYQv4uXqUhi"
      },
      "source": [
        "### Example 2: Collision Potential\n",
        "\n",
        "The example below is from the subsection [Flocculation is (or used to be) a Slow Process](https://aguaclara.github.io/Textbook/Flocculation/Floc_Intro.html#flocculation-is-or-used-to-be-a-slow-process)"
      ]
    },
    {
      "cell_type": "code",
      "metadata": {
        "id": "-1InCjkGqiuF"
      },
      "source": [
        "import aguaclara as ac\n",
        "from aguaclara.core.units import unit_registry as u\n",
        "import numpy as np\n",
        "\n",
        "HL_floc = 43*u.cm\n",
        "HRT = 8 * u.min\n",
        "Temperature =20 * u.degC\n",
        "G_floc = ((u.gravity*HL_floc/(HRT*ac.viscosity_kinematic_water(Temperature)))**0.5).to_base_units()\n",
        "print(G_floc)\n",
        "Gt_floc = G_floc*HRT\n",
        "HRT_floc_visible = 0.5*u.min\n",
        "Gt_floc_visible = (G_floc*HRT_floc_visible).to_base_units()\n",
        "print(Gt_floc_visible)"
      ],
      "execution_count": null,
      "outputs": []
    },
    {
      "cell_type": "markdown",
      "metadata": {
        "id": "bcinGGa0q1uM"
      },
      "source": [
        "## Flocculation Model\n",
        "\n",
        "The next three examples are from the [Flocculation Model](https://aguaclara.github.io/Textbook/Flocculation/Floc_Model.html#flocculation-model) section, in the subsection [Key understanding: Relative velocities between particles are dominated by viscous shear](https://aguaclara.github.io/Textbook/Flocculation/Floc_Model.html#key-understanding-relative-velocities-between-particles-are-dominated-by-viscous-shear)"
      ]
    },
    {
      "cell_type": "code",
      "metadata": {
        "id": "u9kpvCxjrTZS"
      },
      "source": [
        "import aguaclara\n",
        "import aguaclara.core.physchem as pc\n",
        "from aguaclara.core.units import unit_registry as u\n",
        "import aguaclara.core.constants as con\n",
        "import aguaclara.research.environmental_processes_analysis as epa\n",
        "import aguaclara.research.floc_model as fm\n",
        "\n",
        "import numpy as np\n",
        "import matplotlib.pyplot as plt\n",
        "\n",
        "C_Clay = np.arange(1,1000,1)*u.NTU\n",
        "n_Clay = fm.particle_number_concentration(C_Clay,fm.Clay)\n",
        "fig, ax = plt.subplots()\n",
        "ax.loglog(C_Clay.to(u.NTU),n_Clay.to(1/u.L))\n",
        "ax.set(xlabel='Clay concentration ($NTU$)', ylabel='Number of clay per liter')\n",
        "#fig.savefig('Flocculation/Images/NClay_vs_CClay')\n",
        "plt.show()\n"
      ],
      "execution_count": null,
      "outputs": []
    },
    {
      "cell_type": "code",
      "metadata": {
        "id": "53IFiKIAsZdK"
      },
      "source": [
        "import aguaclara.core.physchem as pc\n",
        "from aguaclara.core.units import unit_registry as u\n",
        "import aguaclara.core.constants as con\n",
        "import aguaclara.research.environmental_processes_analysis as epa\n",
        "import aguaclara.research.floc_model as fm\n",
        "\n",
        "import numpy as np\n",
        "import matplotlib.pyplot as plt\n",
        "lamda_Clay = fm.sep_dist_clay(C_Clay,fm.Clay)\n",
        "fig, ax = plt.subplots()\n",
        "ax.semilogx(C_Clay.to(u.NTU),lamda_Clay.to(u.mm))\n",
        "ax.set(xlabel='Clay concentration ($NTU$)', ylabel=r'Clay separation distance ($mm$)')\n",
        "#fig.savefig('Flocculation/Images/LambdaClay_vs_CClay')\n",
        "plt.show()"
      ],
      "execution_count": null,
      "outputs": []
    },
    {
      "cell_type": "code",
      "metadata": {
        "id": "naHLmCCWsIRt"
      },
      "source": [
        "import aguaclara.core.physchem as pc\n",
        "from aguaclara.core.units import unit_registry as u\n",
        "import aguaclara.core.constants as con\n",
        "import aguaclara.research.environmental_processes_analysis as epa\n",
        "import aguaclara.research.floc_model as fm\n",
        "\n",
        "import numpy as np\n",
        "import matplotlib.pyplot as plt\n",
        "Temperature = 20 * u.degC\n",
        "G=np.arange(1,1000,1)*u.Hz\n",
        "EDR = G**2 * pc.viscosity_kinematic_water(Temperature)\n",
        "Inner_viscous = fm.lambda_vel(EDR, Temperature)\n",
        "fig, ax = plt.subplots()\n",
        "ax.semilogx(G.to(u.Hz),Inner_viscous.to(u.mm))\n",
        "ax.set(xlabel='Velocity gradient (Hz)', ylabel='Inner viscous length scale (mm)')\n",
        "ax.text(10, 17, 'Eddies cause mixing', fontsize=12,rotation=-30)\n",
        "ax.text(3, 7, 'Viscous shear', fontsize=12,rotation=-30)\n",
        "#fig.savefig('Flocculation/Images/innerviscous_vs_G')\n",
        "plt.show()"
      ],
      "execution_count": null,
      "outputs": []
    },
    {
      "cell_type": "markdown",
      "metadata": {
        "id": "UUnDh_ANtAMS"
      },
      "source": [
        "## Flocculation Examples\n",
        "\n",
        "The following code is from [Flocculation Examples](https://aguaclara.github.io/Textbook/Flocculation/Floc_Examples.html)\n",
        "\n",
        "(It does throw errors but the notes at the beginning of the chapter say it is going to be reworked)"
      ]
    },
    {
      "cell_type": "code",
      "metadata": {
        "id": "nz_H_V-htMFF"
      },
      "source": [
        "from aguaclara.core import pipes\n",
        "# %%\n",
        "#Assumptions\n",
        "Pi_VC = .62 #Vena contracta coefficient of an orifice\n",
        "Ke = ((1/Pi_VC**2)-1)**2 #expansion coefficient\n",
        "\n",
        "#Functions to calculate key parameters\n",
        "\n",
        "def Gave(G_theta,h_floc,Temp):\n",
        "    \"\"\"Calculates average G given target minimum collision potential, total headloss, and design temperature\n",
        "    equation from flocculation slides\"\"\"\n",
        "    G_ave = (u.gravity*h_floc/(G_theta*pc.viscosity_kinematic_water(Temp))).to(1/u.s)\n",
        "    return G_ave\n",
        "\n",
        "def restime(G_theta,G_ave):\n",
        "    \"\"\"Calculates residence time given collision potential and average G\n",
        "    equation from flocculation slides\"\"\"\n",
        "    theta = G_theta/G_ave\n",
        "    return theta\n",
        "\n",
        "\n",
        "def Dpipe(Ke,Pi_HS,Q,G_ave,Temp,SDR):\n",
        "    \"\"\"Calculates the actual inner diameter of the pipe\n",
        "    equation from flocculation slides\"\"\"\n",
        "    D_pipe = ((Ke/(2*Pi_HS*pc.viscosity_kinematic(Temp)*G_ave**2))*(4*Q.to(u.m**3/u.s)/np.pi)**3)**(1/7)\n",
        "    return D_pipe\n",
        "\n",
        "def Keactual(ID_pipe,G_ave,Temp,Pi_HS,Q):\n",
        "    \"\"\"estimates actual expansion coefficient given the actual inner diameter and other relevant inputs\n",
        "    equation from flocculation slides\"\"\"\n",
        "    Ke_actual = np.pi**3*ID_pipe**7*G_ave**2*pc.viscosity_kinematic(Temp)*Pi_HS/(32*Q.to(u.m**3/u.s)**3)\n",
        "    return Ke_actual\n",
        "\n",
        "\n",
        "\n",
        "def Aorifice(ID_pipe,Ke_actual,Temp,Q):\n",
        "    \"\"\"Calculates the orifice area given pipe inner diameter, expansion coefficient, Temperature, and flow\"\"\"\n",
        "    A1 = (pc.area_circle(ID_pipe)).to(u.cm**2).magnitude #Pipe area\n",
        "    Nu = pc.viscosity_kinematic(Temp) #kinematic viscocity\n",
        "    Re = pc.re_pipe(Q,ID_pipe,Nu) #reynolds number\n",
        "\n",
        "    def f_orif(A2,A1,Ke_actual,Re): #root of this function is the orifice area\n",
        "        return (2.72+(A2/A1)*(4000/Re))*(1-A2/A1)*((A1/A2)**2-1)-Ke_actual\n",
        "\n",
        "    A_orifice = (brentq(lambda A2: f_orif(A2,A1,Ke_actual,Re), -1, 2*A1))*u.cm**2 #numerical optimization\n",
        "\n",
        "    return A_orifice\n",
        "\n",
        "\n",
        "def eave(G_ave,Temp):\n",
        "    \"\"\"Calculates the average energy dissipation rate\"\"\"\n",
        "    e_ave = (pc.viscosity_kinematic(Temp)*G_ave**2).to(u.mW/u.kg)\n",
        "    return e_ave\n",
        "\n",
        "def Hchip(A_orifice,ID_pipe):\n",
        "    \"\"\"This function calculates the height of the chip based on the orifice area and pipe diameter\n",
        "    The function uses numerical optimization to solve the transcendental equation\"\"\"\n",
        "    A_flow = A_orifice.magnitude #orifice area stripped of units\n",
        "    r=(ID_pipe/2).magnitude #radius stripped of units\n",
        "    c = A_flow/r**2 #left hand side of equation\n",
        "\n",
        "    def f(a,c): #roots of this function are theta\n",
        "        return a-sin(a)*cos(a)-c\n",
        "\n",
        "    theta = brentq(lambda a: f(a,c), 0, 13) #numerical optimization\n",
        "    r_u = r*u.cm #radius with units\n",
        "    y = r_u - r_u*np.cos(theta) #height of orifice\n",
        "\n",
        "    H_chip = ID_pipe-y #height of chip\n",
        "    return H_chip\n",
        "\n",
        "def Cost_Length(L_pipe,ND_pipe):\n",
        "    \"\"\"This function calculates the total cost of the system and the total length of the system\"\"\"\n",
        "    #Length of pipe and number of fittings needed\n",
        "    OD_pipe = pipe.OD(ND_pipe)\n",
        "    Total_Pipe = L_pipe + .5*u.m\n",
        "    Number_T = np.ceil(Total_Pipe.magnitude)\n",
        "    Number_Elbow = np.ceil(Total_Pipe.magnitude)\n",
        "\n",
        "    if ND_pipe.magnitude == 3:\n",
        "        Cost_T = 3.94*u.dollar\n",
        "        Cost_Elbow = 3.53*u.dollar\n",
        "        Cost_Pipe = (17.14/10*(u.dollar/u.foot)).to(u.dollar/u.m)\n",
        "        Cost_Valve = 10*u.dollar\n",
        "        Width_T = (3.99*u.inch).to(u.cm)\n",
        "        Width_Elbow = (3.97*u.inch).to(u.cm)\n",
        "\n",
        "\n",
        "    if ND_pipe.magnitude ==4:\n",
        "        Cost_T = 7.16*u.dollar\n",
        "        Cost_Elbow = 5.40*u.dollar\n",
        "        Cost_Pipe = (21.5/10*(u.dollar/u.foot)).to(u.dollar/u.m)\n",
        "        Cost_Valve = 10*u.dollar\n",
        "        Width_T = (5.06*u.inch).to(u.cm)\n",
        "        Width_Elbow = (5.06*u.inch).to(u.cm)\n",
        "\n",
        "    if ND_pipe.magnitude ==6:\n",
        "        Cost_T = 7.16*u.dollar\n",
        "        Cost_Elbow = 5.40*u.dollar\n",
        "        Cost_Pipe = (21.5/10*(u.dollar/u.foot)).to(u.dollar/u.m)\n",
        "        Cost_Valve = 10*u.dollar\n",
        "        Width_T = (5.06*u.inch).to(u.cm)\n",
        "        Width_Elbow = (5.06*u.inch).to(u.cm)\n",
        "\n",
        "\n",
        "    Total_Cost = Cost_Pipe*Total_Pipe + Cost_T*Number_T + Cost_Elbow*Number_Elbow + Cost_Valve*Number_Elbow\n",
        "    Floor_Length = Number_T*(Width_T+Width_Elbow-OD_pipe).to(u.m)\n",
        "    Output=[Total_Cost,Floor_Length]\n",
        "    return Output\n",
        "#Inputs\n",
        "D_Sed = 2.5*u.cm\n",
        "A_Sed = pc.area_circle(D_Sed)\n",
        "v_Sed = 2*u.mm/u.s\n",
        "Q = (v_Sed*A_Sed).to(u.mL/u.s)\n",
        "print('The flow rate is',Q)\n",
        "\n",
        "Temp = 15*u.degC\n",
        "h_floc = 50*u.cm #standard for Aguaclara plants\n",
        "G_theta = 20000 #standard for Aguaclara plants\n",
        "Pi_HS = 6  ##3-6 is a good range, more research needed\n",
        "SDR = 41 #Standard ratio\n",
        "#Calculate G average using functions listed above and given inputs\n",
        "G_ave = Gave(G_theta,h_floc,Temp)\n",
        "theta = restime(G_theta,G_ave)\n",
        "e_ave = eave(G_ave,Temp)\n",
        "print('The average G value is ',G_ave)\n",
        "print('The residence time in the flocculator is ',theta)\n",
        "print('The average energy dissipation rate is ', e_ave)\n",
        "#Calculate the pipe diameter, both inner and nominal and determine area of pipe using inner diameter output\n",
        "D_pipe = (Dpipe(Ke,Pi_HS,Q,G_ave,Temp,SDR)).to(u.cm)\n",
        "#Calculate nominal diameter of pipe\n",
        "ND_pipe = pipes.ND_SDR_available(D_pipe,SDR)\n",
        "#Calculate nominal diameter of pipe\n",
        "ID_pipe = pipes.ID_SDR(ND_pipe,SDR).to(u.cm)\n",
        "\n",
        "ID_pipe = 5*u.mm\n",
        "#Calculate inner diameter of pipe\n",
        "A_pipe = (pc.area_circle(ID_pipe)).to(u.cm**2)\n",
        "\n",
        "print('The ideal inner diameter of the pipe would be ',D_pipe)\n",
        "print('The nominal diameter of the pipe is ',ND_pipe, ', and the inner diameter is ', ID_pipe)\n",
        "print('The area of the pipe is ', A_pipe)\n",
        "#Calculate the actual Ke as a result of the calculated inner pipe diameter\n",
        "Ke_actual = (Keactual(ID_pipe,G_ave,Temp,Pi_HS,Q)).to(u.dimensionless)\n",
        "print('The initial expansion minor loss coefficient was ',Ke)\n",
        "print('The actual expansion minor loss coefficient is ',Ke_actual)\n",
        "#Calculate the orifice area\n",
        "A_orifice = Aorifice(ID_pipe,Ke_actual,Temp,Q)\n",
        "print('The orifice area is ',A_orifice)\n",
        "# The following line of code needs to be removed once the orifice area equation is corrected.\n",
        "\n",
        "H_chip = Hchip(A_orifice,ID_pipe)\n",
        "print('The height of the chip is ', H_chip)\n",
        "#Calculate average velocity\n",
        "v_avg = (Q/pc.area_circle(ID_pipe)).to(u.m/u.s) #first calculate average velocity\n",
        "print('The average velocity is ',v_avg)\n",
        "\n",
        "#Calculate pipe length\n",
        "L_pipe = (v_avg*theta).to(u.m) #then multiply velocity by residence time to get the required length of pipe\n",
        "print('The length of the pipe is ',L_pipe)"
      ],
      "execution_count": null,
      "outputs": []
    },
    {
      "cell_type": "markdown",
      "metadata": {
        "id": "EVc7Ed4ktlCj"
      },
      "source": [
        "## Mechanical Flocculator Solution\n",
        "\n",
        "The following snippets of code are from the section [Mechanical Flocculator Solution: Mechanical Flocculator Design](https://aguaclara.github.io/Textbook/Flocculation/Floc_Mechanical_Solution.html#mechanical-flocculator-design)"
      ]
    },
    {
      "cell_type": "code",
      "metadata": {
        "id": "wYlG8hDqwdwn"
      },
      "source": [
        "import aguaclara.core.physchem as pc\n",
        "from aguaclara.core.units import unit_registry as u\n",
        "\n",
        "import numpy as np\n",
        "import matplotlib.pyplot as plt"
      ],
      "execution_count": null,
      "outputs": []
    },
    {
      "cell_type": "code",
      "metadata": {
        "id": "Op0XXKxUwi3W"
      },
      "source": [
        "flow_plant = 50 * u.L/u.s\n",
        "G_mech = 70 / u.s\n",
        "temp_design = 10 * u.degC"
      ],
      "execution_count": null,
      "outputs": []
    },
    {
      "cell_type": "code",
      "metadata": {
        "id": "JhoY0sx5w0G1"
      },
      "source": [
        "#answer\n",
        "time_mech = 30 * u.min\n",
        "Gtime_mech= (G_mech * time_mech).to(u.dimensionless)\n",
        "\n",
        "print('The Gt is', Gtime_mech)"
      ],
      "execution_count": null,
      "outputs": []
    },
    {
      "cell_type": "code",
      "metadata": {
        "id": "mYp81kOPw2pW"
      },
      "source": [
        "#answer\n",
        "ed_rate_mech_ave = (G_mech**2 * pc.viscosity_kinematic_water(temp_design)).to(u.mW/u.kg)\n",
        "print('The equivalent average energy dissipation rate is' , ed_rate_mech_ave, '.')"
      ],
      "execution_count": null,
      "outputs": []
    },
    {
      "cell_type": "code",
      "metadata": {
        "id": "Ysgn-baWw8HH"
      },
      "source": [
        "#answer\n",
        "def power_floc_shaft(Q, G, t, temp):\n",
        "    return (G**2 * Q * t * pc.viscosity_dynamic_water(temp)).to(u.kW)\n",
        "power_mech_floc = power_floc_shaft(flow_plant,G_mech,time_mech,temp_design)\n",
        "print('The power requirement is', power_mech_floc,'.')"
      ],
      "execution_count": null,
      "outputs": []
    },
    {
      "cell_type": "code",
      "metadata": {
        "id": "-DSq8HEHw-su"
      },
      "source": [
        "#answer\n",
        "ratio_prop_vel = 0.75\n",
        "pi_plate = 0.04\n",
        "vel_prop = 3 * u.ft/u.s\n",
        "height_prop = 3 * u.cm\n",
        "\n",
        "ed_rate_prop_max = pi_plate * ((ratio_prop_vel *  vel_prop)**3 / height_prop).to(u.mW/u.kg)\n",
        "\n",
        "print('The maximum energy dissipation rate behind the propeller tip is', ed_rate_prop_max)"
      ],
      "execution_count": null,
      "outputs": []
    },
    {
      "cell_type": "code",
      "metadata": {
        "id": "9Z7jG1xcxCG2"
      },
      "source": [
        "#answer\n",
        "ed_rate_mech_ratio = ed_rate_prop_max / ed_rate_mech_ave\n",
        "print('The ratio of maximum to average energy dissipation rate is', ed_rate_mech_ratio,'.')\n",
        "\n",
        "G_mech_ratio = ed_rate_mech_ratio**0.5\n",
        "print('The ratio of maximum to average velocity gradient is', G_mech_ratio,'.')\n",
        "\n",
        "# Answers for these are slightly off from answers in textbook"
      ],
      "execution_count": null,
      "outputs": []
    },
    {
      "cell_type": "code",
      "metadata": {
        "id": "xtcGnUx0xRUZ"
      },
      "source": [
        "#answer\n",
        "G_hyd_ratio = np.sqrt(2)\n",
        "G_mech_ave_max = 180 * u.Hz\n",
        "G_hyd_ave_max = G_mech_ave_max * (G_mech_ratio/G_hyd_ratio)\n",
        "print('The maximum G for hydraulic flocculators is', G_hyd_ave_max, '.')"
      ],
      "execution_count": null,
      "outputs": []
    },
    {
      "cell_type": "code",
      "metadata": {
        "id": "JD2pFOBNxUc4"
      },
      "source": [
        "#answer\n",
        "def energy_mech(Q, G, t, temp):\n",
        "    return (power_floc_shaft(Q, G, t, temp) / Q).to(u.J/u.L)\n",
        "\n",
        "\n",
        "print('The energy required using the mechanical flocculator is', energy_mech(flow_plant,G_mech,time_mech,temp_design),'.')"
      ],
      "execution_count": null,
      "outputs": []
    },
    {
      "cell_type": "code",
      "metadata": {
        "id": "KZJcQjuqxrY5"
      },
      "source": [
        "#answer\n",
        "efficiency_motor = 0.8\n",
        "electricity_rate = ((0.15 * u.USD) / (u.kW * u.hr))\n",
        "electricity_cost_mech = (electricity_rate * energy_mech(flow_plant,G_mech,time_mech,temp_design) / efficiency_motor).to(u.USD/u.ML)\n",
        "print('The cost of electricity for mechanical flocculation is', electricity_cost_mech,'.')"
      ],
      "execution_count": null,
      "outputs": []
    },
    {
      "cell_type": "code",
      "metadata": {
        "id": "QFSaD7qOxuyj"
      },
      "source": [
        "#answer\n",
        "delta_height = (power_floc_shaft(flow_plant,G_mech,time_mech,temp_design) / (flow_plant * pc.density_water(temp_design) * u.gravity)).to(u.m)\n",
        "\n",
        "print('The equivalent amount of potential energy to run this  mechanical flocculator is', delta_height,'.')\n",
        "\n",
        "print('The shaft power required for this flocculator is ', power_floc_shaft(flow_plant,G_mech,time_mech,temp_design),'.')"
      ],
      "execution_count": null,
      "outputs": []
    },
    {
      "cell_type": "code",
      "metadata": {
        "id": "IduDvf7yx14N"
      },
      "source": [
        "#answer\n",
        "vol_mech = (time_mech * flow_plant).to(u.m**3)\n",
        "print('The required reactor volume for the mechanical flocculator is', vol_mech,'.')"
      ],
      "execution_count": null,
      "outputs": []
    },
    {
      "cell_type": "code",
      "metadata": {
        "id": "lxq0-ITCx5hW"
      },
      "source": [
        "#answer\n",
        "depth_mech = 4 * u.m\n",
        "area_mech = (vol_mech / (depth_mech * flow_plant))\n",
        "print('The required plan view area is', area_mech)"
      ],
      "execution_count": null,
      "outputs": []
    },
    {
      "cell_type": "markdown",
      "metadata": {
        "id": "5cvyXyvKyklL"
      },
      "source": [
        "## Flocculation Model Solution\n",
        "\n",
        "The following code is from the [Flocculation Model Solution](https://aguaclara.github.io/Textbook/Flocculation/Floc_Model_Solution.html) section.\n",
        "\n",
        "Certain functions were removed from the aguaclara package as the underlying equations are under suspicison. As a result, this code cannot be run in its entirety and sections have been commented out."
      ]
    },
    {
      "cell_type": "code",
      "metadata": {
        "id": "i0Xa-13Uyu33"
      },
      "source": [
        "import aguaclara.core.physchem as pc\n",
        "from aguaclara.core.units import unit_registry as u\n",
        "\n",
        "import aguaclara.research.floc_model as fm\n",
        "\n",
        "import numpy as np\n",
        "import matplotlib.pyplot as plt"
      ],
      "execution_count": null,
      "outputs": []
    },
    {
      "cell_type": "code",
      "metadata": {
        "id": "wg4zNSOiyyrO"
      },
      "source": [
        "ratio_prop_vel = 0.75\n",
        "pi_plate = 0.04\n",
        "vel_prop = 3 * u.ft/u.s\n",
        "height_prop = 3 * u.cm\n",
        "\n",
        "ed_rate_prop_max = pi_plate * ((ratio_prop_vel *  vel_prop)**3 / height_prop).to(u.mW/u.kg)\n",
        "\n",
        "#code is removed due to removal of diam_flox_m\n",
        "#answer\n",
        "#diam_floc_mech = fm.diam_floc_max(ed_rate_prop_max).to(u.um)\n",
        "#print('The diameter of the flocs that interact with the impeller is', diam_floc_mech, '.')\n",
        "#x=fm.DIM_FRACTAL\n",
        "#x"
      ],
      "execution_count": null,
      "outputs": []
    },
    {
      "cell_type": "code",
      "metadata": {
        "id": "XyIJbz6O1W-P"
      },
      "source": [
        "#answer\n",
        "conc_Al = 1.5 * u.mg/u.L\n",
        "conc_clay=100*u.NTU\n",
        "#vel_term_floc_tip = fm.vel_term_floc(conc_Al, conc_clay, fm.PACl,\n",
        "#                                      fm.Clay, fm.DIM_FRACTAL,\n",
        "#                                      diam_floc_mech, temp_design).to(u.mm/u.s)\n",
        "\n",
        "#print('The terminal velocity of flocs that interact with the impeller tip is estimated to be', vel_term_floc_tip)"
      ],
      "execution_count": null,
      "outputs": []
    },
    {
      "cell_type": "code",
      "metadata": {
        "id": "3LNMr5OL2Jlo"
      },
      "source": [
        "#answer\n",
        "vel_capture_10_state = (1.2 * u.m/u.hr).to(u.mm/u.s)\n",
        "print('The 10 State Standards capture velocity is', vel_capture_10_state)\n",
        "print(\"The 10 State Standards sedimentation tank would capture the flocs that are able to survive the energy dissipation rate at the tip of the propeller. \")"
      ],
      "execution_count": null,
      "outputs": []
    },
    {
      "cell_type": "code",
      "metadata": {
        "id": "uChIRlm63hvE"
      },
      "source": [
        "#answer\n",
        "init_sep_dist_clay = fm.sep_dist_clay(100 * u.NTU, fm.Clay).to(u.mm)\n",
        "final_sep_dist_clay = fm.sep_dist_clay(1 * u.NTU, fm.Clay).to(u.mm)\n",
        "print('The average distance between clay particles at 100 NTU is', init_sep_dist_clay)\n",
        "print('The average distance between clay particles at 1 NTU is', final_sep_dist_clay)"
      ],
      "execution_count": null,
      "outputs": []
    },
    {
      "cell_type": "code",
      "metadata": {
        "id": "lyE0jgmi3l65"
      },
      "source": [
        "#answer\n",
        "print('The inner viscous length scale is', fm.lambda_vel(ed_rate_prop_max, temp_design).to(u.mm))"
      ],
      "execution_count": null,
      "outputs": []
    },
    {
      "cell_type": "code",
      "metadata": {
        "id": "v9-Dngos3pp9"
      },
      "source": [
        "#This code is provided to help you make your graph\n",
        "fig, ax = plt.subplots()\n",
        "\n",
        "#Creates the array for energy dissipation rates (EDRs)\n",
        "x = np.logspace(np.log10(1),4)*u.mW/u.kg\n",
        "\n",
        "ax.text(10, 2, 'Inner Viscous Scale', fontsize=12,rotation=-30)\n",
        "ax.set(title='Inner Viscous Scale vs Energy Dissipation Rate')\n",
        "\n",
        "ax.set(ylabel='Inner Viscous Scale (mm)')\n",
        "ax.set(xlabel='Energy Dissipation Rate(mW/kg)')\n",
        "\n",
        "#plt.grid(b=True, which='major', color='k', linestyle='-', linewidth=1)\n",
        "#plt.grid(b=True, which='minor', color='k', linestyle='-', linewidth=0.5)\n",
        "\n",
        "#fm.lambda_vel, which returns the inner viscous length scale,\n",
        "#is being applied to the array of EDRs for our design temperature\n",
        "y = fm.lambda_vel(x,temp_design)\n",
        "ax.loglog(x, y.to(u.mm))\n",
        "\n",
        "#------------------------------------------------------------------------\n",
        "#----------------------------YOUR CODE BELOW-----------------------------\n",
        "#------------------------------------------------------------------------\n",
        "#answer\n",
        "ax.plot(ed_rate_prop_max.to(u.mW/u.kg), final_sep_dist_clay.to(u.mm), 'ko')\n",
        "\n",
        "\n",
        "#print(x)\n",
        "#print(y)\n",
        "print(final_sep_dist_clay)\n",
        "print(ed_rate_prop_max)\n",
        "\n",
        "plt.show()"
      ],
      "execution_count": null,
      "outputs": []
    },
    {
      "cell_type": "code",
      "metadata": {
        "id": "5l-cWloClfxa"
      },
      "source": [
        "diam_tube = 7.5 * u.cm\n",
        "conc_clay = 100*u.NTU\n",
        "conc_Al = 0.5*u.mg/u.L\n",
        "\n",
        "\n",
        "#fm.ratio_area_clay_total() returns fraction (between 0 and 1) that represents the surface area of\n",
        "#the clay particle over the sum of the surface area of the clay and reactor walls\n",
        "\n",
        "wall_loss = 1 - fm.ratio_area_clay_total(conc_clay, fm.Clay, diam_tube, fm.RATIO_HEIGHT_DIAM)\n",
        "print('The fraction of the coagulant lost to the walls is', wall_loss)\n",
        "\n",
        "#fm.gamma_coag() returns the fraction of clay that is covered by coagulant. This is a very hard parameter\n",
        "#to actually measure, so this is just an estimate.\n",
        "\n",
        "fraction_coated = fm.gamma_coag(conc_clay,conc_Al, fm.PACl,\n",
        "                                  fm.Clay, diam_tube, fm.RATIO_HEIGHT_DIAM)\n",
        "print('The fraction of the clay surface area that is is coated is', fraction_coated)"
      ],
      "execution_count": null,
      "outputs": []
    },
    {
      "cell_type": "code",
      "metadata": {
        "id": "7eHXqjjDljUQ"
      },
      "source": [
        "ed_rate_mech_ave = 6.4*u.mW/u.kg\n",
        "\n",
        "time_first_collision = fm.time_col_laminar(ed_rate_mech_ave, 10*u.degC,\n",
        "                                             conc_Al, conc_clay, fm.PACl,\n",
        "                                             fm.Clay, fm.Clay.Diameter, diam_tube,\n",
        "                                             fm.DIM_FRACTAL, fm.RATIO_HEIGHT_DIAM).to(u.s)\n",
        "\n",
        "print('The time required for the first succesful collision is', time_first_collision)"
      ],
      "execution_count": null,
      "outputs": []
    },
    {
      "cell_type": "code",
      "metadata": {
        "id": "LOhI18urlnbE"
      },
      "source": [
        "#answer\n",
        "ed_rate_floc_aguaclara = 11*u.mW/u.kg\n",
        "time_floc_aguaclara = 8.1*u.minute\n",
        "temp_design_aguaclara = 15*u.degC\n",
        "\n",
        "#This equation for G can be found in the course slides (all equations you see in design challenges can be found in the slides)\n",
        "G_floc_aguaclara = np.sqrt(ed_rate_floc_aguaclara/pc.viscosity_kinematic_water(temp_design_aguaclara))\n",
        "Gtime_floc_aguaclara = (G_floc_aguaclara*time_floc_aguaclara).to(u.dimensionless)\n",
        "print('The AguaClara Gt value is', Gtime_floc_aguaclara)"
      ],
      "execution_count": null,
      "outputs": []
    },
    {
      "cell_type": "code",
      "metadata": {
        "id": "jHjw4X5Flr1C"
      },
      "source": [
        "#Fitting constant/Sedimentation tank factor\n",
        "k = 0.24\n",
        "\n",
        "#gamma_aguaclara_design uses functions in floc_model.py to solve the equation in the problem statement\n",
        "conc_clay_goal = 2 * u.NTU\n",
        "gamma_aguaclara_design = ((3/2) * (fm.sep_dist_clay(conc_clay_goal, fm.Clay)**2\n",
        "                           / (k * np.pi * (fm.Clay.Diameter * u.m)**2\n",
        "                              * Gtime_floc_aguaclara\n",
        "                             )\n",
        "                          )).magnitude\n",
        "#gamma_aguaclara_design=gamma_aguaclara_design.magnitude\n",
        "\n",
        "print('The Gamma value is', gamma_aguaclara_design)"
      ],
      "execution_count": null,
      "outputs": []
    },
    {
      "cell_type": "code",
      "metadata": {
        "id": "q_ISgbYcl161"
      },
      "source": [
        "fig, ax = plt.subplots()\n",
        "#Define the range of coagulant. This is necessary to create plots of pC* as a function of coagulant dose.\n",
        "coag_graph = np.linspace(0.01, 2.5, 100) * u.mg/u.L\n",
        "\n",
        "# Graph results of a particular NTU. Note that you can change this value to see how the graph responds.\n",
        "# A change here even changes the graph title changes!\n",
        "plot_NTU = 50*u.NTU\n",
        "\n",
        "#plt.figure(str(plot_NTU), (6,6))\n",
        "ax.set(title=(str(plot_NTU)+' Graph for Various Humic Acid Concentrations'))\n",
        "ax.set(ylabel='pC*')\n",
        "ax.set(xlabel='coagulant dosage (mg/L)')\n",
        "\n",
        "# Create an array of humic acid concentrations\n",
        "plot_humic_acid = np.linspace(0,15,6)*u.mg/u.L\n",
        "\n",
        "# Create a function that only has inputs for the values that we will change between plots.\n",
        "#All other variables are taken from predefined values. This simplifies the function call for use in generating the plots.\n",
        "def plot_pC(conc_humic_acid):\n",
        "    k = 0.24\n",
        "    # The energy dissipation rate for aguaclara designs\n",
        "    ed_rate = 11*u.mW/u.kg\n",
        "    #The inner diameter of the flocculator tube is important because a significant fraction of the\n",
        "    #coagulant ends up attaching to the flocculator walls\n",
        "    tube_diam = 3/8 * u.inch\n",
        "    time_floc = 8.1 * u.minute\n",
        "    temp = 15 * u.degC\n",
        "    #pc_viscous is the solution for the equation in the problem statement. It returns pC*\n",
        "    plot_pC = fm.pc_viscous(ed_rate, temp, time_floc, tube_diam,\n",
        "                            plot_NTU, coag_graph, conc_humic_acid,\n",
        "                            fm.HumicAcid, fm.PACl, fm.Clay,\n",
        "                            k, fm.RATIO_HEIGHT_DIAM)\n",
        "    return plot_pC\n",
        "\n",
        "x = coag_graph.to(u.mg/u.L)\n",
        "\n",
        "ax.plot(x, plot_pC(plot_humic_acid[0]), 'r',\n",
        "         x, plot_pC(plot_humic_acid[1]), 'b',\n",
        "         x, plot_pC(plot_humic_acid[2]), 'g',\n",
        "         x, plot_pC(plot_humic_acid[3]), 'm',\n",
        "         x, plot_pC(plot_humic_acid[4]), 'c',\n",
        "         x, plot_pC(plot_humic_acid[5]), 'y')\n",
        "\n",
        "#We can use the array of humic acid concentrations to directly create the legend!\n",
        "plt.legend(plot_humic_acid, loc = 'best')\n",
        "plt.show()"
      ],
      "execution_count": null,
      "outputs": []
    },
    {
      "cell_type": "code",
      "metadata": {
        "id": "Vi5F6XhAl6oA"
      },
      "source": [
        "fig, ax = plt.subplots()\n",
        "\n",
        "#answer\n",
        "plot_NTU = 10*u.NTU\n",
        "\n",
        "#plt.figure(str(plot_NTU), (6,6))\n",
        "ax.set(title=(str(plot_NTU)+' Graph'))\n",
        "ax.set(ylabel='Settled water turbidity (NTU)')\n",
        "ax.set(xlabel='coagulant dosage (mg/L)')\n",
        "\n",
        "def plot_conc_clay(conc_clay, conc_nat_org_mat):\n",
        "    k = 0.24\n",
        "    ed_rate = 11*u.mW/u.kg\n",
        "    #The inner diameter of the flocculator tube is important because a significant fraction of the\n",
        "    #coagulant ends up attaching to the flocculator walls\n",
        "    tube_diam = 3/8 * u.inch\n",
        "    conc_clay = plot_NTU\n",
        "    time_floc = 8.1 * u.minute\n",
        "    temp = 15 * u.degC\n",
        "    #s_t calls on fm.pc_viscous() like the previous cell of code, but also uses the fm.invp()\n",
        "    #function to turn pC* back into units of settled water turbididty.\n",
        "    s_t = fm.invp(fm.pc_viscous(ed_rate, temp, time_floc, tube_diam,\n",
        "               conc_clay, coag_graph, conc_nat_org_mat, fm.HumicAcid, fm.PACl, fm.Clay,\n",
        "                            k, fm.RATIO_HEIGHT_DIAM),conc_clay)\n",
        "\n",
        "    return s_t\n",
        "\n",
        "#Creates array of humic acid concentrations. This was done in the previous code cell with np.linspace,\n",
        "#but because we don't want evenly spaced concentrations here we input our desired values manually\n",
        "plot_humic_acid = np.array([0,1,5,20])*u.mg/u.L\n",
        "\n",
        "x = coag_graph.to(u.mg/u.L)\n",
        "ax.plot(x, plot_conc_clay(plot_NTU, plot_humic_acid[0]), 'r',\n",
        "         x, plot_conc_clay(plot_NTU, plot_humic_acid[1]), 'b',\n",
        "         x, plot_conc_clay(plot_NTU, plot_humic_acid[2]), 'g',\n",
        "         x, plot_conc_clay(plot_NTU, plot_humic_acid[3]), 'y')\n",
        "\n",
        "plt.legend(plot_humic_acid, loc = 'best')\n",
        "plt.show()"
      ],
      "execution_count": null,
      "outputs": []
    },
    {
      "cell_type": "markdown",
      "metadata": {
        "id": "Blpy7a6BmG9J"
      },
      "source": [
        "## Flocculator Design Solution\n",
        "\n",
        "The following code is from the final section of this chapter [Flocculator Design Solution](https://aguaclara.github.io/Textbook/Flocculation/Floc_Design_Solution.html)"
      ]
    },
    {
      "cell_type": "code",
      "metadata": {
        "id": "QrnYxdOGmQ0x"
      },
      "source": [
        "#import statements have been cleaned up\n",
        "import aguaclara.core.physchem as pc\n",
        "from aguaclara.core.units import unit_registry as u\n",
        "import aguaclara.core.constants as constants\n",
        "import numpy as np\n",
        "import matplotlib.pyplot as plt\n",
        "#plt.switch_backend('TKAgg')"
      ],
      "execution_count": null,
      "outputs": []
    },
    {
      "cell_type": "code",
      "metadata": {
        "id": "HsR9iOQUmTbu"
      },
      "source": [
        "# head loss through the flocculator\n",
        "headloss_floc_BOD = 40 * u.cm\n",
        "\n",
        "# collision potential based on recent designs for AguaClara Plants\n",
        "Gt_BOD = 37000\n",
        "\n",
        "# water depth at the end of flocculator where it flows into the inlet channel of the sedimentation tank\n",
        "height_floc_end = 2 * u.m\n",
        "\n",
        "flow_plant = 20 * u.L/u.s\n",
        "\n",
        "# This is the estimate for larger plants where the flocculator is as long as the sedimentation tanks.\n",
        "# For lower flow plants we will need to reduce this length because of the constraint that the channels must\n",
        "# be wide enough to construct.\n",
        "length_channel_max = 6 * u.m\n",
        "\n",
        "# minimum and maximum ratios of distance between expansions to baffle spacing\n",
        "Pi_HS_min = 3\n",
        "Pi_HS_max = 6\n",
        "\n",
        "Pi_vc = constants.VC_ORIFICE_RATIO\n",
        "Pi_vc_baffle = Pi_vc**2\n",
        "\n",
        "# width of the polycarbonate sheets used to make baffles\n",
        "width_PC_sheet = 1.067*u.m\n",
        "\n",
        "# this is a reasonable constraint to keep the channel constructable by humans\n",
        "width_floc_min_BOD = width_PC_sheet / 2\n",
        "width_floc_max_BOD = width_PC_sheet\n",
        "\n",
        "# expansion minor loss coefficient for 180 degree bend\n",
        "K_e = (1 / Pi_vc_baffle - 1)**2\n",
        "\n",
        "# this is the minimum temperature of the raw water\n",
        "T_BOD = 15* u.degC"
      ],
      "execution_count": null,
      "outputs": []
    },
    {
      "cell_type": "markdown",
      "metadata": {
        "id": "BqlpC3RLmZVa"
      },
      "source": [
        "### Hydraulic Vertical Flow Flocculator Design\n",
        "The code can be found [here](https://aguaclara.github.io/Textbook/Flocculation/Floc_Design_Solution.html#hydraulic-vertical-flow-flocculator-design)"
      ]
    },
    {
      "cell_type": "code",
      "metadata": {
        "id": "n3GDJdj1mWsg"
      },
      "source": [
        "# head loss through the flocculator\n",
        "headloss_floc_BOD = 40 * u.cm\n",
        "\n",
        "# collision potential based on recent designs for AguaClara Plants\n",
        "Gt_BOD = 37000\n",
        "\n",
        "# water depth at the end of flocculator where it flows into the inlet channel of the sedimentation tank\n",
        "height_floc_end = 2 * u.m\n",
        "\n",
        "flow_plant = 20 * u.L/u.s\n",
        "\n",
        "# This is the estimate for larger plants where the flocculator is as long as the sedimentation tanks.\n",
        "# For lower flow plants we will need to reduce this length because of the constraint that the channels must\n",
        "# be wide enough to construct.\n",
        "length_channel_max = 6 * u.m\n",
        "\n",
        "# minimum and maximum ratios of distance between expansions to baffle spacing\n",
        "Pi_HS_min = 3\n",
        "Pi_HS_max = 6\n",
        "\n",
        "Pi_vc = constants.VC_ORIFICE_RATIO\n",
        "Pi_vc_baffle = Pi_vc**2\n",
        "\n",
        "# width of the polycarbonate sheets used to make baffles\n",
        "width_PC_sheet = 1.067*u.m\n",
        "\n",
        "# this is a reasonable constraint to keep the channel constructable by humans\n",
        "width_floc_min_BOD = width_PC_sheet / 2\n",
        "width_floc_max_BOD = width_PC_sheet\n",
        "\n",
        "# expansion minor loss coefficient for 180 degree bend\n",
        "K_e = (1 / Pi_vc_baffle - 1)**2\n",
        "\n",
        "# this is the minimum temperature of the raw water\n",
        "T_BOD = 15* u.degC"
      ],
      "execution_count": null,
      "outputs": []
    },
    {
      "cell_type": "code",
      "metadata": {
        "id": "btxgm0xvmw7M"
      },
      "source": [
        "def G_avg(hl, Gt, T):\n",
        "    G = (u.gravity * hl) / (Gt * pc.viscosity_kinematic_water(T_BOD))\n",
        "    return G.to(1/u.s)\n",
        "\n",
        "print ('The average velocity gradient of flocculator is', G_avg(headloss_floc_BOD, Gt_BOD, T_BOD))"
      ],
      "execution_count": null,
      "outputs": []
    },
    {
      "cell_type": "code",
      "metadata": {
        "id": "K4M3_Qaxm4OZ"
      },
      "source": [
        "def t_floc_est(hl, Gt, T):\n",
        "    theta = Gt / G_avg(hl, Gt, T)\n",
        "    return theta.to(u.s)\n",
        "\n",
        "print ('The residence time of flocculator is', t_floc_est(headloss_floc_BOD, Gt_BOD, T_BOD))"
      ],
      "execution_count": null,
      "outputs": []
    },
    {
      "cell_type": "code",
      "metadata": {
        "id": "u-JpICEvm8OL"
      },
      "source": [
        "def Gt_operation(hl,Gt,T_BOD,T):\n",
        "    Gt_operation = np.sqrt(u.gravity * hl * t_floc_est(hl, Gt, T_BOD)/pc.viscosity_kinematic_water(T))\n",
        "    return Gt_operation.to(u.dimensionless)\n",
        "Temp_Operation=np.linspace(0, 30)*u.degC\n",
        "ypoints=(Gt_operation(headloss_floc_BOD, Gt_BOD, T_BOD,Temp_Operation))\n",
        "fig, ax = plt.subplots()\n",
        "ax.plot(Temp_Operation,ypoints,'-')\n",
        "#Note the use of latex. The r tells matplotlib to interpret the following strings as raw text.\n",
        "#Without the \"r\" the \\theta would be parsed as a tab (\\t) followed by heta!\n",
        "ax.set(xlabel=r'Temperature ($^\\circ$C)')\n",
        "ax.set(ylabel=r'G$\\theta$')\n",
        "#fig.savefig('Flocculation/Images/Gtheta_vs_temperature')\n",
        "plt.show()"
      ],
      "execution_count": null,
      "outputs": []
    },
    {
      "cell_type": "code",
      "metadata": {
        "id": "yKbX8NzxnCAx"
      },
      "source": [
        "def vol_floc(flow_plant, headloss_floc_BOD, Gt_BOD, T_BOD):\n",
        "    vol = t_floc_est(headloss_floc_BOD, Gt_BOD, T_BOD )*flow_plant\n",
        "    return vol.to(u.m**3)\n",
        "\n",
        "print('The volume of flocculator is', vol_floc(flow_plant, headloss_floc_BOD, Gt_BOD, T_BOD))"
      ],
      "execution_count": null,
      "outputs": []
    },
    {
      "cell_type": "code",
      "metadata": {
        "id": "Q9e2Z2FVnG4K"
      },
      "source": [
        "def length_channel(flow_plant, headloss_floc_BOD, Gt_BOD, T_BOD):\n",
        "\n",
        "    #The factor of two below is because the minimum number of channels in the flocculator is two.\n",
        "    #This is a result of the orientation of the sedimentation tanks and the plumbing in the plant.\n",
        "    #Unless the design is for very low flows (<10 L/s), there will always be an even number of flocculator channels.\n",
        "    length = vol_floc(flow_plant, headloss_floc_BOD, Gt_BOD, T_BOD)/width_floc_min_BOD/2/height_floc_end\n",
        "    return min(length,length_channel_max)\n",
        "\n",
        "print('The maximum channel length is',length_channel(flow_plant, headloss_floc_BOD, Gt_BOD, T_BOD))"
      ],
      "execution_count": null,
      "outputs": []
    },
    {
      "cell_type": "code",
      "metadata": {
        "id": "YFINBYZynKaE"
      },
      "source": [
        "def width_floc_total(flow_plant, headloss_floc_BOD, Gt_BOD, T_BOD):\n",
        "    width_floc = vol_floc(flow_plant, headloss_floc_BOD, Gt_BOD, T_BOD)/(length_channel(flow_plant, headloss_floc_BOD, Gt_BOD, T_BOD)*height_floc_end)\n",
        "    return width_floc.to(u.m)\n",
        "\n",
        "print ('The total width of the flocculator channels is is', width_floc_total(flow_plant, headloss_floc_BOD, Gt_BOD, T_BOD))"
      ],
      "execution_count": null,
      "outputs": []
    },
    {
      "cell_type": "code",
      "metadata": {
        "id": "r5K7ayIQnM_I"
      },
      "source": [
        "def width_floc_min_est(flow_plant, headloss_floc_BOD, Gt_BOD, T_BOD):\n",
        "    Gavg = G_avg(headloss_floc_BOD, Gt_BOD, T_BOD)\n",
        "    nu = pc.viscosity_kinematic_water(T_BOD)\n",
        "    width_floc_min = Pi_HS_min*((K_e/(2 * height_floc_end * (Gavg**2) * nu))**(1/3))*flow_plant/height_floc_end\n",
        "    return width_floc_min.to(u.cm)\n",
        "\n",
        "print('The minimum channel width is', width_floc_min_est(flow_plant, headloss_floc_BOD, Gt_BOD, T_BOD))"
      ],
      "execution_count": null,
      "outputs": []
    },
    {
      "cell_type": "code",
      "metadata": {
        "id": "qAn6NgRdnQmv"
      },
      "source": [
        "def width_floc_min(flow_plant, headloss_floc_BOD, Gt_BOD, T_BOD):\n",
        "    return max(width_floc_min_est(flow_plant, headloss_floc_BOD, Gt_BOD, T_BOD),width_floc_min_BOD)\n",
        "\n",
        "print('The minimum channel width is', width_floc_min(flow_plant, headloss_floc_BOD, Gt_BOD, T_BOD))"
      ],
      "execution_count": null,
      "outputs": []
    },
    {
      "cell_type": "code",
      "metadata": {
        "id": "oORz6cGhnRhK"
      },
      "source": [
        "def num_channel(flow_plant, headloss_floc_BOD, Gt_BOD, T_BOD):\n",
        "     num = (width_floc_total(flow_plant, headloss_floc_BOD, Gt_BOD, T_BOD)/\n",
        "        (width_floc_min(flow_plant, headloss_floc_BOD, Gt_BOD, T_BOD))).to(u.dimensionless)\n",
        "     # floor function with step size 2\n",
        "     num = np.floor(num/2)*2\n",
        "     return int(max(num,2))\n",
        "\n",
        "print('There are', num_channel(flow_plant, headloss_floc_BOD, Gt_BOD, T_BOD),'channels.')"
      ],
      "execution_count": null,
      "outputs": []
    },
    {
      "cell_type": "code",
      "metadata": {
        "id": "FFx1TDcinUMT"
      },
      "source": [
        "def width_floc(flow_plant, headloss_floc_BOD, Gt_BOD, T_BOD):\n",
        "    width_total = width_floc_total(flow_plant, headloss_floc_BOD, Gt_BOD, T_BOD)\n",
        "    num_c = num_channel(flow_plant, headloss_floc_BOD, Gt_BOD, T_BOD)\n",
        "    return (width_total/num_c).to(u.cm)\n",
        "\n",
        "print('The actual flocculator channel width is', width_floc(flow_plant, headloss_floc_BOD, Gt_BOD, T_BOD))"
      ],
      "execution_count": null,
      "outputs": []
    },
    {
      "cell_type": "code",
      "metadata": {
        "id": "wzCaYvVSnY3Q"
      },
      "source": [
        "def height_exp_max(flow_plant, headloss_floc_BOD, Gt_BOD, T_BOD):\n",
        "\n",
        "    g_avg = G_avg(headloss_floc_BOD, Gt_BOD, T_BOD)\n",
        "    nu = pc.viscosity_kinematic_water(T_BOD)\n",
        "    term1 = (K_e/(2 * (g_avg**2) * nu))**(1/4)\n",
        "\n",
        "    term2 = (Pi_HS_max*flow_plant/width_floc(flow_plant, headloss_floc_BOD, Gt_BOD, T_BOD))**(3/4)\n",
        "\n",
        "    height_exp = term1*term2\n",
        "    return height_exp.to(u.m)\n",
        "\n",
        "print('The maximum distance between expansions', height_exp_max(flow_plant, headloss_floc_BOD, Gt_BOD, T_BOD))"
      ],
      "execution_count": null,
      "outputs": []
    },
    {
      "cell_type": "code",
      "metadata": {
        "id": "NOqKB2Iwnbgg"
      },
      "source": [
        "def num_expansions(flow_plant, headloss_floc_BOD, Gt_BOD, T_BOD):\n",
        "    return int(np.ceil(height_floc_end/(height_exp_max(flow_plant, headloss_floc_BOD, Gt_BOD, T_BOD))).to(u.dimensionless))\n",
        "\n",
        "print('The number of expansions is', num_expansions(flow_plant, headloss_floc_BOD, Gt_BOD, T_BOD))"
      ],
      "execution_count": null,
      "outputs": []
    },
    {
      "cell_type": "code",
      "metadata": {
        "id": "Xq_jOoUJne2t"
      },
      "source": [
        "def height_exp(flow_plant, headloss_floc_BOD, Gt_BOD, T_BOD):\n",
        "\n",
        "    return height_floc_end/num_expansions(flow_plant, headloss_floc_BOD, Gt_BOD, T_BOD)\n",
        "\n",
        "\n",
        "print('The actual distance between expansions is', height_exp(flow_plant, headloss_floc_BOD, Gt_BOD, T_BOD))"
      ],
      "execution_count": null,
      "outputs": []
    },
    {
      "cell_type": "code",
      "metadata": {
        "id": "pWb4aEgFnhZe"
      },
      "source": [
        "def spacing_floc(flow_plant, headloss_floc_BOD, Gt_BOD, T_BOD):\n",
        "\n",
        "    g_avg = G_avg(headloss_floc_BOD, Gt_BOD, T_BOD)\n",
        "    nu = pc.viscosity_kinematic_water(T_BOD)\n",
        "    term1 = (K_e/(2 * height_exp(flow_plant, headloss_floc_BOD, Gt_BOD, T_BOD) * (g_avg**2) * nu))**(1/3)\n",
        "\n",
        "    ans =  term1*flow_plant/width_floc(flow_plant, headloss_floc_BOD, Gt_BOD, T_BOD)\n",
        "    return ans.to(u.m)\n",
        "\n",
        "print ('The spacing between baffles is', spacing_floc(flow_plant, headloss_floc_BOD, Gt_BOD, T_BOD))"
      ],
      "execution_count": null,
      "outputs": []
    },
    {
      "cell_type": "code",
      "metadata": {
        "id": "fPjTwCB9r8SP"
      },
      "source": [
        "def num_baffles(flow_plant, headloss_floc_BOD, Gt_BOD, T_BOD):\n",
        "    num = round(num_channel(flow_plant, headloss_floc_BOD, Gt_BOD, T_BOD)*length_channel(flow_plant, headloss_floc_BOD, Gt_BOD, T_BOD)/spacing_floc(flow_plant, headloss_floc_BOD, Gt_BOD, T_BOD))\n",
        "    return int(num)\n",
        "\n",
        "print ('The number of baffle spaces that would fit in the channels is', num_baffles(flow_plant, headloss_floc_BOD, Gt_BOD, T_BOD))"
      ],
      "execution_count": null,
      "outputs": []
    },
    {
      "cell_type": "code",
      "metadata": {
        "id": "MyLau92XnkxF"
      },
      "source": [
        "def Gt_baffle(flow_plant, headloss_floc_BOD, Gt_BOD, T_BOD):\n",
        "\n",
        "    term1 = spacing_floc(flow_plant, headloss_floc_BOD, Gt_BOD, T_BOD)*width_floc(flow_plant, headloss_floc_BOD, Gt_BOD, T_BOD)\n",
        "    ans = term1*G_avg(headloss_floc_BOD, Gt_BOD, T_BOD)*height_floc_end/flow_plant\n",
        "    return ans.to(u.dimensionless)\n",
        "\n",
        "print ('The collision potential (Gt) per baffle space is', Gt_baffle(flow_plant, headloss_floc_BOD, Gt_BOD, T_BOD))\n",
        "\n",
        "def num_baffle_min(flow_plant, headloss_floc_BOD, Gt_BOD, T_BOD):\n",
        "\n",
        "    ans = round(Gt_BOD/Gt_baffle(flow_plant, headloss_floc_BOD, Gt_BOD, T_BOD))\n",
        "    return int(ans)\n",
        "\n",
        "print ('The minimum number of baffles required is', num_baffle_min(flow_plant, headloss_floc_BOD, Gt_BOD, T_BOD))"
      ],
      "execution_count": null,
      "outputs": []
    },
    {
      "cell_type": "code",
      "metadata": {
        "id": "NHvC5tSZnm6n"
      },
      "source": [
        "if num_baffles(flow_plant, headloss_floc_BOD, Gt_BOD, T_BOD) == num_baffle_min(flow_plant, headloss_floc_BOD, Gt_BOD, T_BOD):\n",
        "    print('Yes')\n",
        "else:\n",
        "    print('No')"
      ],
      "execution_count": null,
      "outputs": []
    },
    {
      "cell_type": "code",
      "metadata": {
        "id": "b5T9L7tZsAHP"
      },
      "source": [
        "def vel_floc_ave(flow_plant, headloss_floc_BOD, Gt_BOD, T_BOD):\n",
        "\n",
        "    ans = flow_plant/( spacing_floc(flow_plant, headloss_floc_BOD, Gt_BOD, T_BOD)*width_floc(flow_plant, headloss_floc_BOD, Gt_BOD, T_BOD))\n",
        "    return ans.to(u.m/u.s)\n",
        "\n",
        "print ('The average velocity of the water in the flocculator is', vel_floc_ave(flow_plant, headloss_floc_BOD, Gt_BOD, T_BOD))"
      ],
      "execution_count": null,
      "outputs": []
    },
    {
      "cell_type": "code",
      "metadata": {
        "id": "DclI0a4asC0x"
      },
      "source": [
        "HEIGHT_WATER_FLOC_START = height_floc_end + headloss_floc_BOD\n",
        "print ('The depth of the water at the beginning of the flocculator is', HEIGHT_WATER_FLOC_START)"
      ],
      "execution_count": null,
      "outputs": []
    },
    {
      "cell_type": "code",
      "metadata": {
        "id": "nV_MCM7gsE_s"
      },
      "source": [
        "def theta_floc(flow_plant, headloss_floc_BOD, Gt_BOD, T_BOD):\n",
        "\n",
        "    theta_est = t_floc_est(headloss_floc_BOD, Gt_BOD, T_BOD)\n",
        "    ans = theta_est*((height_floc_end + (headloss_floc_BOD/2))/height_floc_end)\n",
        "    return ans.to(u.min)\n",
        "\n",
        "print ('The residence time in the hydraulic flocculator is', theta_floc(flow_plant, headloss_floc_BOD, Gt_BOD, T_BOD))"
      ],
      "execution_count": null,
      "outputs": []
    },
    {
      "cell_type": "code",
      "metadata": {
        "id": "CCtncYrXsHPN"
      },
      "source": [
        "plot_points=100\n",
        "flow_plant=np.linspace(10,100, num=plot_points, endpoint=True)*u.L/u.s\n",
        "\n",
        "expansions=np.zeros(plot_points)\n",
        "for i in range(plot_points):\n",
        "    expansions[i] = num_expansions(flow_plant[i], headloss_floc_BOD, Gt_BOD, T_BOD)\n",
        "fig, ax = plt.subplots()\n",
        "ax.plot(flow_plant,expansions,'-')\n",
        "ax.set(xlabel='Plant Flow Rate (L/s)')\n",
        "ax.set(ylabel='Expansion per baffle space')\n",
        "#fig.savefig('Flocculation/Images/Expansions_per_baffle_space_vs_plant_flow')\n",
        "plt.show()\n",
        "\n",
        "channels=np.zeros(plot_points)\n",
        "for i in range(plot_points):\n",
        "    channels[i]=num_channel(flow_plant[i], headloss_floc_BOD, Gt_BOD, T_BOD)\n",
        "fig, ax = plt.subplots()\n",
        "ax.plot(flow_plant,channels,'-')\n",
        "ax.set(xlabel='Plant Flow Rate (L/s)')\n",
        "ax.set(ylabel='Number of channels')\n",
        "#fig.savefig('Flocculation/Images/Number_of_channels_vs_plant_flow')\n",
        "plt.show()\n",
        "\n",
        "baffles=np.zeros(plot_points)\n",
        "for i in range(plot_points):\n",
        "    baffles[i]=num_baffles(flow_plant[i], headloss_floc_BOD, Gt_BOD, T_BOD)\n",
        "fig, ax = plt.subplots()\n",
        "ax.plot(flow_plant,baffles,'-')\n",
        "ax.set(xlabel='Plant Flow Rate (L/s)')\n",
        "ax.set(ylabel='Number of Baffle Spaces')\n",
        "#fig.savefig('Flocculation/Images/Number_of_baffle_spaces_vs_plant_flow')\n",
        "plt.show()\n",
        "\n",
        "width_floc_channel=np.zeros(plot_points)*u.m\n",
        "for i in range(plot_points):\n",
        "    width_floc_channel[i]=width_floc(flow_plant[i], headloss_floc_BOD, Gt_BOD, T_BOD)\n",
        "fig, ax = plt.subplots()\n",
        "ax.plot(flow_plant,width_floc_channel,'-')\n",
        "ax.set(xlabel='Plant Flow Rate (L/s)')\n",
        "ax.set(ylabel='Floc Channel Width (m)')\n",
        "plt.title('Floc channel width vs plant flow')\n",
        "#fig.savefig('Flocculation/Images/Floc_channel_width_vs_plant_flow')\n",
        "plt.show()"
      ],
      "execution_count": null,
      "outputs": []
    }
  ]
}