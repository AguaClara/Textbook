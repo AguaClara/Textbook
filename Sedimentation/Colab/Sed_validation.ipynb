{
  "nbformat": 4,
  "nbformat_minor": 0,
  "metadata": {
    "colab": {
      "name": "Sed validation.ipynb",
      "provenance": []
    },
    "kernelspec": {
      "name": "python3",
      "display_name": "Python 3"
    }
  },
  "cells": [
    {
      "cell_type": "code",
      "metadata": {
        "id": "sUq6JJGAzLm_"
      },
      "source": [
        "!pip install aguaclara"
      ],
      "execution_count": null,
      "outputs": []
    },
    {
      "cell_type": "code",
      "metadata": {
        "id": "uBOxLLY9zUpa"
      },
      "source": [
        "import aguaclara as ac\n",
        "from aguaclara.core.units import unit_registry as u\n",
        "import numpy as np"
      ],
      "execution_count": null,
      "outputs": []
    },
    {
      "cell_type": "markdown",
      "metadata": {
        "id": "a_C2secW0sFR"
      },
      "source": [
        "#Sedimentor Design Validation Steps\n",
        "\n",
        "##Inputs\n",
        "\n",
        "### Design targets\n",
        "* Q_max = Q_bod = $Q_{max}$\n",
        "* flocBlanketV = $\\bar v_{z_{Active}}$\n",
        "* settlerCaptureV = $\\bar v_c$\n",
        "* manifoldPortQ_pi = $\\Pi_{Q}$\n",
        "* flocD0 = $d_0$\n",
        "* flocRHO = $\\rho_{Floc_0}$\n",
        "* fractalD_pi = $D_{Fractal}$\n",
        "* coagF = $F_{covalent}$\n",
        "\n",
        "### Geometry from Onshape\n",
        "\n",
        "## Checks\n",
        "\n",
        "\n",
        "1.   Is the upflow velocity met?\n",
        "2.   Is the capture velocity requirement met?\n",
        "3.   Is the flow uniformity requirement for the inlet manifold met?\n",
        "4.   Is the shear stress in the jet coming up out of the jet reverser low enough so that flocs will be large enough to be captured by the plate settlers?\n",
        "5.   Is the orifice head loss close to the specified value?\n",
        "\n",
        "### Upflow velocity\n",
        "\n",
        "Divide the max flow rate by the plan view area of the top of the floc blanket or the bottom of the active part of the plate settlers. This will give $\\bar v_{z_{Active}}$. \n",
        "\n",
        "### Capture velocity\n",
        "\n",
        "From mass conservation the flow speeds up when it enters the plate settlers due to the thickness of the plates.\n",
        "$$\\bar v_{z_{Plate}} = \\frac{\\bar v_{z_{Active}} (S+T)}{S}$$\n",
        "\n",
        "Now calculate the capture velocity and compare with the specified capture velocity\n",
        "$$\\bar v_c = \\frac{S  \\bar v_{z_{Plate}}}{Lsin\\alpha cos\\alpha + S}4$$\n",
        "\n",
        "### Manifold flow uniformity\n",
        "\n",
        "Calculate the manifold velocity, $\\bar v_{M_1}$, by dividing the flow rate by the pipe area.\n",
        "Calculate the port velocity, $\\bar v_{P}$, by dividing the flow rate by the total area of the diffuser slots.\n",
        "Solve the following equation for the flow rate, $\\Pi_{Q}$.\n",
        "\n",
        "$$\\frac{\\bar v_{M_1}}{\\bar v_{P}} = \\sqrt{\\frac{2(1 - \\Pi_{Q}^2)}{\\Pi_{Q}^2 + 1}}$$\n",
        "\n",
        "$$(\\Pi_{Q}^2 + 1)\\left(\\frac{\\bar v_{M_1}}{\\bar v_{P}}\\right)^{\\frac{1}{2}} = 2(1 - \\Pi_{Q}^2)$$\n",
        "\n",
        "$$\\Pi_{Q}^2 \\left[2+\\left(\\frac{\\bar v_{M_1}}{\\bar v_{P}}\\right)^{\\frac{1}{2}} \\right] = 2 - \\left(\\frac{\\bar v_{M_1}}{\\bar v_{P}}\\right)^{\\frac{1}{2}}$$\n",
        "\n",
        "$$\\Pi_{Q} = \\sqrt{\\frac{2 - \\left(\\frac{\\bar v_{M_1}}{\\bar v_{P}}\\right)^{\\frac{1}{2}}}{2+\\left(\\frac{\\bar v_{M_1}}{\\bar v_{P}}\\right)^{\\frac{1}{2}}}}$$\n",
        "\n",
        "The calculated flow uniformity should exceed the specified flow uniformity.\n",
        "\n",
        "### [Shear Stress](https://aguaclara.github.io/Textbook/Sedimentation/Sed_Design.html#jet-reverser-shear-stress)\n",
        "\n",
        "1.  Calculate the jet width using continuity\n",
        "$$\\bar v_{Jet} W_{Jet} sedL = Q_{max}$$\n",
        "\n",
        "$$ W_{Jet} = \\frac{Q_{max}}{\\bar v_{Jet} sedL}$$\n",
        "\n",
        "2.  Calculate the [maximum shear stress in the jet](https://aguaclara.github.io/Textbook/Sedimentation/Sed_Design.html#equation-shear-stress-jet-sed-tank)\n",
        "\n",
        "$$\\tau_{max} = \\rho \\sqrt{\\nu \\Pi_{JetPlane} \\frac{  \\bar v_{Jet} ^3}{W_{Jet}}}$$\n",
        "\n",
        "3. Estimate the [size of a floc that will survive that shear stress](https://aguaclara.github.io/Textbook/Sedimentation/Sed_Design.html#equation-d-floc-shear-stress)\n",
        "\n",
        "$$d_{floc}=\\sqrt{\\frac{4F_{covalent}}{3 \\pi \\tau}}$$\n",
        "\n",
        "4.  Calculate the [sedimentation velocity of that floc](https://aguaclara.github.io/Textbook/Sedimentation/Sed_Design.html#equation-vt-of-clay-floc) and make sure it is less than the plate settler capture velocity.\n",
        "\n",
        "$$\\bar v_t = \\frac{g d_0^2}{18 \\nu_{H_2O}}\n",
        "\\frac{ \\left( \\rho_{Floc_0} - \\rho_{H_2O} \\right)}{\\rho_{H_2O}}\n",
        "\\left( \\frac{d}{d_0} \\right)^{D_{Fractal} - 1}$$\n",
        "\n",
        "\n",
        "### [Orifice head loss](https://aguaclara.github.io/Textbook/Review/Review_Fluid_Mechanics.html?highlight=orifice#equation-orifice-equation)\n",
        "Calculate the total area of all of the orifices in the outlet manifold based on the number and diameter. Calculate the head loss through those orifices using the following equation.\n",
        "\n",
        "$$\\Delta h = \\frac{Q^2}{2g \\Pi_{vc}^2 A_{or}^2}$$ \n",
        "\n"
      ]
    }
  ]
}