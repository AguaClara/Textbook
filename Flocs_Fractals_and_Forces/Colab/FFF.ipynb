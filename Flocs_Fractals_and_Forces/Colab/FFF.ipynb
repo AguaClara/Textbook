{
  "nbformat": 4,
  "nbformat_minor": 0,
  "metadata": {
    "colab": {
      "name": "FFF.ipynb",
      "provenance": [],
      "collapsed_sections": [],
      "include_colab_link": true
    },
    "kernelspec": {
      "display_name": "Python 3",
      "language": "python",
      "name": "python3"
    },
    "language_info": {
      "codemirror_mode": {
        "name": "ipython",
        "version": 3
      },
      "file_extension": ".py",
      "mimetype": "text/x-python",
      "name": "python",
      "nbconvert_exporter": "python",
      "pygments_lexer": "ipython3",
      "version": "3.7.3"
    }
  },
  "cells": [
    {
      "cell_type": "markdown",
      "metadata": {
        "id": "view-in-github",
        "colab_type": "text"
      },
      "source": [
        "<a href=\"https://colab.research.google.com/github/AguaClara/Textbook/blob/flocsandforces/Flocs_Fractals_and_Forces/Colab/FFF.ipynb\" target=\"_parent\"><img src=\"https://colab.research.google.com/assets/colab-badge.svg\" alt=\"Open In Colab\"/></a>"
      ]
    },
    {
      "cell_type": "code",
      "metadata": {
        "id": "ezaswd7eGszb",
        "scrolled": true,
        "outputId": "7a6c6081-b5b1-4abc-974f-b37fa95bb951",
        "colab": {
          "base_uri": "https://localhost:8080/"
        }
      },
      "source": [
        "!pip install aguaclara\n",
        "!pip install molmass"
      ],
      "execution_count": 1,
      "outputs": [
        {
          "output_type": "stream",
          "text": [
            "Collecting aguaclara\n",
            "\u001b[?25l  Downloading https://files.pythonhosted.org/packages/e2/22/0a3989c294e07a8feb0b2ac55cb631ad2592b3c1f12a0792e3e6337d5ab5/aguaclara-0.2.6.tar.gz (89kB)\n",
            "\r\u001b[K     |███▊                            | 10kB 15.7MB/s eta 0:00:01\r\u001b[K     |███████▍                        | 20kB 10.7MB/s eta 0:00:01\r\u001b[K     |███████████                     | 30kB 8.1MB/s eta 0:00:01\r\u001b[K     |██████████████▊                 | 40kB 7.1MB/s eta 0:00:01\r\u001b[K     |██████████████████▍             | 51kB 4.1MB/s eta 0:00:01\r\u001b[K     |██████████████████████          | 61kB 4.4MB/s eta 0:00:01\r\u001b[K     |█████████████████████████▊      | 71kB 4.6MB/s eta 0:00:01\r\u001b[K     |█████████████████████████████▍  | 81kB 4.9MB/s eta 0:00:01\r\u001b[K     |████████████████████████████████| 92kB 3.6MB/s \n",
            "\u001b[?25hRequirement already satisfied: matplotlib in /usr/local/lib/python3.6/dist-packages (from aguaclara) (3.2.2)\n",
            "Requirement already satisfied: urllib3 in /usr/local/lib/python3.6/dist-packages (from aguaclara) (1.24.3)\n",
            "Collecting pint\n",
            "\u001b[?25l  Downloading https://files.pythonhosted.org/packages/5f/0e/dd4fb17aed6bfbc168fd767cffb6ec20b634009b75fd8ea699ea244bff3c/Pint-0.16.1-py2.py3-none-any.whl (205kB)\n",
            "\u001b[K     |████████████████████████████████| 215kB 6.2MB/s \n",
            "\u001b[?25hRequirement already satisfied: pandas in /usr/local/lib/python3.6/dist-packages (from aguaclara) (1.1.4)\n",
            "Requirement already satisfied: scipy in /usr/local/lib/python3.6/dist-packages (from aguaclara) (1.4.1)\n",
            "Requirement already satisfied: numpy>=1.11 in /usr/local/lib/python3.6/dist-packages (from matplotlib->aguaclara) (1.18.5)\n",
            "Requirement already satisfied: python-dateutil>=2.1 in /usr/local/lib/python3.6/dist-packages (from matplotlib->aguaclara) (2.8.1)\n",
            "Requirement already satisfied: cycler>=0.10 in /usr/local/lib/python3.6/dist-packages (from matplotlib->aguaclara) (0.10.0)\n",
            "Requirement already satisfied: kiwisolver>=1.0.1 in /usr/local/lib/python3.6/dist-packages (from matplotlib->aguaclara) (1.3.1)\n",
            "Requirement already satisfied: pyparsing!=2.0.4,!=2.1.2,!=2.1.6,>=2.0.1 in /usr/local/lib/python3.6/dist-packages (from matplotlib->aguaclara) (2.4.7)\n",
            "Requirement already satisfied: importlib-resources; python_version < \"3.7\" in /usr/local/lib/python3.6/dist-packages (from pint->aguaclara) (3.3.0)\n",
            "Requirement already satisfied: importlib-metadata; python_version < \"3.8\" in /usr/local/lib/python3.6/dist-packages (from pint->aguaclara) (2.0.0)\n",
            "Requirement already satisfied: packaging in /usr/local/lib/python3.6/dist-packages (from pint->aguaclara) (20.4)\n",
            "Requirement already satisfied: pytz>=2017.2 in /usr/local/lib/python3.6/dist-packages (from pandas->aguaclara) (2018.9)\n",
            "Requirement already satisfied: six>=1.5 in /usr/local/lib/python3.6/dist-packages (from python-dateutil>=2.1->matplotlib->aguaclara) (1.15.0)\n",
            "Requirement already satisfied: zipp>=0.4; python_version < \"3.8\" in /usr/local/lib/python3.6/dist-packages (from importlib-resources; python_version < \"3.7\"->pint->aguaclara) (3.4.0)\n",
            "Building wheels for collected packages: aguaclara\n",
            "  Building wheel for aguaclara (setup.py) ... \u001b[?25l\u001b[?25hdone\n",
            "  Created wheel for aguaclara: filename=aguaclara-0.2.6-cp36-none-any.whl size=101373 sha256=0cef7a2faa6fee6835430220adce98f3d941e14087a97e25bdb66a89e2c31a57\n",
            "  Stored in directory: /root/.cache/pip/wheels/a6/9a/d5/cab5970c57dfc0099454b36812306b976c217408b39e7a379a\n",
            "Successfully built aguaclara\n",
            "Installing collected packages: pint, aguaclara\n",
            "Successfully installed aguaclara-0.2.6 pint-0.16.1\n",
            "Collecting molmass\n",
            "\u001b[?25l  Downloading https://files.pythonhosted.org/packages/4a/bc/5faafbf34aba10f7dff23415f8d0ad3507aeb567a3a75906b2ae60a07d02/molmass-2020.6.10-py3-none-any.whl (65kB)\n",
            "\u001b[K     |████████████████████████████████| 71kB 3.3MB/s \n",
            "\u001b[?25hInstalling collected packages: molmass\n",
            "Successfully installed molmass-2020.6.10\n"
          ],
          "name": "stdout"
        }
      ]
    },
    {
      "cell_type": "code",
      "metadata": {
        "id": "lOgcn1lfHEFV",
        "scrolled": true
      },
      "source": [
        "from aguaclara.core.units import unit_registry as u\n",
        "import aguaclara as ac\n",
        "import numpy as np\n",
        "import matplotlib.pyplot as plt\n",
        "from matplotlib import gridspec\n",
        "import matplotlib.ticker as ticker\n",
        "\n",
        "font = 'x-large'\n",
        "params = {'legend.fontsize': font,\n",
        "         'figure.figsize': (8,6),\n",
        "         'axes.labelsize': font,\n",
        "         'axes.titlesize':font,\n",
        "         'xtick.labelsize':font,\n",
        "         'ytick.labelsize':font,\n",
        "         'axes.formatter.useoffset':False}\n",
        "plt.rcParams.update(params)"
      ],
      "execution_count": 36,
      "outputs": []
    },
    {
      "cell_type": "code",
      "metadata": {
        "scrolled": true,
        "id": "a5jdhXGC3g9j"
      },
      "source": [
        "\n",
        "\n",
        "def v_terminal(temp, particle_RHO , particle_D):\n",
        "  \"\"\" calculate the terminal velocity both in the laminar and transition\n",
        "  range. Uses iteration to find solution in the transition range.\"\"\"\n",
        "  Nu = ac.viscosity_kinematic_water(temp)\n",
        "  water_RHO = ac.density_water(temp)\n",
        "  v_terminal_laminar = (u.gravity * particle_D**2 * (particle_RHO - water_RHO)) / ( 18 * Nu * water_RHO)\n",
        "  Re = (v_terminal_laminar * particle_D / Nu ).to(u.dimensionless)\n",
        "  if Re < 1: \n",
        "    return v_terminal_laminar.to(u.mm/u.s)\n",
        "  else:\n",
        "    error = 1 \n",
        "    Re_prev = Re\n",
        "    i = 0\n",
        "    while error >= 0.01 and i<50: \n",
        "      coefficient_drag = (24/Re_prev)*(1 + 0.150*Re_prev**0.681) + (0.407 / (1 + (8710/Re_prev)))\n",
        "      terminal_V = (4 * u.gravity * particle_D * (particle_RHO - water_RHO) / (3 * coefficient_drag * water_RHO) )**0.5\n",
        "      Re_new = (terminal_V * particle_D / Nu ).to(u.dimensionless)\n",
        "      error = np.abs((Re_new - Re_prev )/(Re_new + Re_prev)) \n",
        "      Re_prev = Re_new\n",
        "    return terminal_V.to(u.mm/u.s) \n",
        "\n",
        "def d_hydraulic(Width, Length):\n",
        "  \"\"\" calculates the hydraulic diameter from the hydraulic radius\n",
        "  The hydraulic diameter is 4* the radius... \"\"\"\n",
        "  return 4 * ac.radius_hydraulic_rect(Width, Length, False)\n",
        "\n",
        "def v_terminal_wall_effects(temp, particle_RHO , particle_D, hydraulic_D):\n",
        "  return (v_terminal(temp, particle_RHO , particle_D) / (10**(particle_D/hydraulic_D))).to(u.mm/u.s)\n",
        "\n",
        "def fluidization_index(temp, particle_RHO , particle_D, hydraulic_D):\n",
        "  Re_corrected = ((v_terminal_wall_effects(temp, particle_RHO , particle_D, hydraulic_D)*particle_D )/ac.viscosity_kinematic_water(temp)).to(u.dimensionless)\n",
        "  return (0.65*(2+ (0.5 * Re_corrected**0.65)))/(1 + (0.5 * Re_corrected**0.65))\n",
        "\n",
        "def porosity_fluidized_bed(temp, particle_RHO , particle_D, hydraulic_D,static_bed_PHI, v_z):\n",
        "  z = fluidization_index(temp, particle_RHO , particle_D, hydraulic_D)\n",
        "  terminal_V_wall = v_terminal_wall_effects(temp, particle_RHO , particle_D, hydraulic_D)\n",
        "  return ( ((v_z/terminal_V_wall)**(1/z) * (1-static_bed_PHI)) + static_bed_PHI).to(u.dimensionless)\n",
        "\n",
        "@ac.list_handler()\n",
        "def vel_term_floc(coreD, coreRHO, fractalPI, flocD, Temp):\n",
        "  \"\"\"Calculate floc terminal velocity based on the properties\n",
        "  of the core particle\"\"\"\n",
        "  waterRHO = ac.density_water(Temp)\n",
        "  waterNU = ac.viscosity_kinematic_water(Temp)\n",
        "  return (((u.gravity * coreD**2)\n",
        "            / (18 *  waterNU)\n",
        "            )\n",
        "          * ((coreRHO - waterRHO\n",
        "              )\n",
        "              / waterRHO\n",
        "              )\n",
        "          * (flocD / coreD) ** (fractalPI - 1)\n",
        "          ).to(u.mm/u.s)\n",
        "\n",
        "@ac.list_handler()\n",
        "def flocDofG(bondF,Gmax,Temp):\n",
        "  return (np.sqrt(4*bondF/(3 * np.pi * ac.viscosity_dynamic_water(Temp) * Gmax))).to(u.um)\n",
        "\n",
        "@ac.list_handler()\n",
        "def GmaxofFlocD(bondF,flocD,Temp):\n",
        "  return (4*bondF/(3 * np.pi * ac.viscosity_dynamic_water(Temp) * flocD**2)).to(u.Hz)\n",
        "\n",
        "@ac.list_handler()\n",
        "def GmaxofFlocD(bondF,flocD,Temp):\n",
        "  return (4*bondF/(3 * np.pi * ac.viscosity_dynamic_water(Temp) * flocD**2)).to(u.Hz)"
      ],
      "execution_count": 73,
      "outputs": []
    },
    {
      "cell_type": "code",
      "metadata": {
        "scrolled": true,
        "id": "rwyN-qtp3g9m",
        "outputId": "59a71360-1073-4586-f6ef-f7e46b3af959",
        "colab": {
          "base_uri": "https://localhost:8080/",
          "height": 464
        }
      },
      "source": [
        "temp = 20 * u.degC\n",
        "sand_D = 0.5 * u.mm\n",
        "sand_RHO = 2650 * u.kg/u.m**3\n",
        "filter_W = 1 * u.m\n",
        "filter_L = 1 * u.m\n",
        "hydraulic_D = d_hydraulic(filter_W,filter_L)\n",
        "\n",
        "static_bed_PHI = 0.4\n",
        "v_z = np.linspace(1,20,20) * 1 * u.mm/u.s\n",
        "sand_PHI = porosity_fluidized_bed(temp, sand_RHO , sand_D, hydraulic_D,static_bed_PHI, v_z)\n",
        "plt.plot(v_z,sand_PHI)\n",
        "plt.legend([\"0.5 mm silica sand\"])\n",
        "plt.ylabel(r\"Porosity\")\n",
        "plt.xlabel(r\"Upflow velocity $\\left(\\frac{mm}{s}\\right)$\")\n"
      ],
      "execution_count": 65,
      "outputs": [
        {
          "output_type": "stream",
          "text": [
            "/usr/local/lib/python3.6/dist-packages/numpy/core/_asarray.py:85: UnitStrippedWarning: The unit of the quantity is stripped when downcasting to ndarray.\n",
            "  return array(a, dtype, copy=False, order=order)\n"
          ],
          "name": "stderr"
        },
        {
          "output_type": "execute_result",
          "data": {
            "text/plain": [
              "Text(0.5, 0, 'Upflow velocity $\\\\left(\\\\frac{mm}{s}\\\\right)$')"
            ]
          },
          "metadata": {
            "tags": []
          },
          "execution_count": 65
        },
        {
          "output_type": "display_data",
          "data": {
            "image/png": "[encoded data removed]",
            "text/plain": [
              "<Figure size 576x432 with 1 Axes>"
            ]
          },
          "metadata": {
            "tags": [],
            "needs_background": "light"
          }
        }
      ]
    },
    {
      "cell_type": "markdown",
      "metadata": {
        "id": "lgmWwWr7_cPk"
      },
      "source": [
        "#Terminal velocity of flocs"
      ]
    },
    {
      "cell_type": "code",
      "metadata": {
        "id": "KBt24x6V_a3v",
        "outputId": "79147a40-1dc6-458f-ccfb-6363986cfb85",
        "colab": {
          "base_uri": "https://localhost:8080/",
          "height": 582
        }
      },
      "source": [
        "flocD = np.logspace(0.7,3.5,50) * 1*u.um \n",
        "Temp = 20*u.degC\n",
        "coreRHO = 2650 * u.kg/u.m**3\n",
        "coreD = 5 * u.um\n",
        "fractalPI = 2.1\n",
        "plt.loglog(flocD,vel_term_floc(coreD, 2650 * u.kg/u.m**3, fractalPI, flocD, Temp))\n",
        "plt.loglog(flocD,vel_term_floc(coreD, 1500 * u.kg/u.m**3, fractalPI, flocD, Temp))\n",
        "plt.loglog(flocD,vel_term_floc(coreD, 1200 * u.kg/u.m**3, fractalPI, flocD, Temp))\n",
        "plt.loglog(flocD,np.full_like(flocD,1*u.mm/u.s))\n",
        "plt.loglog(flocD,np.full_like(flocD,0.12*u.mm/u.s))\n",
        "\n",
        "# Show the major grid lines with dark grey lines\n",
        "plt.grid(b=True, which='major', color='black', linestyle='-')\n",
        "# Show the minor grid lines with very faint and almost transparent grey lines\n",
        "plt.grid(b=True, which='minor', color='black', linestyle='-', alpha=0.2)\n",
        "plt.legend([r\"$\\rho_{cp} = 2650\\frac{kg}{m^3}$\",r\"$\\rho_{cp} = 1500\\frac{kg}{m^3}$\",r\"$\\rho_{cp} = 1200\\frac{kg}{m^3}$\", \"flocnet velocity\", \"capture velocity\"])\n",
        "plt.ylabel(r\"Terminal velocity $\\left(\\frac{mm}{s}\\right)$\")\n",
        "plt.xlabel(r\"Floc diameter $(\\mu m)$\")\n",
        "plt.gca().yaxis.set_major_formatter(ticker.StrMethodFormatter(\"{x}\"))\n",
        "plt.gca().xaxis.set_major_formatter(ticker.StrMethodFormatter(\"{x}\"))\n",
        "plt.show()"
      ],
      "execution_count": 91,
      "outputs": [
        {
          "output_type": "stream",
          "text": [
            "/usr/local/lib/python3.6/dist-packages/numpy/core/_asarray.py:85: UnitStrippedWarning: The unit of the quantity is stripped when downcasting to ndarray.\n",
            "  return array(a, dtype, copy=False, order=order)\n",
            "/usr/local/lib/python3.6/dist-packages/numpy/core/_asarray.py:85: UnitStrippedWarning: The unit of the quantity is stripped when downcasting to ndarray.\n",
            "  return array(a, dtype, copy=False, order=order)\n",
            "/usr/local/lib/python3.6/dist-packages/numpy/core/_asarray.py:85: UnitStrippedWarning: The unit of the quantity is stripped when downcasting to ndarray.\n",
            "  return array(a, dtype, copy=False, order=order)\n",
            "/usr/local/lib/python3.6/dist-packages/numpy/core/_asarray.py:85: UnitStrippedWarning: The unit of the quantity is stripped when downcasting to ndarray.\n",
            "  return array(a, dtype, copy=False, order=order)\n",
            "/usr/local/lib/python3.6/dist-packages/numpy/core/_asarray.py:85: UnitStrippedWarning: The unit of the quantity is stripped when downcasting to ndarray.\n",
            "  return array(a, dtype, copy=False, order=order)\n"
          ],
          "name": "stderr"
        },
        {
          "output_type": "display_data",
          "data": {
            "image/png": "[encoded data removed]",
            "text/plain": [
              "<Figure size 576x432 with 1 Axes>"
            ]
          },
          "metadata": {
            "tags": [],
            "needs_background": "light"
          }
        }
      ]
    },
    {
      "cell_type": "code",
      "metadata": {
        "id": "beIEoqGlhbhj",
        "outputId": "5b4142ec-a6d1-41a7-fcbb-afa4553e5aaf",
        "colab": {
          "base_uri": "https://localhost:8080/",
          "height": 509
        }
      },
      "source": [
        "#max velocity gradient as function of floc diameter\n",
        "bondF = 4 * u.nN\n",
        "plt.loglog(flocD,GmaxofFlocD(1 * u.nN,flocD,Temp))\n",
        "plt.loglog(flocD,GmaxofFlocD(4 * u.nN,flocD,Temp))\n",
        "plt.loglog(flocD,GmaxofFlocD(10 * u.nN,flocD,Temp))\n",
        "# Show the major grid lines with dark grey lines\n",
        "plt.grid(b=True, which='major', color='black', linestyle='-')\n",
        "# Show the minor grid lines with very faint and almost transparent grey lines\n",
        "plt.grid(b=True, which='minor', color='black', linestyle='-', alpha=0.2)\n",
        "plt.legend([r\"$F_{bond} = 1nN$\",r\"$F_{bond} = 4nN$\",r\"$F_{bond} = 10nN$\"])\n",
        "plt.ylabel(r\"Maximum velocity gradient $\\left(Hz\\right)$\")\n",
        "plt.xlabel(r\"Floc diameter $(\\mu m)$\")\n",
        "plt.gca().yaxis.set_major_formatter(ticker.StrMethodFormatter(\"{x}\"))\n",
        "plt.gca().xaxis.set_major_formatter(ticker.StrMethodFormatter(\"{x}\"))"
      ],
      "execution_count": 92,
      "outputs": [
        {
          "output_type": "stream",
          "text": [
            "/usr/local/lib/python3.6/dist-packages/numpy/core/_asarray.py:85: UnitStrippedWarning: The unit of the quantity is stripped when downcasting to ndarray.\n",
            "  return array(a, dtype, copy=False, order=order)\n",
            "/usr/local/lib/python3.6/dist-packages/numpy/core/_asarray.py:85: UnitStrippedWarning: The unit of the quantity is stripped when downcasting to ndarray.\n",
            "  return array(a, dtype, copy=False, order=order)\n",
            "/usr/local/lib/python3.6/dist-packages/numpy/core/_asarray.py:85: UnitStrippedWarning: The unit of the quantity is stripped when downcasting to ndarray.\n",
            "  return array(a, dtype, copy=False, order=order)\n"
          ],
          "name": "stderr"
        },
        {
          "output_type": "display_data",
          "data": {
            "image/png": "[encoded data removed]",
            "text/plain": [
              "<Figure size 576x432 with 1 Axes>"
            ]
          },
          "metadata": {
            "tags": [],
            "needs_background": "light"
          }
        }
      ]
    },
    {
      "cell_type": "code",
      "metadata": {
        "id": "Mk50OVhrmIUo",
        "outputId": "262ced2d-e0ba-453c-9332-1865c7af270a",
        "colab": {
          "base_uri": "https://localhost:8080/",
          "height": 547
        }
      },
      "source": [
        "# floc size as a function of temperature\n",
        "TempGraph = np.linspace(0.01,30,50) * u.degC\n",
        "print(TempGraph)\n",
        "Gmax = 100 * u.Hz\n",
        "bondF = 4 * u.nN\n",
        "plt.plot(TempGraph,flocDofG(1 * u.nN,Gmax,TempGraph))\n",
        "plt.plot(TempGraph,flocDofG(4 * u.nN,Gmax,TempGraph))\n",
        "plt.plot(TempGraph,flocDofG(10 * u.nN,Gmax,TempGraph))\n",
        "\n",
        "# Show the major grid lines with dark grey lines\n",
        "plt.grid(b=True, which='major', color='black', linestyle='-')\n",
        "# Show the minor grid lines with very faint and almost transparent grey lines\n",
        "plt.grid(b=True, which='minor', color='black', linestyle='-', alpha=0.2)\n",
        "plt.legend([r\"$F_{bond} = 1nN$\",r\"$F_{bond} = 4nN$\",r\"$F_{bond} = 10nN$\"])\n",
        "plt.xlabel(r\"Temperature $(^{\\circ}C)$\")\n",
        "plt.ylabel(r\"Maximum floc diameter $\\left(\\mu m\\right)$\")\n",
        "plt.gca().yaxis.set_major_formatter(ticker.StrMethodFormatter(\"{x}\"))\n",
        "plt.gca().xaxis.set_major_formatter(ticker.StrMethodFormatter(\"{x}\"))"
      ],
      "execution_count": 89,
      "outputs": [
        {
          "output_type": "stream",
          "text": [
            "[0.01 0.622 1.234 1.846 2.458 3.07 3.682 4.294 4.906 5.518 6.13 6.742 7.354 7.967 8.579 9.191 9.803 10.41 11.03 11.64 12.25 12.86 13.47 14.09 14.7 15.31 15.92 16.54 17.15 17.76 18.37 18.98 19.6 20.21 20.82 21.43 22.04 22.66 23.27 23.88 24.49 25.1 25.72 26.33 26.94 27.55 28.16 28.78 29.39 30] degree_Celsius\n"
          ],
          "name": "stdout"
        },
        {
          "output_type": "stream",
          "text": [
            "/usr/local/lib/python3.6/dist-packages/numpy/core/_asarray.py:85: UnitStrippedWarning: The unit of the quantity is stripped when downcasting to ndarray.\n",
            "  return array(a, dtype, copy=False, order=order)\n",
            "/usr/local/lib/python3.6/dist-packages/numpy/core/_asarray.py:85: UnitStrippedWarning: The unit of the quantity is stripped when downcasting to ndarray.\n",
            "  return array(a, dtype, copy=False, order=order)\n",
            "/usr/local/lib/python3.6/dist-packages/numpy/core/_asarray.py:85: UnitStrippedWarning: The unit of the quantity is stripped when downcasting to ndarray.\n",
            "  return array(a, dtype, copy=False, order=order)\n"
          ],
          "name": "stderr"
        },
        {
          "output_type": "display_data",
          "data": {
            "image/png": "[encoded data removed]",
            "text/plain": [
              "<Figure size 576x432 with 1 Axes>"
            ]
          },
          "metadata": {
            "tags": [],
            "needs_background": "light"
          }
        }
      ]
    },
    {
      "cell_type": "code",
      "metadata": {
        "scrolled": true,
        "id": "0A10WcfN3g9o",
        "outputId": "7ab993d1-f265-4e44-f80a-7cf7e7aa8655",
        "colab": {
          "base_uri": "https://localhost:8080/",
          "height": 244
        }
      },
      "source": [
        "\n",
        "\n",
        "\n",
        "### calculating porosity ###\n",
        "v_up= 1*u.mm/u.s\n",
        "static_bed_pore_frac = 0.4 \n",
        "porosity_fb = (((v_up/v_terminal_corrected)**(1/z) *(1-static_bed_pore_frac)) + static_bed_pore_frac).to(u.dimensionless)\n",
        "print('The porosity of the floc blanket is ', porosity_fb)\n",
        "\n",
        "### turning porosity to a density ### \n",
        "conc_clay_fb = ((D_0/D_max)**(3-D_fractal) * density_primary_floc *(1-porosity_fb)).to(u.g/u.l)\n",
        "print('The floc blanket clay concentration is ',conc_clay_fb)"
      ],
      "execution_count": 15,
      "outputs": [
        {
          "output_type": "error",
          "ename": "NameError",
          "evalue": "ignored",
          "traceback": [
            "\u001b[0;31m---------------------------------------------------------------------------\u001b[0m",
            "\u001b[0;31mNameError\u001b[0m                                 Traceback (most recent call last)",
            "\u001b[0;32m<ipython-input-15-4bb66c091802>\u001b[0m in \u001b[0;36m<module>\u001b[0;34m()\u001b[0m\n\u001b[1;32m      5\u001b[0m \u001b[0mv_up\u001b[0m\u001b[0;34m=\u001b[0m \u001b[0;36m1\u001b[0m\u001b[0;34m*\u001b[0m\u001b[0mu\u001b[0m\u001b[0;34m.\u001b[0m\u001b[0mmm\u001b[0m\u001b[0;34m/\u001b[0m\u001b[0mu\u001b[0m\u001b[0;34m.\u001b[0m\u001b[0ms\u001b[0m\u001b[0;34m\u001b[0m\u001b[0;34m\u001b[0m\u001b[0m\n\u001b[1;32m      6\u001b[0m \u001b[0mstatic_bed_pore_frac\u001b[0m \u001b[0;34m=\u001b[0m \u001b[0;36m0.4\u001b[0m\u001b[0;34m\u001b[0m\u001b[0;34m\u001b[0m\u001b[0m\n\u001b[0;32m----> 7\u001b[0;31m \u001b[0mporosity_fb\u001b[0m \u001b[0;34m=\u001b[0m \u001b[0;34m(\u001b[0m\u001b[0;34m(\u001b[0m\u001b[0;34m(\u001b[0m\u001b[0mv_up\u001b[0m\u001b[0;34m/\u001b[0m\u001b[0mv_terminal_corrected\u001b[0m\u001b[0;34m)\u001b[0m\u001b[0;34m**\u001b[0m\u001b[0;34m(\u001b[0m\u001b[0;36m1\u001b[0m\u001b[0;34m/\u001b[0m\u001b[0mz\u001b[0m\u001b[0;34m)\u001b[0m \u001b[0;34m*\u001b[0m\u001b[0;34m(\u001b[0m\u001b[0;36m1\u001b[0m\u001b[0;34m-\u001b[0m\u001b[0mstatic_bed_pore_frac\u001b[0m\u001b[0;34m)\u001b[0m\u001b[0;34m)\u001b[0m \u001b[0;34m+\u001b[0m \u001b[0mstatic_bed_pore_frac\u001b[0m\u001b[0;34m)\u001b[0m\u001b[0;34m.\u001b[0m\u001b[0mto\u001b[0m\u001b[0;34m(\u001b[0m\u001b[0mu\u001b[0m\u001b[0;34m.\u001b[0m\u001b[0mdimensionless\u001b[0m\u001b[0;34m)\u001b[0m\u001b[0;34m\u001b[0m\u001b[0;34m\u001b[0m\u001b[0m\n\u001b[0m\u001b[1;32m      8\u001b[0m \u001b[0mprint\u001b[0m\u001b[0;34m(\u001b[0m\u001b[0;34m'The porosity of the floc blanket is '\u001b[0m\u001b[0;34m,\u001b[0m \u001b[0mporosity_fb\u001b[0m\u001b[0;34m)\u001b[0m\u001b[0;34m\u001b[0m\u001b[0;34m\u001b[0m\u001b[0m\n\u001b[1;32m      9\u001b[0m \u001b[0;34m\u001b[0m\u001b[0m\n",
            "\u001b[0;31mNameError\u001b[0m: name 'v_terminal_corrected' is not defined"
          ]
        }
      ]
    },
    {
      "cell_type": "code",
      "metadata": {
        "id": "W24qiO50HGtY",
        "scrolled": true
      },
      "source": [
        "temp = 20*u.degC\n",
        "D_clay = 5*u.micrometer \n",
        "Clay_Density = 2650 * u.kg/u.m**3 \n",
        "Nu = ac.viscosity_kinematic_water(temp)\n",
        "\n",
        "diam_sand = 0.5*u.mm\n",
        "porosity= 0.4 \n",
        "head_loss_filter = 40*u.cm #### \n",
        "height_filter = 20*u.cm #### Need to get this info \n",
        "\n",
        "sep_dist_sand_pore = ((np.pi / 6*(1-porosity))**(1/3) )*diam_sand\n",
        "velo_constriction_max = ((2*u.gravity*sep_dist_sand_pore*head_loss_filter) / height_filter)**(1/2)\n",
        "Pi_bond_dis = 0.7\n",
        "\n",
        "force_point_1 = (( (3*np.pi * Nu * velo_constriction_max * D_clay * ac.density_water(temp) ) + ( (Clay_Density - ac.density_water(temp) )*(u.gravity *np.pi * D_clay**3 / 6 ))  )* (1 /(2 *Pi_bond_dis) )).to(u.nanonewton)\n",
        "print(force_point_1)\n",
        "\n"
      ],
      "execution_count": null,
      "outputs": []
    },
    {
      "cell_type": "markdown",
      "metadata": {
        "id": "oJRTgkNZnd06"
      },
      "source": [
        "## Hypothesis about what determines floc size in the floc blanket \n",
        "\n",
        "The floc blanket is a complex system where we believe flocs are being formed and distroyed simultaneously. Modeling the forces exerted on an individual floc is a critical part of understanding what the size limit of a floc in the blanket might be. We hypothesize that if we can find the average size of a floc in the floc blanket then we can estimate the primary particle concentration of the blanket. Blanket concentration is a key indicator for overall sed tank performance, according to experimental data. \n",
        "\n",
        "In the floc blanket there are various types of flocs: \n",
        "\n",
        "* Fully grown flocs that can no longer grow further, ie \"mature flocs\" \n",
        "* Primary particles coming in from the diffusers \n",
        "* Spectrum of floc sizes between the previous two floc types that either come from the diffuser or result from the break up of larger flocs in the jet reverser or floc blanket \n",
        "\n",
        "The collision of two flocs with identical settling velocities in a floc blanket is unlikely given that the upward flow in the sed tank produces little to no velocity gradients. Collisions in this type of reactor depend highly on differencial sedimentation. Given this, we hypothesize that small flocs and primary particles with terminal velocities much less than the upflow velocity attach easily to the stagnation point of larger flocs which have terminal velocites close to or greater than the upflow velocity in the sed tank. As the larger floc accumulates more primary particles and other smaller flocs, its terminal velocity increases. There will come a point however, where the drag force experienced by one of the smaller flocs bonded to the surface of the large mature floc is larger than the force of the coagulant bond. This may be what is setting the ultimate size of flocs in the blanket. \n",
        "\n",
        "Given this, we want to find the floc size that if attached to the surface of the mature floc would be ripped apart from it. It is suspected that primary particles do not experience enough fluid shear to be removed. As that floc gets bigger, the more shear force is trying to yank the floc off the mature floc and the more gravitational force is pulling it down. There is critical floc size that experience the most force and we would like to find critical value. \n",
        "\n"
      ]
    },
    {
      "cell_type": "code",
      "metadata": {
        "id": "6C0Jg4Hpc_uM",
        "scrolled": true
      },
      "source": [
        "D_0 = 5*u.micrometer\n",
        "D_mature= 0.5*u.mm\n",
        "D_fractal = 2.3\n",
        "pi_bond_dist = 0.7\n",
        "density_primary_floc = 2650 * u.kg/u.m**3 \n",
        "temp = 15*u.degC\n",
        "Diam_adj_floc = [] # in micrometer\n",
        "F_bond = [] # in nanonewtons \n",
        "\n",
        "start = (D_0.to(u.micrometer)).magnitude\n",
        "stop = (D_mature.to(u.micrometer)).magnitude\n",
        "\n",
        "for D_adj in np.arange(start, stop): \n",
        "  D_adj_unit = D_adj*u.micrometer\n",
        "  force_bond = ((1/12) * (1/pi_bond_dist) * np.pi * u.gravity * D_adj_unit * D_0**2 * (density_primary_floc - ac.density_water(temp)) * ( (D_mature / D_0)**(D_fractal-1) - (D_adj_unit/D_0)**(D_fractal-1)) ).to(u.nanonewton)\n",
        "  Diam_adj_floc.append(D_adj_unit.magnitude)\n",
        "  F_bond.append(force_bond.magnitude)\n",
        "\n",
        "max_force = max(x for x in F_bond if x is not None) # Finds max force in the list \n",
        "index_max_force = F_bond.index(max_force) # find the index of the max force to then find the associated adj diameter\n",
        "diam_adj_at_max_force = Diam_adj_floc[index_max_force]*u.micrometer\n",
        "diam_ratio = (diam_adj_at_max_force/D_mature).to(u.dimensionless)\n",
        "print(diam_ratio)\n",
        "\n",
        "plt.figure(1,[10,8])\n",
        "plt.plot(Diam_adj_floc,F_bond)\n",
        "plt.xlabel('Diameter of adjacent floc (um)')\n",
        "plt.ylabel('Force on bond (nN)')\n",
        "plt.title('Force on bond between an adjacent floc and a mature floc of size '+ str(D_mature))\n",
        "\n",
        "\n"
      ],
      "execution_count": null,
      "outputs": []
    },
    {
      "cell_type": "markdown",
      "metadata": {
        "id": "8kHLrT-fsECv"
      },
      "source": [
        "Based on the above analysis the ratio of $\\frac{D_{adj}}{D_{mature}}$ that has the largest force is equal to 0.527. "
      ]
    },
    {
      "cell_type": "markdown",
      "metadata": {
        "id": "9KXq6c_5mc0j"
      },
      "source": [
        "$$F_{drag_{adj}} + F_{drag_{mature}} + F_{Buoy_{adj}} + F_{Buoy_{mature}}- F_{grav_{adj}} - F_{grav_{mature}} =0 $$\n",
        "\n",
        "$$F_{drag_{adj}} +  F_{Buoy_{adj}} - F_{grav_{adj}} - F_{Bond_{adj}}=0 $$\n",
        "\n",
        "$$F_{drag_{mature}} +  F_{Buoy_{mature}} - F_{grav_{mature}} + F_{Bond_{mature}}=0 $$\n",
        "- - - \n",
        "\n",
        "$$F_{drag_{adj}} +  F_{Buoy_{adj}} - F_{grav_{adj}} = F_{Bond_{adj}} $$\n",
        "\n",
        "$$ -F_{drag_{mature}} -  F_{Buoy_{mature}} + F_{grav_{mature}} = F_{Bond_{mature}} $$\n",
        "\n",
        "Instead of solving for the force on the bond directly we can make the force the independent variable and solve for the diameters of the mature and adjacent flocs. I dont see a way to solve for bond force as a function of the forces on mature floc and adjacent floc.  \n",
        "\n",
        "Or finding the terminal velocity of the composite \n",
        "\n",
        "Or maybe we should treat them totally seperate? In this theory we are assuming that the adjacent floc as an appendage and not inbeded so it has its own force of drag , gravity, and buoyancy. \n",
        "\n",
        "## We will move away from this and instead look to find the terminal velocity of the composite floc made up of both the mature and adjacent. \n",
        "\n",
        "1. Find terminal velocity of the composite particle \n",
        "\n",
        "$$F_{drag_{adj}} + F_{drag_{mature}} + F_{Buoy_{adj}} + F_{Buoy_{mature}}- F_{grav_{adj}} - F_{grav_{mature}} =0 $$\n",
        "\n",
        "$$ \\frac{1}{2} C_D \\rho_{H_2O} \\frac{\\pi D_{adj}^2}{4} v_{t}^2 + \\frac{1}{2} C_D \\rho_{H_2O} \\frac{\\pi D_{max}^2}{4} v_{t}^2 + \\rho_{H_2O} \\rlap{-}V_{adj} g + \\rho_{H_2O} \\rlap{-}V_{max} g  - \\rho_{floc_{adj}} \\rlap{-}V_{adj} g - \\rho_{floc_{max}} \\rlap{-}V_{max} g =0 $$\n",
        "\n",
        "$$ \\frac{1}{2} C_D \\rho_{H_2O} \\frac{\\pi D_{adj}^2}{4} v_{t}^2 + \\frac{1}{2} C_D \\rho_{H_2O} \\frac{\\pi D_{max}^2}{4} v_{t}^2 + (\\rho_{H_2O} - \\rho_{adj}) g  \\frac{\\pi}{6}D_{adj}^3 + (\\rho_{H_2O} - \\rho_{max}) g  \\frac{\\pi}{6}D_{max}^3  =0 $$\n",
        "\n",
        "If Re is below 40 then, \n",
        "$$C_D = \\frac{24 \\Phi}{Re} = \\frac{24 \\Phi \\nu}{v_{t}D}$$\n",
        "\n",
        "$$3 \\pi \\phi \\nu \\rho_{H_20} v_t (D_{adj} + D_{max}) +  g  \\frac{\\pi}{6} \\big( (\\rho_{H_2O} - \\rho_{adj}) D_{adj}^3 + (\\rho_{H_2O} - \\rho_{max})D_{max}^3 \\big) =0 $$\n",
        "\n",
        "The following is the current equation for describing the density of a floc as a function of its size: \n",
        "$$\\rho_{floc} = (\\rho_{floc_0} -\\rho_{H_2O}) ( \\frac{D_0}{D_{floc}})^{3-D_{fractal}} + \\rho_{H_2O}$$\n",
        "\n",
        "If we plug this into the equation we get the following: \n",
        "\n",
        "$$3 \\pi \\phi \\nu \\rho_{H_20} v_t (D_{adj} + D_{max}) +  g  \\frac{\\pi}{6}  (\\rho_{H_2O} - \\rho_{floc_0}) \\bigg[D_{adj}^3\\bigg(\\frac{D_0}{D_{adj}} \\bigg)^{3-D_{frac}} + D_{max}^3\\bigg(\\frac{D_0}{D_{max}} \\bigg)^{3-D_{frac}} \\bigg] =0 $$\n",
        "\n",
        "simplifying this expression we get: \n",
        "\n",
        "$$3 \\pi \\phi \\nu \\rho_{H_20} v_t (D_{adj} + D_{max}) +  g  \\frac{\\pi}{6}  (\\rho_{H_2O} - \\rho_{floc_0}) D_{0}^2 \\bigg[D_{adj}\\bigg(\\frac{D_{adj}}{D_0} \\bigg)^{D_{frac}-1} + D_{max}\\bigg(\\frac{D_{max}}{D_0} \\bigg)^{D_{frac}-1} \\bigg]=0 $$\n",
        "\n",
        "Now we can solve for the terminal velocity $v_t$ of the composite floc: \n",
        "\n",
        "$$v_t = \\frac {g (\\rho_{floc_0}- \\rho_{H_2O} ) D_0^2} {18  \\phi \\nu \\rho_{H_20} (D_{adj} + D_{max})} \\bigg[D_{adj}\\bigg(\\frac{D_{adj}}{D_0} \\bigg)^{D_{frac}-1} + D_{max}\\bigg(\\frac{D_{max}}{D_0} \\bigg)^{D_{frac}-1} \\bigg]$$\n",
        "\n",
        "The next step is to do a force balance on the adjacent floc to determine the force of the bond between the two flocs. \n",
        "\n",
        "## bond force calculations\n",
        "The forces in the y direction experienced by the adjacent floc are: \n",
        "$$F_{y_{bond}} = F_{drag_{adj}} + F_{Buoyancy_{adj}} - F_{gravity_{adj}}$$\n",
        "\n",
        "\n",
        "$$ F_{y_{bond}}= 3 \\pi \\phi \\nu \\rho_{H_20} v_t D_{adj}  + (\\rho_{H_2O} - \\rho_{adj}) g  \\frac{\\pi}{6}D_{adj}^3 $$\n",
        "\n",
        "Substituting for $\\rho_{adj}$ we get: \n",
        "\n",
        "$$ F_{y_{bond}}= 3 \\pi \\phi \\nu \\rho_{H_20} v_t D_{adj}  -  g  \\frac{\\pi}{6}(\\rho_{floc_0}- \\rho_{H_2O} ) D_0^2 D_{adj} \\bigg(\\frac{D_{adj}}{D_0} \\bigg)^{D_{frac}-1}$$\n",
        "\n",
        "Substituting for $v_t$ we get the following:\n",
        "\n",
        "$$ F_{y_{bond}}= \\frac{\\pi}{6} g (\\rho_{floc_0}- \\rho_{H_2O} ) D_0^2 D_{adj} \\frac{D_{adj}\\bigg(\\frac{D_{adj}}{D_0} \\bigg)^{D_{frac}-1} + D_{max}\\bigg(\\frac{D_{max}}{D_0} \\bigg)^{D_{frac}-1} }{(D_{adj} + D_{max})} -  g  \\frac{\\pi}{6}(\\rho_{floc_0}- \\rho_{H_2O} ) D_0^2 D_{adj} \\bigg(\\frac{D_{adj}}{D_0} \\bigg)^{D_{frac}-1}$$\n",
        "\n",
        "Simplifying: \n",
        "\n",
        "$$ F_{y_{bond}}= \\frac{\\pi}{6} g (\\rho_{floc_0}- \\rho_{H_2O} ) D_0^2 D_{adj} \\bigg[ \\frac{D_{adj}\\bigg(\\frac{D_{adj}} {D_0} \\bigg)^{D_{frac}-1} + D_{max}\\bigg(\\frac{D_{max}}{D_0} \\bigg)^{D_{frac}-1} }{(D_{adj} + D_{max})} -  \\bigg(\\frac{D_{adj}}{D_0} \\bigg)^{D_{frac}-1} \\bigg]$$\n",
        "\n",
        "If we multiply the last term by $\\frac{(D_{adj} + D_{max})}{(D_{adj} + D_{max})}$ we can simplify the expression to the following: \n",
        "\n",
        "$$ F_{y_{bond}}= \\frac{\\pi}{6} g (\\rho_{floc_0}- \\rho_{H_2O} ) \\frac{D_0^2 D_{adj} D_{max}}{(D_{adj} + D_{max})} \\bigg[ \\bigg(\\frac{D_{max}}{D_0} \\bigg)^{D_{frac}-1} -\\bigg(\\frac{D_{adj}}{D_0} \\bigg)^{D_{frac}-1} \\bigg]$$\n",
        "\n",
        "This is now the final force experience by a bond in the y direction. \n",
        "\n",
        "\n",
        "Last thing left to do is to relate that force in the y direction to a tension force on a bond. This was done in the previous section and that result will be used here. \n",
        "\n",
        "$$F_{bond} = \\frac {F_{y_{bond}}} {cos(\\theta)} $$\n",
        "$$cos(\\theta) = \\frac{L_{bond}}{D_{clay}} = \\Pi_{bond \\space distance} $$\n",
        "\n",
        "$$F_1 = \\frac {F_{1y}} {cos(\\theta)} = \\frac {F_{1y}}{\\Pi_{bond \\space distance} } $$\n",
        "\n",
        "$$ F_{bond} = \\frac{1}{2 \\Pi_{bond \\space distance}}\\frac{\\pi}{6} g (\\rho_{floc_0}- \\rho_{H_2O} ) \\frac{D_0^2 D_{adj} D_{max}}{(D_{adj} + D_{max})} \\bigg[ \\bigg(\\frac{D_{max}}{D_0} \\bigg)^{D_{frac}-1} -\\bigg(\\frac{D_{adj}}{D_0} \\bigg)^{D_{frac}-1} \\bigg]$$\n",
        "\n",
        "\n",
        "\n"
      ]
    },
    {
      "cell_type": "code",
      "metadata": {
        "id": "KxYfOt9VLTmU",
        "scrolled": true
      },
      "source": [
        "D_0 = 5*u.micrometer\n",
        "D_mature= 0.5*u.mm\n",
        "D_fractal = 2.3\n",
        "pi_bond_dist = 0.7\n",
        "density_primary_floc = 2650 * u.kg/u.m**3 \n",
        "temp = 15*u.degC\n",
        "Diam_adj_floc = [] # in micrometer\n",
        "F_bond = [] # in nanonewtons \n",
        "\n",
        "start = (D_0.to(u.micrometer)).magnitude\n",
        "stop = (D_mature.to(u.micrometer)).magnitude\n",
        "\n",
        "for D_adj in np.arange(start,stop): \n",
        "  D_adj_unit = D_adj*u.micrometer\n",
        "  force_bond = ((1/12) * (1/pi_bond_dist) * np.pi * u.gravity * ((D_adj_unit * D_0**2 * D_mature)/(D_adj_unit + D_mature)) *(density_primary_floc - ac.density_water(temp)) * ( (D_mature / D_0)**(D_fractal-1) - (D_adj_unit/D_0)**(D_fractal-1)) ).to(u.nanonewton)\n",
        "  Diam_adj_floc.append(D_adj_unit.magnitude)\n",
        "  F_bond.append(force_bond.magnitude)\n",
        "\n",
        "max_force = max(x for x in F_bond if x is not None) # Finds max force in the list \n",
        "index_max_force = F_bond.index(max_force) # find the index of the max force to then find the associated adj diameter\n",
        "diam_adj_at_max_force = Diam_adj_floc[index_max_force]*u.micrometer\n",
        "diam_ratio = (diam_adj_at_max_force/D_mature).to(u.dimensionless)\n",
        "print(diam_ratio)\n",
        "\n",
        "plt.figure(1,[10,8])\n",
        "plt.plot(Diam_adj_floc,F_bond)\n",
        "plt.xlabel('Diameter of adjacent floc (um)')\n",
        "plt.ylabel('Force on bond (nN)')\n",
        "plt.title('Force on bond between an adjacent floc and a mature floc of size '+ str(D_mature))"
      ],
      "execution_count": null,
      "outputs": []
    },
    {
      "cell_type": "markdown",
      "metadata": {
        "id": "vU__dD_PiAaH"
      },
      "source": [
        "Solving for $D_{max}$\n",
        "\n",
        "from the above graph we know that max force occurs at the $\\frac{D_{adj}}{D_{max}} = 0.44$. \n",
        "$$\\Pi_{max \\space force} =\\frac{D_{adj}}{D_{max}} =0.44$$\n",
        "\n",
        "This will help us solve for $D_{max}$ as a function of $F_{bond}$. \n",
        "Starting with the function of $F_{bond}$: \n",
        "\n",
        "$$ F_{bond} = \\frac{1}{2 \\Pi_{bond \\space distance}}\\frac{\\pi}{6} g (\\rho_{floc_0}- \\rho_{H_2O} ) \\frac{D_0^2 D_{adj} D_{max}}{(D_{adj} + D_{max})} \\bigg[ \\bigg(\\frac{D_{max}}{D_0} \\bigg)^{D_{frac}-1} -\\bigg(\\frac{D_{adj}}{D_0} \\bigg)^{D_{frac}-1} \\bigg]$$\n",
        "\n",
        "Substituting for $D_{adj}$: \n",
        "\n",
        "$$ F_{bond} = \\frac{1}{2 \\Pi_{bond \\space distance}}\\frac{\\pi}{6} g (\\rho_{floc_0}- \\rho_{H_2O} ) \\frac{D_0^2 \\Pi_{max \\space force} D_{max}^2}{(\\Pi_{max \\space force}D_{max} + D_{max})} \\bigg[ \\bigg(\\frac{D_{max}}{D_0} \\bigg)^{D_{frac}-1} -\\bigg(\\frac{\\Pi_{max \\space force}D_{max}}{D_0} \\bigg)^{D_{frac}-1} \\bigg]$$\n",
        "\n",
        "factor out and simplify: \n",
        "\n",
        "$$ F_{bond} =\\frac{1}{2 \\Pi_{bond \\space distance}}\\frac{\\pi}{6} g (\\rho_{floc_0}- \\rho_{H_2O} ) \\frac{D_0^2 \\Pi_{max \\space force} D_{max}}{(\\Pi_{max \\space force} + 1)} \\bigg(\\frac{D_{max}}{D_0} \\bigg)^{D_{frac}-1} \\bigg(1- \\Pi_{max \\space force}^{D_{frac}-1} \\bigg) $$\n",
        "\n",
        "decomposing the $ \\bigg(\\frac{D_{max}}{D_0} \\bigg)^{D_{frac}-1}$ and simplifying: \n",
        "\n",
        "$$ F_{bond} = \\frac{1}{2 \\Pi_{bond \\space distance}}\\frac{\\pi}{6} g (\\rho_{floc_0}- \\rho_{H_2O} ) \\frac{\\Pi_{max \\space force}}{(\\Pi_{max \\space force} + 1)} D_{max}^{D_{frac}}D_0^{3-D_{frac}} \\bigg(1- \\Pi_{max \\space force}^{D_{frac}-1} \\bigg) $$\n",
        "\n",
        "Solving for $D_{max}$: \n",
        "\n",
        "$$ D_{max}^{D_{frac}} = D_0^{frac} \\bigg(\\frac{F_{bond}}{\\frac{\\pi}{6} g (\\rho_{floc_0}- \\rho_{H_2O}) D_0^3}\\bigg) \\bigg(\\frac{2 \\Pi_{bond \\space distance}}{\\big(\\frac{\\Pi_{max \\space force}}{(\\Pi_{max \\space force} + 1)}\\big)\\big(1- \\Pi_{max \\space force}^{D_{frac}-1} \\big) } \\bigg)$$\n",
        "\n",
        "$$ D_{max} = D_0 \\bigg(\\frac{F_{bond}}{\\frac{\\pi}{6} g (\\rho_{floc_0}- \\rho_{H_2O})D_0^3}\\bigg)^{\\frac{1}{D_{frac}}} \\bigg(\\frac{2 \\Pi_{bond \\space distance}}{\\big(\\frac{\\Pi_{max \\space force}}{(\\Pi_{max \\space force} + 1)}\\big)\\big(1- \\Pi_{max \\space force}^{D_{frac}-1} \\big) } \\bigg)^{\\frac{1}{D_{frac}}}$$\n",
        "\n",
        "The last term in the above equation is made exclusively of dimensionless parameters and thus it can be converted into a single dimensionless parameter.\n",
        "\n",
        "$$ \\Pi_D = \\left[\\frac{2 \\Pi_{bond \\space distance}}{\\left(\\frac{\\Pi_{max \\space force}}{(\\Pi_{max \\space force} + 1)}\\right)\\left(1- \\Pi_{max \\space force}^{D_{frac}-1} \\right) } \\right]$$\n",
        "\n",
        "The constant $\\Pi_{bond}^g$ has a value of approximately 7.7 from the calculations below. Ideally this factor would be experimentally measured since it is made up of assumptions.\n",
        "The equation for the floc size in the flocnet simplifies to:\n",
        "\n",
        "$$ D_{max} = D_0 \\left(\\frac{F_{bond}\\Pi_{bond}^g}{\\frac{\\pi}{6} g (\\rho_{floc_0}- \\rho_{H_2O})D_0^3}\\right)^{\\frac{1}{D_{frac}}}$$\n"
      ]
    },
    {
      "cell_type": "markdown",
      "metadata": {
        "id": "vD1JH7TgjkM8"
      },
      "source": [
        ""
      ]
    },
    {
      "cell_type": "markdown",
      "metadata": {
        "id": "prfTTQCma1_c"
      },
      "source": [
        "### Porosity of FB\n",
        "Once we have the max size of the floc we can find that flocs terminal velocity to then use in the calculation for finding its porosity: \n",
        "\n",
        "$$ v_{t} = \\frac{D_0^2g}{18\\Phi\\nu}\\frac{\\rho_{floc_0} -\\rho_{H_2O}}{\\rho_{H_2O}} \\left( \\frac{D_{max}}{D_0} \\right) ^{D_{fractal}-1} $$\n",
        "\n",
        "To find the terminal velocity corrected for the wall effects we use the following: \n",
        "\n",
        "$$\\log _{10}\\left(\\frac{v_t}{v_{t_w}}\\right)=\\frac{D_p}{D_h}$$\n",
        "\n",
        "$$ v_{t_w} = \\frac{v_t}{10^{\\frac{D_{max}}{D_h}}}$$\n",
        "\n",
        "*  $D_h$ hydraulic diameter of fluidized bed\n",
        "$$D_h = \\frac{2BC}{B+C}$$ \n",
        "\n",
        "Where B is the length of the sed tank slice and C is the length between the glass walls. \n",
        "\n",
        "The following equation is used to find the porosity of a suspended blanket. \n",
        "\n",
        "$$\\varepsilon=\\left(\\frac{\\bar v_z}{v_{t_w}}\\right)^{1 / z}\\left(1-\\varepsilon_{\\mathrm{SB}}\\right)+\\varepsilon_{\\mathrm{SB}}$$\n",
        "\n",
        "*  $v_t$ terminal velocity in an infinite fluid\n",
        "*  $v_{t_w}$ particle terminal velocity corrected for wall effect\n",
        "*  $\\bar v_z$ superficial liquid velocity (our upflow velocity)\n",
        "*  $z$ is the fluidization index\n",
        "*  $\\varepsilon_{\\mathrm{SB}}$ is the static bed pore volume fraction which we will assume is 0.4\n",
        "\n",
        "The fluidization index is a function of the Reynolds number \n",
        "\n",
        "$$z=\\frac{0.65\\left(2+0.5 Re_t^{0.65}\\right)}{\\left(1+0.5 Re_t^{0.65}\\right)}$$\n",
        "\n",
        "$$ Re_t = \\frac{v_t D_{\\mathrm{P}}}{\\nu}$$\n",
        "\n",
        "To turn the resulting floc blanket porosity to a density we will do the following: \n",
        "\n",
        "$$\\rho_{fb} = \\rho_{floc} \\frac{\\rlap{-}V_{floc}}{\\rlap{-}V_{total}} + \\rho_{H_2O} \\frac{\\rlap{-}V_{void}}{\\rlap{-}V_{total}}$$\n",
        "\n",
        "$$\\rho_{fb} = \\rho_{floc} (1- \\varepsilon )+ \\rho_{H_2O} \\varepsilon$$\n",
        "\n",
        "I think I might be missing something here to then finally turn this into a concentration \n",
        "\n",
        "We want to find the mass of clay in a floc. With that we can now find the total mass of clay in a given volume. \n",
        "\n",
        "$$C_{clay} = \\frac{M_{clay}}{\\rlap{-}V_{floc}} (1-\\varepsilon )$$\n",
        "$$M_{clay \\space floc} = n_{clay} \\rho_{clay} \\frac{\\pi}{6} D_{clay}^3$$\n",
        "\n",
        "$$D_{floc} =  D_{clay} n_{clay}^{(\\frac{1}{D_{frac}})}$$\n",
        "\n",
        "$$n_{clay} = \\bigg( \\frac{D_{floc}}{D_{clay}}\\bigg)^{D_{frac}}$$\n",
        "\n",
        "$$M_{clay \\space floc} = \\bigg( \\frac{D_{floc}}{D_{clay}}\\bigg)^{D_{frac}} \\rho_{clay} \\frac{\\pi}{6} D_{clay}^3$$\n",
        "\n",
        "dividing $M_{clay}$ by the volume of the floc we get:\n",
        "\n",
        "$$C_{clay} = \\bigg( \\frac{D_{floc}}{D_{clay}}\\bigg)^{D_{frac}} \\rho_{clay}  \\bigg( \\frac{D_{clay}}{D_{floc}} \\bigg)^3 (1-\\varepsilon)$$\n",
        "\n",
        "$$C_{clay} = \\bigg( \\frac{D_{clay}}{D_{floc}}\\bigg)^{3-D_{frac}} \\rho_{clay} (1-\\varepsilon)$$\n",
        "\n",
        "\n",
        "$\\rho_{floc_0}$ is the density of the primary particle and can be described by the density of the primary particle and the densities of the coagulant. \n",
        "\n",
        "$$\\rho_{floc_0} = \\frac{C_{floc_0}}{\\frac{C_{Al(OH)_3}}{\\rho_{Al(OH)_3}} + \\frac{C_{clay}}{\\rho_{clay}}}$$\n",
        "\n",
        "$$C_{floc_0} = C_{Al(OH)_3} + C_{clay}$$\n",
        "\n",
        "\n"
      ]
    },
    {
      "cell_type": "code",
      "metadata": {
        "id": "8f1bYQGviPRz",
        "scrolled": true
      },
      "source": [
        "F_bond = 6*u.nanonewton\n",
        "D_0 = 5*u.micrometer\n",
        "D_fractal = 2.1\n",
        "pi_bond_dist = 0.7\n",
        "temp = 15*u.degC\n",
        "pi_max_force = 0.44 \n",
        "\n",
        "density_clay = 2650 * u.kg/u.m**3 \n",
        "coag = ac.PACl\n",
        "conc_clay = 100*u.NTU\n",
        "ConcAluminum = 4*u.mg/u.l\n",
        "conc_floc_0 = ac.conc_floc(ConcAluminum,conc_clay,coag) \n",
        "conc_AlOH3 = ac.conc_precipitate(ConcAluminum, coag)\n",
        "density_floc_0 = (conc_floc_0 / ( (conc_AlOH3/coag.PrecipDensity) + (conc_clay/density_clay))).to(u.kg/u.m**3)\n",
        "print('Density of the primary floc is ',density_floc_0)\n",
        "density_primary_floc = density_floc_0 \n",
        "pi_2nd_term = ((2*pi_bond_dist) / ((pi_max_force  / (pi_max_force  +1)) * (1- pi_max_force**(D_fractal-1)) ))\n",
        "print(\"The second dimensionless term is\",pi_2nd_term)\n",
        "D_max = (D_0* ((F_bond/((np.pi/6)* u.gravity* (density_primary_floc - ac.density_water(temp))* D_0**3))**(1/D_fractal)).to(u.dimensionless) * ((2*pi_bond_dist) / ((pi_max_force  / (pi_max_force  +1)) * (1- pi_max_force**(D_fractal-1)) ))**(1/D_fractal)).to(u.mm)\n",
        "print('The max floc size is ',D_max)\n",
        "### find terminal velo of floc with diam D_max ###\n",
        "shape_factor = (45/24)\n",
        "velo_terminal_max = (((D_0**2 * u.gravity)/(18*shape_factor*ac.viscosity_kinematic_water(temp))).to(u.mm/u.s) * ((density_primary_floc - ac.density_water(temp))/ac.density_water(temp) ).to(u.dimensionless) * ((D_max/D_0).to(u.dimensionless))**(D_fractal - 1))\n",
        "print('The terminal velocity of a floc of diameter '+str(D_max)+ ' is '+str(velo_terminal_max))\n",
        "\n",
        "### correct terminal velo for wall effects ###\n",
        "width_sed = 1.3*u.cm\n",
        "lenght_sed = 39*u.cm \n",
        "D_h = (2*width_sed *lenght_sed) / (lenght_sed + width_sed)\n",
        "v_terminal_corrected = (velo_terminal_max / (10**(D_max/D_h))).to(u.mm/u.s)\n",
        "print('The corrected terminal velocity for wall effect is ',v_terminal_corrected)\n",
        "\n",
        "### calculating the fluidization index (z) ###\n",
        "Re_corrected = ((v_terminal_corrected*D_max )/ac.viscosity_kinematic_water(temp)).to(u.dimensionless)\n",
        "z = (0.65*(2+ (0.5 * Re_corrected**0.65)))/(1 + (0.5 * Re_corrected**0.65))\n",
        "\n",
        "### calculating porosity ###\n",
        "v_up= 1*u.mm/u.s\n",
        "static_bed_pore_frac = 0.4 \n",
        "porosity_fb = (((v_up/v_terminal_corrected)**(1/z) *(1-static_bed_pore_frac)) + static_bed_pore_frac).to(u.dimensionless)\n",
        "print('The porosity of the floc blanket is ', porosity_fb)\n",
        "\n",
        "### turning porosity to a density ### \n",
        "conc_clay_fb = ((D_0/D_max)**(3-D_fractal) * density_primary_floc *(1-porosity_fb)).to(u.g/u.l)\n",
        "print('The floc blanket clay concentration is ',conc_clay_fb)\n",
        "\n"
      ],
      "execution_count": null,
      "outputs": []
    },
    {
      "cell_type": "code",
      "metadata": {
        "id": "qqJRj1qTHcaf",
        "scrolled": true
      },
      "source": [
        "D_0 = 5*u.micrometer\n",
        "D_fractal = 2\n",
        "pi_bond_dist = 0.7\n",
        "density_primary_floc = density_floc_0 \n",
        "temp = 15*u.degC\n",
        "pi_max_force = 0.44 \n",
        "\n",
        "start = (1.5*u.nanonewton).magnitude\n",
        "stop = (100*u.nanonewton).magnitude\n",
        "\n",
        "F_bond_list = [] # in nN\n",
        "density_FB_list = [] #in mg/l\n",
        "diam_max = [] # in mm \n",
        "for force in np.arange(start,stop,0.05): \n",
        "  F_bond = force*u.nanonewton\n",
        "  # D_max_to_dfrac = (( F_bond / ((1/12) * (1/pi_bond_dist) * np.pi * u.gravity * (density_primary_floc - ac.density_water(temp)) *\\\n",
        "  #                     (pi_max_force / (pi_max_force +1 )) * D_0**(3-D_fractal) * (1-pi_max_force**(D_fractal-1))  )).to(u.mm**D_fractal))\n",
        "  # D_max = (D_max_to_dfrac**(1/D_fractal)).to(u.mm)\n",
        "  D_max = (D_0* ((F_bond/((np.pi/6)* u.gravity* (density_primary_floc - ac.density_water(temp))* D_0**3))**(1/D_fractal)).to(u.dimensionless) *\\\n",
        "           ((2*pi_bond_dist) / ((pi_max_force  / (pi_max_force  +1)) * (1- pi_max_force**(D_fractal-1)) ))**(1/D_fractal)).to(u.mm)\n",
        "  F_bond_list.append(force)\n",
        "  diam_max.append(D_max.magnitude)\n",
        "  ### find terminal velo of floc with diam D_max ###\n",
        "  shape_factor = (45/24)\n",
        "  velo_terminal_max = (((D_0**2 * u.gravity)/(18*shape_factor*ac.viscosity_kinematic_water(temp))).to(u.mm/u.s) * ((density_primary_floc - ac.density_water(temp))/ac.density_water(temp) ).to(u.dimensionless) * ((D_max/D_0).to(u.dimensionless))**(D_fractal - 1))\n",
        "\n",
        "  ### correct terminal velo for wall effects ###\n",
        "  width_sed = 1.3*u.cm\n",
        "  lenght_sed = 39*u.cm \n",
        "  D_h = (2*width_sed *lenght_sed) / (lenght_sed + width_sed)\n",
        "  v_terminal_corrected = (velo_terminal_max / (10**(D_max/D_h))).to(u.mm/u.s)\n",
        "\n",
        "  ### calculating the fluidization index (z) ###\n",
        "  Re_corrected = ((v_terminal_corrected*D_max )/ac.viscosity_kinematic_water(temp)).to(u.dimensionless)\n",
        "  z = (0.65*(2+ (0.5 * Re_corrected**0.65)))/(1 + (0.5 * Re_corrected**0.65))\n",
        "\n",
        "  ### calculating porosity ###\n",
        "  v_up= 1*u.mm/u.s\n",
        "  static_bed_pore_frac = 0.4 \n",
        "  porosity_fb = (((v_up/v_terminal_corrected)**(1/z) *(1-static_bed_pore_frac)) + static_bed_pore_frac).to(u.dimensionless)\n",
        " \n",
        "  ### turning porosity to a density ### \n",
        "  conc_clay_fb = ((D_0/D_max)**(3-D_fractal) * density_clay *(1-porosity_fb)).to(u.mg/u.l)\n",
        "  density_FB_list.append(conc_clay_fb.magnitude)\n",
        "\n",
        "# create figure and axis objects with subplots()\n",
        "fig,ax = plt.subplots()\n",
        "plt.figure(figsize=(8,6))\n",
        "gs  = gridspec.GridSpec(1,1, height_ratios=[1])\n",
        "ax = plt.subplot(gs[0])\n",
        "\n",
        "\n",
        "# make a plot\n",
        "ax.plot(F_bond_list, density_FB_list, color=\"red\")\n",
        "# set x-axis label\n",
        "ax.set_xlabel('max force supported by bonds (nN)',fontsize=14)\n",
        "# set y-axis label\n",
        "ax.set_ylabel('Clay Concentration of FB (mg/l)',color=\"red\",fontsize=14)\n",
        "\n",
        "# twin object for two different y-axis on the sample plot\n",
        "ax2=ax.twinx()\n",
        "# make a plot with different y-axis using second axis object\n",
        "ax2.plot(F_bond_list,diam_max,color=\"blue\")\n",
        "ax2.set_ylabel('max diamter of floc (mm)',color=\"blue\",fontsize=14)\n",
        "plt.xscale('log')\n",
        "plt.title('Clay con. and max floc diam with a primary floc density of '+str(density_primary_floc)+' and fractal dimension of '+str(D_fractal))\n",
        "\n"
      ],
      "execution_count": null,
      "outputs": []
    },
    {
      "cell_type": "markdown",
      "metadata": {
        "id": "04h-M0t5INnE"
      },
      "source": [
        "### Observation of graphs\n",
        "\n",
        "* The floc blanket concentration is still high according to this ~1 orders of magnitude more concentrated than what is observed. \n",
        "* There is a max concentration at around a bond strength of 2-3nN \n",
        "\n",
        "### Next graph will be looking at floc blanket concentration and max particle size as a function of the core particle density \n",
        "\n",
        "We will need to make the following assumptions to move ahead with this analysis:\n",
        "* Assume the bond strength (1nN)\n",
        "* Assume the fractal dimension (2.3)\n",
        "* Assume the clay size (5 um)\n",
        "* Assume the value of $\\Pi_{Bond \\space distance}$ (0.7) \n",
        "* Assume the settled bed porosity (0.4) \n",
        "\n",
        "\n",
        "\n",
        "\n"
      ]
    },
    {
      "cell_type": "code",
      "metadata": {
        "id": "EjaJj76crEte",
        "scrolled": true
      },
      "source": [
        "D_0 = 5*u.micrometer\n",
        "D_fractal = 2\n",
        "pi_bond_dist = 0.7\n",
        "temp = 15*u.degC\n",
        "pi_max_force = 0.44 \n",
        "F_bond = 8*u.nanonewton\n",
        "\n",
        "start = (1200*u.kg/u.m**3).magnitude\n",
        "stop = (density_clay.to(u.kg/u.m**3)).magnitude\n",
        "\n",
        "density_primary_part_0 = [] # in nN\n",
        "density_FB_list = [] #in mg/l\n",
        "diam_max = [] # in mm \n",
        "for dens_prim in np.arange(start,stop): \n",
        "  dens_prim_0 = dens_prim*u.kg/u.m**3\n",
        "  D_max = (D_0* ((F_bond/((np.pi/6)* u.gravity* (dens_prim_0 - ac.density_water(temp))* D_0**3))**(1/D_fractal)).to(u.dimensionless) *\\\n",
        "           ((2*pi_bond_dist) / ((pi_max_force  / (pi_max_force  +1)) * (1- pi_max_force**(D_fractal-1)) ))**(1/D_fractal)).to(u.mm)\n",
        "  density_primary_part_0.append(dens_prim)\n",
        "  diam_max.append(D_max.magnitude)\n",
        "  ### find terminal velo of floc with diam D_max ###\n",
        "  shape_factor = (45/24)\n",
        "  velo_terminal_max = (((D_0**2 * u.gravity)/(18*shape_factor*ac.viscosity_kinematic_water(temp))).to(u.mm/u.s) * ((dens_prim_0 - ac.density_water(temp))/ac.density_water(temp) ).to(u.dimensionless) * ((D_max/D_0).to(u.dimensionless))**(D_fractal - 1))\n",
        "  ### correct terminal velo for wall effects ###\n",
        "  width_sed = 1.3*u.cm\n",
        "  lenght_sed = 39*u.cm \n",
        "  D_h = (2*width_sed *lenght_sed) / (lenght_sed + width_sed)\n",
        "  v_terminal_corrected = (velo_terminal_max / (10**(D_max/D_h))).to(u.mm/u.s)\n",
        "\n",
        "  ### calculating the fluidization index (z) ###\n",
        "  Re_corrected = ((v_terminal_corrected*D_max )/ac.viscosity_kinematic_water(temp)).to(u.dimensionless)\n",
        "  z = (0.65*(2+ (0.5 * Re_corrected**0.65)))/(1 + (0.5 * Re_corrected**0.65))\n",
        "\n",
        "  ### calculating porosity ###\n",
        "  v_up= 1*u.mm/u.s\n",
        "  static_bed_pore_frac = 0.4 # How much do we know this?\n",
        "  porosity_fb = (((v_up/v_terminal_corrected)**(1/z) *(1-static_bed_pore_frac)) + static_bed_pore_frac).to(u.dimensionless)\n",
        " \n",
        "  ### turning porosity to a density ### \n",
        "  conc_clay_fb = ((D_0/D_max)**(3-D_fractal) * density_clay *(1-porosity_fb)).to(u.mg/u.l)\n",
        "  density_FB_list.append(conc_clay_fb.magnitude)\n",
        "\n",
        "# create figure and axis objects with subplots()\n",
        "fig,ax = plt.subplots()\n",
        "plt.figure(figsize=(8,6))\n",
        "gs  = gridspec.GridSpec(1,1, height_ratios=[1])\n",
        "ax = plt.subplot(gs[0])\n",
        "\n",
        "\n",
        "# make a plot\n",
        "ax.plot(density_primary_part_0, density_FB_list, color=\"red\")\n",
        "# set x-axis label\n",
        "ax.set_xlabel('Density of primary floc (kg/m^3)',fontsize=14)\n",
        "# set y-axis label\n",
        "ax.set_ylabel('Clay Concentration of FB (mg/l)',color=\"red\",fontsize=14)\n",
        "plt.yscale('log')\n",
        "# twin object for two different y-axis on the sample plot\n",
        "ax2=ax.twinx()\n",
        "# make a plot with different y-axis using second axis object\n",
        "ax2.plot(density_primary_part_0,diam_max,color=\"blue\")\n",
        "ax2.set_ylabel('max diamter of floc (mm)',color=\"blue\",fontsize=14)\n",
        "plt.title('Clay con. and max floc diam with a bond strength of '+str(F_bond)+' and fractal dimension of '+str(D_fractal))"
      ],
      "execution_count": null,
      "outputs": []
    },
    {
      "cell_type": "markdown",
      "metadata": {
        "id": "tPSIFxU3rMh-"
      },
      "source": [
        ""
      ]
    },
    {
      "cell_type": "code",
      "metadata": {
        "id": "QwGHKad5om70",
        "scrolled": true
      },
      "source": [
        "D_0 = 5*u.micrometer\n",
        "pi_bond_dist = 0.7\n",
        "temp = 15*u.degC\n",
        "pi_max_force = 0.44 \n",
        "F_bond = 8*u.nanonewton\n",
        "\n",
        "start = 1.4\n",
        "stop = 2.4\n",
        "\n",
        "d_fractal_list = [] # in nN\n",
        "density_FB_list = [] #in mg/l\n",
        "diam_max = [] # in mm \n",
        "for D_fractal in np.arange(start,stop,0.01): \n",
        "  dens_prim_0 = density_floc_0\n",
        "  D_max = (D_0* ((F_bond/((np.pi/6)* u.gravity* (dens_prim_0 - ac.density_water(temp))* D_0**3))**(1/D_fractal)).to(u.dimensionless) *\\\n",
        "           ((2*pi_bond_dist) / ((pi_max_force  / (pi_max_force  +1)) * (1- pi_max_force**(D_fractal-1)) ))**(1/D_fractal)).to(u.mm)\n",
        "  d_fractal_list.append(D_fractal)\n",
        "  diam_max.append(D_max.magnitude)\n",
        "  ### find terminal velo of floc with diam D_max ###\n",
        "  shape_factor = (45/24)\n",
        "  velo_terminal_max = (((D_0**2 * u.gravity)/(18*shape_factor*ac.viscosity_kinematic_water(temp))).to(u.mm/u.s) * ((dens_prim_0 - ac.density_water(temp))/ac.density_water(temp) ).to(u.dimensionless) * ((D_max/D_0).to(u.dimensionless))**(D_fractal - 1))\n",
        "  ### correct terminal velo for wall effects ###\n",
        "  width_sed = 1.3*u.cm\n",
        "  lenght_sed = 39*u.cm \n",
        "  D_h = (2*width_sed *lenght_sed) / (lenght_sed + width_sed)\n",
        "  v_terminal_corrected = (velo_terminal_max / (10**(D_max/D_h))).to(u.mm/u.s)\n",
        "\n",
        "  ### calculating the fluidization index (z) ###\n",
        "  Re_corrected = ((v_terminal_corrected*D_max )/ac.viscosity_kinematic_water(temp)).to(u.dimensionless)\n",
        "  z = (0.65*(2+ (0.5 * Re_corrected**0.65)))/(1 + (0.5 * Re_corrected**0.65))\n",
        "\n",
        "  ### calculating porosity ###\n",
        "  v_up= 1*u.mm/u.s\n",
        "  static_bed_pore_frac = 0.4 # How much do we know this?\n",
        "  porosity_fb = (((v_up/v_terminal_corrected)**(1/z) *(1-static_bed_pore_frac)) + static_bed_pore_frac).to(u.dimensionless)\n",
        " \n",
        "  ### turning porosity to a density ### \n",
        "  conc_clay_fb = ((D_0/D_max)**(3-D_fractal) * density_clay *(1-porosity_fb)).to(u.mg/u.l)\n",
        "  density_FB_list.append(conc_clay_fb.magnitude)\n",
        "\n",
        "# create figure and axis objects with subplots()\n",
        "fig,ax = plt.subplots()\n",
        "plt.figure(figsize=(8,6))\n",
        "gs  = gridspec.GridSpec(1,1, height_ratios=[1])\n",
        "ax = plt.subplot(gs[0])\n",
        "\n",
        "\n",
        "# make a plot\n",
        "ax.plot(d_fractal_list, density_FB_list, color=\"red\")\n",
        "# set x-axis label\n",
        "ax.set_xlabel('fractal of the floc',fontsize=14)\n",
        "# set y-axis label\n",
        "ax.set_ylabel('Clay Concentration of FB (mg/l)',color=\"red\",fontsize=14)\n",
        "plt.yscale('log')\n",
        "# twin object for two different y-axis on the sample plot\n",
        "ax2=ax.twinx()\n",
        "# make a plot with different y-axis using second axis object\n",
        "ax2.plot(d_fractal_list,diam_max,color=\"blue\")\n",
        "ax2.set_ylabel('max diamter of floc (mm)',color=\"blue\",fontsize=14)\n",
        "plt.title('Floc blanket conc. and max floc diam with a bond strength of '+str(F_bond) + ' and primary floc density of '+str(dens_prim_0))\n"
      ],
      "execution_count": null,
      "outputs": []
    },
    {
      "cell_type": "markdown",
      "metadata": {
        "id": "G7w6UEzcukGw"
      },
      "source": [
        "# Observations and Reflections \n",
        "\n",
        "\n",
        "\n",
        "The following set of graphs all show the maximum diameter of a floc and the clay concentration in a floc blanket given an upflow velocity of 1mm/s. The independent variables used to generate the graphs are the parameters which I believe are most important in the model.  \n",
        "\n",
        "\n",
        "\n",
        "## Clay concentration vs force of bond \n",
        "\n",
        "\n",
        "\n",
        "\n",
        "\n",
        "\n",
        "\n",
        "<p align=\"left\">\n",
        "  <img src=\"https://raw.githubusercontent.com/MWSteams/WTPmodel_images/master/clay_conc%26diam_vs_force_bond.JPG\" height=350>\n",
        "</p>\n",
        "\n",
        "\n",
        "\n",
        "\n",
        "\n",
        "\n",
        "\n",
        "\n",
        "\n",
        "Here we can see that when the bond force is small, ~1nN, the blanket concentration is low. However, as bond strength approaches approximately 8nN the blanket concentration reaches a peak and starts to come down as bond strength continues to increase. A hypothesis for this is that at lower bond strengths flocs get broken up at smaller floc sizes that have terminal velocities close to the upflow velocity of the sedimentation tank. A significant amount of those flocs as a result will be washed out of the reactor. As the bond strength increases they can withstand larger stress forces and grow bigger. As they grow bigger their terminal velocity increases so they are more likely to stay in the sed tank but their density decreases. This is likely why the model predicts the decrease in the clay concentration as bond strength exceeds the maximum. \n",
        "\n",
        "\n",
        "## Clay concentration vs density of primary particle \n",
        "\n",
        "\n",
        "\n",
        "\n",
        "\n",
        "\n",
        "\n",
        "\n",
        "\n",
        "<p align=\"left\">\n",
        "  <img src=\"https://raw.githubusercontent.com/MWSteams/WTPmodel_images/master/Conc_clay%26diam_vs_prim_part_density.JPG\" height=350>\n",
        " </p>\n",
        "\n",
        "\n",
        "\n",
        "\n",
        "\n",
        "\n",
        "\n",
        "\n",
        "\n",
        "The density of the primary particle plays an important role in determining the density of the fully formed floc. While we don't have a comprehensive model for this yet, we can see how this model behaves by varying the primary floc density. What we see is that at primary floc concentrations from 1400 to about 1600 the clay concentration dramatically increases to the 1000's mg/l. This is due to the primary floc's overall influence on the mature floc's density. The more dense the mature floc is the higher it's terminal velocity and the more clay there is per floc, resulting in this exponential growth in clay concentration in the blanket. Changes in the primary floc density has a significant impact on the clay concentration in the blanket, spanning more than 3 orders of magnitude. \n",
        "\n",
        "\n",
        "\n",
        "## Clay concentration vs fractal dimension \n",
        "\n",
        "\n",
        "\n",
        "\n",
        "\n",
        "\n",
        "\n",
        "<p align=\"left\">\n",
        "  <img src=\"https://raw.githubusercontent.com/MWSteams/WTPmodel_images/master/conc_clay%26diam_vs_fractal_dimension.JPG\" height=350>\n",
        " </p>\n",
        "\n",
        "\n",
        "\n",
        "\n",
        "\n",
        "\n",
        "\n",
        "\n",
        "\n",
        "The last analysis I carried out was with various fractal dimensions. Out of all parameters fractal dimension has the largest effect of any of the other variables. Small changes in fractal dimension have profound changes on the floc blanket clay concentration. With increasing fractal dimension leading to the most concentrated floc blankets. There appears to also be a minimum fractal dimension of 1.8, where blanket concentration reaches its minimum. We have been assuming that the fractal dimension of flocs in the FB are near 2.3 but if this model is correct then that should produce blanket concentrations near the 20,000's to 40,000's and this is not what has been observed in previous experiments. Near fractal dimensions of 2 we see the order of magnitude that have been observed in many of our experiments. Perhaps this is an indication that the fractal dimension in the sed tank is lower than what was previously predicted by Adachi and Tananka. However, [Meakin (1988)](https://www-sciencedirect-com.proxy.library.cornell.edu/science/article/pii/0001868687800167) simulated floc cluster aggregation with a three dimensional hierarchical model that considered structural readjustments such as bending, folding, and twisting. Fractal dimensions ranged from 2.13 to 2.19 with this model.\n",
        "\n",
        "<p align=\"left\">\n",
        "  <img src=\"https://raw.githubusercontent.com/MWSteams/WTPmodel_images/master/Meakin_Fig.26A.JPG\" height=300>\n",
        " </p>\n",
        "\n",
        "<p align=\"left\">\n",
        "  <img src=\"https://raw.githubusercontent.com/MWSteams/WTPmodel_images/master/Meakin_Fig.26B&C.JPG\" height=600>\n",
        " </p>\n",
        "\n",
        "<p align=\"left\">\n",
        "  <img src=\"https://raw.githubusercontent.com/MWSteams/WTPmodel_images/master/Meakin_Fig.26D.JPG\" height=300>\n",
        "</p>\n",
        "\n",
        "The figures above are from [Meakin (1988)](https://www-sciencedirect-com.proxy.library.cornell.edu/science/article/pii/0001868687800167) page 312 & 313 and they show the different degrees of restructuring. IR 0 being no restructuring and IR 3 being the most restructuring which includes bending, folding, and twisting. \n",
        "\n",
        "\n"
      ]
    },
    {
      "cell_type": "markdown",
      "metadata": {
        "id": "zrOB4HezGbQ-"
      },
      "source": [
        "# Check model with a sand bed \n",
        "\n",
        "As a check we will find the porosity of a sand bed using the porosity equation that was used in the previous analysis. \n",
        "\n"
      ]
    },
    {
      "cell_type": "code",
      "metadata": {
        "id": "qZoCG77nGtZD",
        "scrolled": true
      },
      "source": [
        "D_sand = 0.5*u.mm\n",
        "temp = 15*u.degC\n",
        "density_sand = 2650 * u.kg/u.m**3 \n",
        "\n",
        "def terminal_velo_particle(temp, particle_density , particle_diam):\n",
        "  Nu = ac.viscosity_kinematic_water(temp)\n",
        "  water_density = ac.density_water(temp)\n",
        "  grav = 1*u.gravity\n",
        "  terminal_velo_laminar = (grav * particle_diam**2 * (particle_density - water_density)) / ( 18 * Nu * water_density)\n",
        "  Re = (terminal_velo_laminar * particle_diam / Nu ).to(u.dimensionless)\n",
        "  if Re < 1: \n",
        "    return terminal_velo_laminar.to(u.mm/u.s) , Re \n",
        "  else:\n",
        "    error = 1 \n",
        "    Re_new = Re\n",
        "    while error >= 0.01 : \n",
        "      coefficient_drag = (24/Re_new)*(1 + 0.150*Re_new**0.681) + (0.407 / (1 + (8710/Re_new)))\n",
        "      terminal_velocity = (4 * grav * particle_diam * (particle_density - water_density) / (3 * coefficient_drag * water_density) )**0.5\n",
        "      Re_new_new = (terminal_velocity * particle_diam / Nu ).to(u.dimensionless)\n",
        "      error = np.abs(Re_new_new - Re_new ) \n",
        "      Re_new = Re_new_new\n",
        "    return terminal_velocity.to(u.mm/u.s) , Re_new_new \n",
        "\n",
        "settle_velo_sand = terminal_velo_particle(temp, density_sand , D_sand)[0]\n",
        "Reynold_num_sand = terminal_velo_particle(temp, density_sand , D_sand)[1]\n",
        "print ('The settling velocity of a particle of diameter ' +str(D_sand) + ' and density '+ \n",
        "       str(density_sand)+ ' is ' +str(settle_velo_sand)+ ' and Reynolds number ',round(Reynold_num_sand,1))\n",
        "\n",
        "\n",
        "### calculating the fluidization index (z) ###\n",
        "\n",
        "z = (0.65*(2+ (0.5 * Reynold_num_sand**0.65)))/(1 + (0.5 * Reynold_num_sand**0.65))\n",
        "\n",
        "### calculating porosity ###\n",
        "v_up= 12*u.mm/u.s\n",
        "static_bed_pore_frac = 0.4 \n",
        "porosity_fb = (((v_up/settle_velo_sand)**(1/z) *(1-static_bed_pore_frac)) + static_bed_pore_frac).to(u.dimensionless)\n",
        "print('The porosity of the floc blanket is '+str(porosity_fb)+ ' at an upflow velo of '+str(v_up))\n",
        "\n",
        "### calculating porosity at the point of fluidization which is around 5.5 mm/s ###\n",
        "\n"
      ],
      "execution_count": null,
      "outputs": []
    },
    {
      "cell_type": "markdown",
      "metadata": {
        "id": "N1BNPS0yVbqt"
      },
      "source": [
        "# Sand bed comparison\n",
        "We expect there to be about a 30% bed expansion at around 12mm/s but based on these set of equations we get a 12% bed expansion. "
      ]
    },
    {
      "cell_type": "markdown",
      "metadata": {
        "id": "_bPBRZKGF0dM"
      },
      "source": [
        "###To find what the dimensionless ratio of the bond force to the buoyant weight is we can take this equation: \n",
        "$$ F_{bond} = \\frac{1}{2 \\Pi_{bond \\space distance}}\\frac{\\pi}{6} g (\\rho_{floc_0}- \\rho_{H_2O} ) \\frac{\\Pi_{max \\space force}}{(\\Pi_{max \\space force} + 1)} D_{max}^{D_{frac}}D_0^{3-D_{frac}} \\bigg(1- \\Pi_{max \\space force}^{D_{frac}-1} \\bigg) $$\n",
        "\n",
        "The buoyant weight is a function of the diameter of the max floc cubed so I need to extract that from the $D_{max}$: \n",
        "\n",
        "$$ F_{bond} = \\frac{1}{2 \\Pi_{bond \\space distance}}\\frac{\\pi}{6} g (\\rho_{floc_0}- \\rho_{H_2O} ) \\frac{\\Pi_{max \\space force}}{(\\Pi_{max \\space force} + 1)} D_{max}^3 D_{max}^{D_{frac}-3}D_0^{3-D_{frac}} \\bigg(1- \\Pi_{max \\space force}^{D_{frac}-1} \\bigg) $$\n",
        "\n",
        "###Dimensionless ratio of the bond force to the buoyant weight\n",
        "\n",
        "$$ \\frac{F_{bond}}{\\frac{\\pi}{6}g (\\rho_{floc_0}- \\rho_{H_2O} )D_{max}^3} = \\frac{1}{2\\Pi_{bond \\space distance}} \\frac{\\Pi_{max \\space force}}{(\\Pi_{max \\space force} + 1)} \\big(\\frac{D_{max}}{D_0}\\big)^{D_{frac}-3} \\bigg(1- \\Pi_{max \\space force}^{D_{frac}-1} \\bigg) $$"
      ]
    },
    {
      "cell_type": "markdown",
      "metadata": {
        "id": "jYWe93LYKd09"
      },
      "source": [
        "# Appendix\n",
        "### Derivation of the floc terminal velocity equation\n",
        "\n",
        "For single clay particles we can use the following: \n",
        "$$v_t =\\sqrt{ \\frac{4}{3} \\frac{D_pg}{C_D}\\frac{\\rho_{p} -\\rho_{H_2O}}{\\rho_{H_2O}} }$$\n",
        "\n",
        "Drag coefficient for porous flocs can be described as follows even up to Re equal to 40. (Weber-Shirk, 2015)\n",
        "$$ Re = \\frac{V_{t}D_p}{\\nu}$$\n",
        "$$C_D = \\frac{24 \\Phi}{Re} = \\frac{24 \\Phi \\nu}{V_{t}D_p}$$\n",
        "* $\\Phi$ is the shape factor that adjusts the drag coefficient due its nonspherical shape. \n",
        "$$v_t =\\sqrt{ \\frac{D_p^2gV_{t}}{18 \\Phi \\nu}\\frac{\\rho_{p} -\\rho_{H_2O}}{\\rho_{H_2O}} }$$\n",
        "\n",
        "\n",
        "$$v_t = \\frac{D_p^2g}{18\\Phi \\nu}\\frac{\\rho_{floc} -\\rho_{H_2O}}{\\rho_{H_2O}}$$\n",
        "\n",
        "\n",
        "* $D_p$ is the diameter of the primary particle \n",
        "* $\\rho_{floc}$ is the density of the floc particle \n",
        "\n",
        "If we use this for a primary particle we can then express it as follows: \n",
        "\n",
        "$$v_t = \\frac{D_p^2g}{18 \\nu}\\frac{\\rho_{p} -\\rho_{H_2O}}{\\rho_{H_2O}}$$\n",
        "\n",
        "But if we are talking about individual flocs then we need consider the fact that we are dealing with fractals made up of primary particles. As this fractal grows in size, it becomes less dense. \n",
        "\n",
        "Based on Weber-Shirk 2015, the density of a fractal floc is: \n",
        "\n",
        "$$\\rho_{floc} = (\\rho_{floc_0} -\\rho_{H_2O}) \\frac{D_0}{D_{floc}}^{3-D_{fractal}} + \\rho_{H_2O}$$\n",
        "\n",
        "When the density of the floc is substituted in the terminal velocity equation we get the following expression for the velocity of a floc: \n",
        "\n",
        "$$v_t = \\frac{D_{floc}^2g}{18\\Phi \\nu}\\frac{(\\rho_{floc_0} -\\rho_{H_2O}) \\frac{D_0}{D_{floc}}^{3-D_{fractal}} + \\rho_{H_2O} -\\rho_{H_2O}}{\\rho_{H_2O}}$$\n",
        "\n",
        "\n",
        "The following is showing how the above equation simplifies:  \n",
        "\n",
        "$$v_t = \\frac{D_{floc}^2g}{18\\Phi \\nu}\\frac{\\rho_{floc_0} -\\rho_{H_2O}}{\\rho_{H_2O}} \\frac{D_0}{D_{floc}}^{3-D_{fractal}}$$\n",
        "\n",
        "$$v_t = \\frac{g}{18\\Phi \\nu}\\frac{\\rho_{floc_0} -\\rho_{H_2O}}{\\rho_{H_2O}} D_0^{3-D_{fractal}} \\frac{ D_{floc}^2}{D_{floc}^{3-D_{fractal}}}$$\n",
        "\n",
        "$$v_t = \\frac{g}{18\\Phi \\nu}\\frac{\\rho_{floc_0} -\\rho_{H_2O}}{\\rho_{H_2O}} D_0^{3-D_{fractal}} D_{floc}^{D_{fractal}-1}$$\n",
        "\n",
        "$$v_t = \\frac{g}{18\\Phi \\nu}\\frac{\\rho_{floc_0} -\\rho_{H_2O}}{\\rho_{H_2O}} \\frac{D_0^{3 -1 }}{D_0^{D_{fractal -1}}} D_{floc}^{D_{fractal}-1}$$\n",
        "\n",
        "$$ v_t = \\frac{D_0^2g}{18\\Phi\\nu}\\frac{\\rho_{floc_0} -\\rho_{H_2O}}{\\rho_{H_2O}} \\left( \\frac{D_{floc}}{D_0} \\right) ^{D_{fractal}-1} $$\n",
        "\n",
        "* $D_0$ is the diameter of the primary particle \n",
        "* $D_{floc}$ is the diameter of the floc "
      ]
    }
  ]
}