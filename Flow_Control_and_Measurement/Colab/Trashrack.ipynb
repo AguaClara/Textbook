{
  "nbformat": 4,
  "nbformat_minor": 0,
  "metadata": {
    "colab": {
      "name": "Gracias_Review.ipynb",
      "provenance": [],
      "collapsed_sections": [],
      "include_colab_link": true
    },
    "kernelspec": {
      "display_name": "Python 3",
      "language": "python",
      "name": "python3"
    },
    "language_info": {
      "codemirror_mode": {
        "name": "ipython",
        "version": 3
      },
      "file_extension": ".py",
      "mimetype": "text/x-python",
      "name": "python",
      "nbconvert_exporter": "python",
      "pygments_lexer": "ipython3",
      "version": "3.7.3"
    }
  },
  "cells": [
    {
      "cell_type": "markdown",
      "metadata": {
        "id": "view-in-github",
        "colab_type": "text"
      },
      "source": [
        "<a href=\"https://colab.research.google.com/github/AguaClara/Textbook/blob/master/Flow_Control_and_Measurement/Colab/Trashrack.ipynb\" target=\"_parent\"><img src=\"https://colab.research.google.com/assets/colab-badge.svg\" alt=\"Open In Colab\"/></a>"
      ]
    },
    {
      "cell_type": "code",
      "metadata": {
        "id": "TLU4XcGlz593",
        "outputId": "0717181e-c1f8-4d46-9e94-140ba3c4d2de",
        "colab": {
          "base_uri": "https://localhost:8080/"
        }
      },
      "source": [
        "!pip install aguaclara"
      ],
      "execution_count": 2,
      "outputs": [
        {
          "output_type": "stream",
          "text": [
            "Collecting aguaclara\n",
            "\u001b[?25l  Downloading https://files.pythonhosted.org/packages/e2/22/0a3989c294e07a8feb0b2ac55cb631ad2592b3c1f12a0792e3e6337d5ab5/aguaclara-0.2.6.tar.gz (89kB)\n",
            "\u001b[K     |████████████████████████████████| 92kB 2.4MB/s \n",
            "\u001b[?25hRequirement already satisfied: matplotlib in /usr/local/lib/python3.6/dist-packages (from aguaclara) (3.2.2)\n",
            "Requirement already satisfied: urllib3 in /usr/local/lib/python3.6/dist-packages (from aguaclara) (1.24.3)\n",
            "Collecting pint\n",
            "\u001b[?25l  Downloading https://files.pythonhosted.org/packages/5f/0e/dd4fb17aed6bfbc168fd767cffb6ec20b634009b75fd8ea699ea244bff3c/Pint-0.16.1-py2.py3-none-any.whl (205kB)\n",
            "\u001b[K     |████████████████████████████████| 215kB 8.4MB/s \n",
            "\u001b[?25hRequirement already satisfied: pandas in /usr/local/lib/python3.6/dist-packages (from aguaclara) (1.1.4)\n",
            "Requirement already satisfied: scipy in /usr/local/lib/python3.6/dist-packages (from aguaclara) (1.4.1)\n",
            "Requirement already satisfied: kiwisolver>=1.0.1 in /usr/local/lib/python3.6/dist-packages (from matplotlib->aguaclara) (1.3.1)\n",
            "Requirement already satisfied: python-dateutil>=2.1 in /usr/local/lib/python3.6/dist-packages (from matplotlib->aguaclara) (2.8.1)\n",
            "Requirement already satisfied: numpy>=1.11 in /usr/local/lib/python3.6/dist-packages (from matplotlib->aguaclara) (1.18.5)\n",
            "Requirement already satisfied: cycler>=0.10 in /usr/local/lib/python3.6/dist-packages (from matplotlib->aguaclara) (0.10.0)\n",
            "Requirement already satisfied: pyparsing!=2.0.4,!=2.1.2,!=2.1.6,>=2.0.1 in /usr/local/lib/python3.6/dist-packages (from matplotlib->aguaclara) (2.4.7)\n",
            "Requirement already satisfied: packaging in /usr/local/lib/python3.6/dist-packages (from pint->aguaclara) (20.4)\n",
            "Requirement already satisfied: importlib-resources; python_version < \"3.7\" in /usr/local/lib/python3.6/dist-packages (from pint->aguaclara) (3.3.0)\n",
            "Requirement already satisfied: importlib-metadata; python_version < \"3.8\" in /usr/local/lib/python3.6/dist-packages (from pint->aguaclara) (2.0.0)\n",
            "Requirement already satisfied: pytz>=2017.2 in /usr/local/lib/python3.6/dist-packages (from pandas->aguaclara) (2018.9)\n",
            "Requirement already satisfied: six>=1.5 in /usr/local/lib/python3.6/dist-packages (from python-dateutil>=2.1->matplotlib->aguaclara) (1.15.0)\n",
            "Requirement already satisfied: zipp>=0.4; python_version < \"3.8\" in /usr/local/lib/python3.6/dist-packages (from importlib-resources; python_version < \"3.7\"->pint->aguaclara) (3.4.0)\n",
            "Building wheels for collected packages: aguaclara\n",
            "  Building wheel for aguaclara (setup.py) ... \u001b[?25l\u001b[?25hdone\n",
            "  Created wheel for aguaclara: filename=aguaclara-0.2.6-cp36-none-any.whl size=101373 sha256=2fe09718d2855919107a400aa1b6e3d5ea22879e28149b0d480b080aff79eb8b\n",
            "  Stored in directory: /root/.cache/pip/wheels/a6/9a/d5/cab5970c57dfc0099454b36812306b976c217408b39e7a379a\n",
            "Successfully built aguaclara\n",
            "Installing collected packages: pint, aguaclara\n",
            "Successfully installed aguaclara-0.2.6 pint-0.16.1\n"
          ],
          "name": "stdout"
        }
      ]
    },
    {
      "cell_type": "code",
      "metadata": {
        "id": "A8B6wldWzniR"
      },
      "source": [
        "import aguaclara as ac\n",
        "from aguaclara.core.units import unit_registry as u\n",
        "import matplotlib.pyplot as plt\n",
        "import numpy as np"
      ],
      "execution_count": 3,
      "outputs": []
    },
    {
      "cell_type": "code",
      "metadata": {
        "id": "jAF0496nZPpt",
        "outputId": "9bbf6c5a-0f10-4f87-a2b5-5088ae076f30",
        "colab": {
          "base_uri": "https://localhost:8080/"
        }
      },
      "source": [
        "V = 50 * u.mile/u.hr\n",
        "t = 300 * u.s \n",
        "X = V*t\n",
        "print('The distance traveled is',X.to(u.m))"
      ],
      "execution_count": 4,
      "outputs": [
        {
          "output_type": "stream",
          "text": [
            "The distance traveled is 6706 meter\n"
          ],
          "name": "stdout"
        }
      ]
    },
    {
      "cell_type": "markdown",
      "metadata": {
        "id": "cDORO47NJVWe"
      },
      "source": [
        "chlorine feed system"
      ]
    },
    {
      "cell_type": "code",
      "metadata": {
        "id": "b1DpICdfJUkA"
      },
      "source": [
        "CDC_Cl = ac.CDC(q=1*u.mL/u.s,)"
      ],
      "execution_count": 5,
      "outputs": []
    },
    {
      "cell_type": "markdown",
      "metadata": {
        "id": "2eEPkadRhFvO"
      },
      "source": [
        "### Clay feed system design"
      ]
    },
    {
      "cell_type": "code",
      "metadata": {
        "id": "xPDx2uNqhKG6",
        "outputId": "3bd356cb-8fe8-49f6-8513-5bba0ff605f1",
        "colab": {
          "base_uri": "https://localhost:8080/"
        }
      },
      "source": [
        "Q_train = 60 * u.L/u.s\n",
        "C_clay = 10 * u.NTU\n",
        "print('The clay concentration at',C_clay, 'is approximately',C_clay.to(u.mg/u.L))\n",
        "Q_train = 50 * u.L/u.s\n",
        "M_clay = (Q_train*C_clay).to(u.kg/u.day)\n",
        "print('The mass of clay needed per day to give',C_clay, 'is', M_clay)\n",
        "print('The mass feed rate of clay is',C_clay, 'is', M_clay.to(u.gram/u.s))\n",
        "V_clay = M_clay/(2.650 * u.kg/u.L)/0.6\n",
        "print('The volumetric feed rate of clay is',C_clay, 'is', V_clay.to(u.L/u.hr))\n",
        "# William used 250 g/L clay stock\n",
        "C_madre = 250 * u.g/u.L\n",
        "Vol_madre = 1000 * u.L\n",
        "M_madre = (C_madre * Vol_madre).to(u.kg)\n",
        "print('La mezcla de arcilla seria con', M_madre,'suspendida en', Vol_madre )\n",
        "# now calulate the flow rate of the stock\n",
        "Q_clay_stock = (M_clay/C_madre).to(u.mL/u.s)\n",
        "print('The flow rate of the stock for one train is',Q_clay_stock) \n",
        "H = 1 * u.m\n",
        "L_tube = 6 * u.m\n",
        "K_tube = 4\n",
        "temp = 15 * u.degC\n",
        "nu = ac.viscosity_kinematic_water(temp)\n",
        "D_tube = ac.diam_pipe(Q_clay_stock,H,L_tube,nu,0*u.mm,K_tube).to(u.mm)\n",
        "print('The required tube diameter for the clay stock is',D_tube)\n",
        "D_tube = 1/8* u.inch\n",
        "Q_tube_max = ac.flow_pipe(D_tube,H,L_tube,nu,0*u.mm,K_tube).to(u.mL/u.s)\n",
        "print('The maximum flow rate with the',D_tube,'is',Q_tube_max)\n",
        "C_clay_max = (Q_tube_max*C_madre/Q_train).to(u.NTU)\n",
        "print('The maximum clay dose is',C_clay_max)"
      ],
      "execution_count": 6,
      "outputs": [
        {
          "output_type": "stream",
          "text": [
            "The clay concentration at 10 NTU is approximately 14.7 milligram / liter\n",
            "The mass of clay needed per day to give 10 NTU is 63.5 kilogram / day\n",
            "The mass feed rate of clay is 10 NTU is 0.735 gram / second\n",
            "The volumetric feed rate of clay is 10 NTU is 1.664 liter / hour\n",
            "La mezcla de arcilla seria con 250 kilogram suspendida en 1000 liter\n",
            "The flow rate of the stock for one train is 2.94 milliliter / second\n",
            "The required tube diameter for the clay stock is 3.047 millimeter\n",
            "The maximum flow rate with the 0.125 inch is 3.447 milliliter / second\n",
            "The maximum clay dose is 11.72 NTU\n"
          ],
          "name": "stdout"
        }
      ]
    },
    {
      "cell_type": "code",
      "metadata": {
        "id": "VdpZfbLJ_DME",
        "outputId": "92c6d005-ec60-41ca-f9e4-533e90a4ac9c",
        "colab": {
          "base_uri": "https://localhost:8080/"
        }
      },
      "source": [
        "Q_train = 48 * u.L/u.s\n",
        "Q_train_design = 60 * u.L/u.s\n",
        "Floc_HL_design = 50 * u.cm\n",
        "Floc_HL_goal = (Q_train/Q_train_design)**2 * Floc_HL_design\n",
        "print('La perdida de carga a un caudal de',Q_train,'is',Floc_HL_goal)"
      ],
      "execution_count": 7,
      "outputs": [
        {
          "output_type": "stream",
          "text": [
            "La perdida de carga a un caudal de 48 liter / second is 32 centimeter\n"
          ],
          "name": "stdout"
        }
      ]
    },
    {
      "cell_type": "markdown",
      "metadata": {
        "id": "Lez4f3XYV_7P"
      },
      "source": [
        "# Filter high head loss\n",
        "The filters have high initial head loss and the head loss increases rapidily over time. There is some evidence that the rapid increase with time occurs even when the turbidity is low. These suggest that the filters have air injected during backwash and or the transition to filtration that remains trapped in the filter AND it suggests that we are injected air into the filter during filtration. \n",
        "\n",
        "## Possible solutions\n",
        "\n",
        "1) add air release valve to the top of each of the inlet pipes leading into the filter\n",
        "\n",
        "2) Add outlet pipe stubs to raise water level above inlet pipes by about 10 cm. This would suggest making the outlet stubs be the same height as the taller inlet stubs that are used for the middle to inlets.\n",
        "\n",
        "3) Devise method to eliminate bubbles during backwash (Why isn't this a problem at other plants?) The plate to lower the water into the inlet tank is missing from the design. That might not be enough to fix this problem.\n",
        "\n",
        "\n",
        "# Floc Blanket Failure\n",
        "The observed failure mode is that the floc blanket rises to the top of the sed tank.\n",
        "It must be possible to solve this problem by wasting from the floc hopper at the rate at which the floc blanket grows (approximately 240 mL/s). This probably requires using the 1\" valve.\n",
        "It would be better to obtain some consolidation in the floc hopper. The floc hopper should be able to obtain significant consolidation given that the inital sedimentation velocity of the suspension is equal to the upflow velocity and that the floc hopper velocity based on the total amount of floc blanket that must be wasted is 0.16 mm/s.\n",
        "\n",
        "I need an as built measurement of the height of the opening into the floc hopper. From the drawing it seems that there is only 10 cm between the plate settlers and the weir. Given the small density difference that is driving the flow it seems very likely (see analysis below) that flow of flocs into the floc hopper is limited by the wasting rate. We should be able to increase the flow of flocs into the floc hopper by increasing the vertical height available. That would require moving the plate settlers away from the floc hopper. We could do that be installing the plate settlers sloped away from the floc hopper as is shown in the design drawings. This doesn't entire solve the problem because the water returning from the floc hopper needs to be able to enter the plate settlers. We could help the water get into the plate settlers by having at least one module of plate settlers be lifted up so that bottom of the plate settlers are as high as the top of the inlet into the floc hopper.\n",
        "\n",
        "Recommendations:\n",
        "\n",
        "1) Turn plate settlers around\n",
        "\n",
        "2) Lift first module of plates to touch the effluent launder to maximize space beneath them.\n",
        "\n",
        "3) Begin wasting flocs through 1\" valve at a rate of about 400 mL/s\n",
        "\n",
        "4) If floc blanket stays low, then experiment with lower floc waste rates."
      ]
    },
    {
      "cell_type": "code",
      "metadata": {
        "id": "0ZqQbwexV_7R",
        "outputId": "65535774-bfab-4a43-cfb3-f661eb7f7df7",
        "colab": {
          "base_uri": "https://localhost:8080/"
        }
      },
      "source": [
        "Q = 50 * u.L/u.s\n",
        "Design_Q = 60 * u.L/u.s\n",
        "Sed_v = 1 * u.mm/u.s * Q/Design_Q\n",
        "#I'm making a big guess on the floc blanket growth rate because there were purges on the way to failure\n",
        "Failure_t = 10 * u.hr\n",
        "Tank_H = 2 * u.m\n",
        "FB_v = (Tank_H/Failure_t).to(u.mm/u.s)\n",
        "print('Floc blanket growth rate is',FB_v)\n",
        "PACl_C = 20 * u.mg/u.L\n",
        "Al_C = PACl_C/3\n",
        "Dose_AlOH3_C = Al_C * (23+17*3)/23\n",
        "print('Al(OH)3 concentration dosed is',Dose_AlOH3_C)\n",
        "Ratio_v = Sed_v/FB_v\n",
        "print('Ratio of velocities is',Ratio_v)\n",
        "FB_AlOH_C = Dose_AlOH3_C * Ratio_v\n",
        "print('The floc blanket concentration is',FB_AlOH_C)\n",
        "Sed_n = 10\n",
        "Sed_FB_Q = (Q/Ratio_v/Sed_n).to(u.mL/u.s)\n",
        "print('If we waste floc blanket without any further concentrating we need to waste',Sed_FB_Q,'from each sed tank.')"
      ],
      "execution_count": 8,
      "outputs": [
        {
          "output_type": "stream",
          "text": [
            "Floc blanket growth rate is 0.05556 millimeter / second\n",
            "Al(OH)3 concentration dosed is 21.45 milligram / liter\n",
            "Ratio of velocities is 15 dimensionless\n",
            "The floc blanket concentration is 321.7 milligram / liter\n",
            "If we waste floc blanket without any further concentrating we need to waste 333.3 milliliter / second from each sed tank.\n"
          ],
          "name": "stdout"
        }
      ]
    },
    {
      "cell_type": "markdown",
      "metadata": {
        "id": "RW2D6sfVV_7f"
      },
      "source": [
        "Let's find the floc hopper velocity given this flow rate."
      ]
    },
    {
      "cell_type": "code",
      "metadata": {
        "id": "usKzXjm-V_7i",
        "outputId": "895bfc13-32cb-4ae4-8578-0f1a34a0168f",
        "colab": {
          "base_uri": "https://localhost:8080/"
        }
      },
      "source": [
        "Sed_W = (42*u.inch).to(u.m)\n",
        "F_hopper_A = (1.4 * u.m * Sed_W).to(u.m**2)\n",
        "F_hopper_v = (Sed_FB_Q/F_hopper_A).to(u.mm/u.s)\n",
        "print('The floc hopper velocity is',F_hopper_v)"
      ],
      "execution_count": 9,
      "outputs": [
        {
          "output_type": "stream",
          "text": [
            "The floc hopper velocity is 0.2232 millimeter / second\n"
          ],
          "name": "stdout"
        }
      ]
    },
    {
      "cell_type": "markdown",
      "metadata": {
        "id": "qULenNRbV_7s"
      },
      "source": [
        "The floc hopper velocity is much lower than the upflow velocity in the sed tank. Thus there should be a significant increase in concentration in the floc hopper.\n",
        "\n",
        "Is it possible that the transport of flocs into the floc hopper is limited by the size of the floc hopper opening and the density difference between the floc blanket and water?\n",
        "\n",
        "We need an estimate of the density of the floc blanket\n",
        "\n",
        "$$\\rho_{FB} = \\left( 1 - \\frac{\\rho_{H_2O}}{\\rho_{Clay}} \\right) C_{Clay} + \\rho_{H_2O}$$\n",
        "\n",
        "$$\\rho_{FB} = \\left( 1 - \\frac{\\rho_{H_2O}}{\\rho_{Al(OH)_3}} \\right) C_{Al(OH)_3} + \\rho_{H_2O}$$\n",
        "\n",
        "What pushes the water into the floc hopper? potential energy from a difference in FB elevation turns into kinetic energy. Let's assume a 5 cm elevation difference (small compared with floc hopper opening size).\n",
        "\n",
        "Also assume floc blanket flows in through bottom half of floc hopper opening and water flows out of top half.\n"
      ]
    },
    {
      "cell_type": "markdown",
      "metadata": {
        "id": "3N8wrEV1V_7u"
      },
      "source": [
        "The analysis below tracks energy to estimate the maximum velocity that floc blanket fluid can be transported into the floc hopper and then clarified water can be transported back out of the floc hopper\n",
        "\n",
        "$$PE = \\Delta \\rho g h $$\n",
        "\n",
        "Assume that the PE is used both to accelerate the water to bring it into the floc hopper and to accelerate it to push it back out.\n",
        "\n",
        "$$KE_{in} = \\frac{1}{2}PE $$\n",
        "$$KE_{in} = \\rho \\frac{v^2}{2} $$\n",
        "\n",
        "$$ v = \\sqrt{\\frac{2KE_{in}}{\\rho}} $$\n",
        "\n",
        "$$ v = \\sqrt{\\frac{\\Delta \\rho g h}{\\rho_{H_2O} + \\Delta \\rho}} $$\n",
        "\n",
        "This doesn't account for vena contracta going over the weir or any mixing between the layers."
      ]
    },
    {
      "cell_type": "markdown",
      "metadata": {
        "id": "308eENeaV_7y"
      },
      "source": [
        "![image.png](attachment:image.png)"
      ]
    },
    {
      "cell_type": "code",
      "metadata": {
        "id": "NcYVLE5qV_71",
        "outputId": "12b7ac27-7d24-4a07-8556-9569f9676ea0",
        "colab": {
          "base_uri": "https://localhost:8080/"
        }
      },
      "source": [
        "temp = 8 * u.degC\n",
        "density_AlOH3 = 2000 * u.kg/u.m**3\n",
        "FB_buoyant_density = (1 - ac.density_water(temp)/density_AlOH3) * FB_AlOH_C\n",
        "print('Floc blanket density difference is',FB_buoyant_density)\n",
        "Floc_hopper_opening_H = 10 *u.cm\n",
        "Floc_hopper_opening_A = Floc_hopper_opening_H * Sed_W\n",
        "\n",
        "#The driving head is a change in floc blanket depth between the sed tank and the floc hopper\n",
        "FB_Delta_H = 5 * u.cm\n",
        "\n",
        "Horizontal_v = (np.sqrt((FB_buoyant_density* u.gravity * FB_Delta_H) / (ac.density_water(temp) + FB_buoyant_density))).to(u.mm/u.s)\n",
        "print('The horizontal velocity into the floc hopper is',Horizontal_v)\n",
        "\n",
        "#add vena contracta to this analysis\n",
        "Q_Density = (Horizontal_v * Floc_hopper_opening_A/2 * 0.62).to(u.L/u.s)\n",
        "print('The flow into the floc hopper is',Q_Density)\n"
      ],
      "execution_count": 10,
      "outputs": [
        {
          "output_type": "stream",
          "text": [
            "Floc blanket density difference is 160.9 milligram / liter\n",
            "The horizontal velocity into the floc hopper is 8.882 millimeter / second\n",
            "The flow into the floc hopper is 0.2937 liter / second\n"
          ],
          "name": "stdout"
        }
      ]
    },
    {
      "cell_type": "markdown",
      "metadata": {
        "id": "75VhOQliV_8B"
      },
      "source": [
        "The maximum flow into the floc hopper is just a bit larger than the estimated required flow.  If there "
      ]
    },
    {
      "cell_type": "markdown",
      "metadata": {
        "id": "zS4iEZeb10xG"
      },
      "source": [
        "# Review from summer 2019\n",
        "\n",
        "much turbulence in the entrance tank\n",
        "\n",
        "We need to \n",
        "48 L/s\n",
        "55 L/s\n",
        "\n",
        "for large plants need mixeers for chemicals\n",
        "\n",
        "suggests a bypass around the flocculator (not clear if this a need)\n",
        "want to know if \n",
        "want a drain before the sed tank exit weir\n",
        "2 trens is good\n",
        "wouldlike one dosing point\n",
        "\n",
        "$$\\bar v_1 \\frac{\\pi D_1^2}{4} = \\bar v_2 \\frac{\\pi D_2^2}{4}$$\n",
        " \n"
      ]
    },
    {
      "cell_type": "markdown",
      "metadata": {
        "id": "sBP3HW7czsHO"
      },
      "source": [
        "## Repaso sobre el diseño de la planta de Gracias\n",
        "\n",
        "### Perdida de carga\n",
        "\n",
        "Vale revisar estas perdidas para averiguar que cambios sean necesarios en la planta.\n",
        "\n",
        "1.   Rejilla para basura\n",
        "2.   Flocculator head loss\n",
        "3.   Sed tank exit channel head loss\n",
        "\n",
        "Abajo la ecuacion de perdida por una expansion.\n",
        "\n",
        "$h_e = \\left( \\frac{A_{out}}{A_{in}} -1 \\right)^2 \\, \\frac{\\bar  v_{out}^2}{2g} \\, \\, = \\, \\, K_e \\frac{\\bar v_{out}^2}{2g}, \\quad {\\rm where} \\quad K_e = \\left( \\frac{A_{out}}{A_{in}} - 1 \\right)^2$\n",
        "\n",
        "La rejilla parece que sea sumerjida en el video. Es muy importante que el agua pasa por la rejilla para evitar que los difusores llenan de basura.\n",
        "\n"
      ]
    },
    {
      "cell_type": "code",
      "metadata": {
        "id": "YCCKzC4r6TPp",
        "outputId": "0f51a80f-f9f3-479a-c3b5-da6eba160f8d",
        "colab": {
          "base_uri": "https://localhost:8080/"
        }
      },
      "source": [
        "Caudal_max = 60 * u.L/u.s\n",
        "\n",
        "# datos requeridos (no tengo estos datos)\n",
        "Rejilla_H = 50 * u.cm\n",
        "Rejilla_porosidad = 0.4\n",
        "\n",
        "# datos de memoria tecnica\n",
        "Floc_canal_W = 63 * u.cm\n",
        "Floc_aguas_abajo_H = 2.08 * u.m\n",
        "\n",
        "# datos calculados\n",
        "Rejilla_V = Caudal_max/(Floc_canal_W * Rejilla_H)\n",
        "Rejilla_Ke = (1/Rejilla_porosidad - 1)**2\n",
        "print('Coeficiente de perdida para la rejilla', Rejilla_Ke)\n",
        "Rejilla_HL = (Rejilla_Ke * Rejilla_V**2/(2 * u.gravity)).to(u.cm)\n",
        "print('Perdida de carga pasando por la rejilla es',Rejilla_HL)"
      ],
      "execution_count": 11,
      "outputs": [
        {
          "output_type": "stream",
          "text": [
            "Coeficiente de perdida para la rejilla 2.25\n",
            "Perdida de carga pasando por la rejilla es 0.4162 centimeter\n"
          ],
          "name": "stdout"
        }
      ]
    },
    {
      "cell_type": "markdown",
      "metadata": {
        "id": "nYWI8NIbx_KD"
      },
      "source": [
        "# Floculacion"
      ]
    },
    {
      "cell_type": "code",
      "metadata": {
        "id": "0KuH595v9ZCh",
        "outputId": "572ee26b-a802-4a79-f5a4-56e4eddc005c",
        "colab": {
          "base_uri": "https://localhost:8080/"
        }
      },
      "source": [
        "\n",
        "\n",
        "Floc_canal_L =\t7.09 * u.m\n",
        "Tanque_Entrada_L = 2.09 * u.m\n",
        "Floc_canal_N = 4\n",
        "Deflectores_S = 39.2 * u.cm\n",
        "Deflectores_Ke = 2.56\n",
        "Expansions_N = 11 + 16 + 2*17 + 3\n",
        "Floc_perdida_diseño_HL = 50 * u.cm\n",
        "Floc_volumen = ((Floc_canal_N * Floc_canal_L - Tanque_Entrada_L) * Floc_aguas_abajo_H * Floc_canal_W).to(u.L)\n",
        "print('Volumen del floculador',Floc_volumen)\n",
        "t_calculated = (Floc_volumen/Caudal_max).to(u.min)\n",
        "print('Tiempo de floculacion',t_calculated)\n",
        "\n",
        "Floc_V = Caudal_max/(Floc_canal_W * Deflectores_S)\n",
        "Floc_HL = (Expansions_N*Deflectores_Ke * Floc_V**2/(2*u.gravity)).to(u.cm)\n",
        "print('Perdida de carga en el floculador',Floc_HL)\n",
        "\n",
        "Temp = 10 * u.degC\n",
        "nu = ac.viscosity_kinematic_water(Temp)\n",
        "print('viscosidad de agua',nu)\n",
        "\n",
        "G = (np.sqrt(u.gravity * Floc_perdida_diseño_HL/(nu * t_calculated))).to(1/u.s)\n",
        "Gt = (G*t_calculated).to(u.dimensionless)\n",
        "print('Gradiente de velocidad',G)\n",
        "print('Gt',Gt)"
      ],
      "execution_count": 12,
      "outputs": [
        {
          "output_type": "stream",
          "text": [
            "Volumen del floculador 3.442e+04 liter\n",
            "Tiempo de floculacion 9.562 minute\n",
            "Perdida de carga en el floculador 49.31 centimeter\n",
            "viscosidad de agua 1.3e-06 meter ** 2 / second\n",
            "Gradiente de velocidad 81.08 / second\n",
            "Gt 4.652e+04 dimensionless\n"
          ],
          "name": "stdout"
        }
      ]
    },
    {
      "cell_type": "markdown",
      "metadata": {
        "id": "kBO80Pi3HGj_"
      },
      "source": [
        "## Propuesta para floculador\n",
        "\n",
        "Parece que la perdida de carga sea mas que 50 cm segun el diseño. Y es posible que el diseño tenga un error en el coeficiente de perdida.\n",
        "\n",
        "Gracias es la primera planta con un diseno que utiza 50 cm de perdida de carga por el floculador. Por eso es importante tener una buena medida del coeficiente de perdida por los deflectores. Es posible que la estimacion que tenemos es un bajo estimación. Por eso tenemos que medir la perdida de carga por un canal de deflectores. \n",
        "\n",
        "* Arreglar y colocar el modulo con 17 deflectores en un canal\n",
        "* Aumetar el Caudal_max hasta 60 L/s\n",
        "* Medir la perdida de carga en este canal (cambio de nivel)\n",
        "* Calcular el coeficiente de perdida de los deflectores\n"
      ]
    },
    {
      "cell_type": "code",
      "metadata": {
        "id": "WnJglrRiHnvn",
        "outputId": "62638d91-8f72-4cb4-a7ef-4be0b738e377",
        "colab": {
          "base_uri": "https://localhost:8080/"
        }
      },
      "source": [
        "# dato medido por Barbara Oramah on January 57 2020\n",
        "Floc_HL_medida = 52 * u.cm\n",
        "Caudal = 45 * u.L/u.s\n",
        "Floc_V = Caudal/(Floc_canal_W * Deflectores_S)\n",
        "# calculos\n",
        "Nuevo_Deflectores_Ke = (Floc_HL_medida/(Expansions_N * Floc_V**2/(2*u.gravity))).to(u.dimensionless)\n",
        "print('Nueva estimacion del coeficiente de perdida por cada deflector',Nuevo_Deflectores_Ke)\n",
        "\n"
      ],
      "execution_count": 13,
      "outputs": [
        {
          "output_type": "stream",
          "text": [
            "Nueva estimacion del coeficiente de perdida por cada deflector 4.8 dimensionless\n"
          ],
          "name": "stdout"
        }
      ]
    },
    {
      "cell_type": "markdown",
      "metadata": {
        "id": "FovsMFJ5KE2q"
      },
      "source": [
        "Dado la nueva estimacion del coeficiente de perdida por cada deflector es necesario actualizar el diseño de los deflectores.\n",
        "\n",
        "$G_{CS} = \\sqrt{\\frac{g h_L}{\\nu \\theta}}$\n",
        "\n",
        "$S = \\left( \\frac{K}{2 H_e G_{CS}^2 \\nu } \\right)^\\frac{1}{3} \\frac{Q}{W_{channel}}$\n",
        "\n",
        "$S = \\left( \\frac{K \\theta}{2 H_e g h_L } \\right)^\\frac{1}{3} \\frac{Q}{W_{channel}}$\n",
        "\n"
      ]
    },
    {
      "cell_type": "code",
      "metadata": {
        "id": "8tXVWjOpKOTx",
        "outputId": "23aee1ca-d8da-4c1c-9907-28e41d1c3ea6",
        "colab": {
          "base_uri": "https://localhost:8080/"
        }
      },
      "source": [
        "Nuevo_S = ((Nuevo_Deflectores_Ke/(2*Floc_aguas_abajo_H * G**2 * nu))**(1/3) * Caudal_max/Floc_canal_W).to(u.cm)\n",
        "print('El nuevo espacio entre deflectores es',Nuevo_S)"
      ],
      "execution_count": 14,
      "outputs": [
        {
          "output_type": "stream",
          "text": [
            "El nuevo espacio entre deflectores es 48.86 centimeter\n"
          ],
          "name": "stdout"
        }
      ]
    },
    {
      "cell_type": "markdown",
      "metadata": {
        "id": "SGmuEjgmrv7A"
      },
      "source": [
        "## Fuerza en los tubos del floculador\n",
        "\n",
        "La perdida de carga en un canal de floculacion resulta en una fuerza hidrostatica que los tubos llevan hacia el pared. La fuerza esta casi igual en los 6 tubos. \n",
        "\n",
        "$F_{total} = \\rho g H_L (H*W) $"
      ]
    },
    {
      "cell_type": "code",
      "metadata": {
        "id": "9sV5nDqqtJdN",
        "outputId": "60cac183-649f-4ddd-81d9-4b1865eb15a3",
        "colab": {
          "base_uri": "https://localhost:8080/"
        }
      },
      "source": [
        "# Fuerza en cada tubo\n",
        "Floc_modulo_tubos_N = 6\n",
        "Floc_Canal_Diseño_HL = 50 * u.cm/4\n",
        "Fuerza =( ac.density_water(Temp) * u.gravity * Floc_Canal_Diseño_HL * Floc_canal_W * (Floc_aguas_abajo_H + 50 * u.cm)/Floc_modulo_tubos_N).to(u.N)\n",
        "print('La fuerza en cada tubo en los modulos de deflectores es',Fuerza)"
      ],
      "execution_count": 15,
      "outputs": [
        {
          "output_type": "stream",
          "text": [
            "La fuerza en cada tubo en los modulos de deflectores es 332 newton\n"
          ],
          "name": "stdout"
        }
      ]
    },
    {
      "cell_type": "markdown",
      "metadata": {
        "id": "ZfwZs-45u7od"
      },
      "source": [
        "La fuerza en cada tubo es alto. Es importante reconocer que este fuerza es por la perdida de carga y no por el largo del canal ni por el Caudal_max. Asi que si esta fuerza es mayor que lo que un tubo de media pulgada puede resistir seria necesario usar un tubo mas grande. Por supuesto deben usar tubos para alta presion de agua para que sean mas fuertes. \n",
        "\n",
        "Un tubo de 1/2\" de cedula 40 puede aguantar [1174 N de fuerza en tensión](https://www.pvcfittingsonline.com/resource-center/strength-of-pvc-pipe-with-strength-chart/)."
      ]
    },
    {
      "cell_type": "markdown",
      "metadata": {
        "id": "onzaqq_EleLo"
      },
      "source": [
        "## Canal entre tanque de sedimentacion y filtros\n",
        "\n",
        "Este canal require un buen analisis para ver que seria la mejor solucion. Primero necesitamos el dato de un Caudal_max y la perdida que se puede medir en el canal. Necesitamos saber la perdida por el trayecto de los tanques de sedimentacion y por el canal conector que lleva el agua al canal de entrada de los filtros. "
      ]
    },
    {
      "cell_type": "code",
      "metadata": {
        "id": "etg2oy9ME6-h",
        "outputId": "e8290182-3f0f-44b2-9537-994685b10ab1",
        "colab": {
          "base_uri": "https://localhost:8080/"
        }
      },
      "source": [
        "# Perdida en el canal de salida del sedimentacion\n",
        "Sed_vertedero_salida_H = 43.5 * u.cm\n",
        "Sed_canal_salida_W = 28.7 * u.cm\n",
        "Sed_canal_salida_V = (Caudal_max/(Sed_vertedero_salida_H*Sed_canal_salida_W)).to(u.m/u.s)\n",
        "Sed_canal_K = 2\n",
        "print('Velocidad en canal de salida',Sed_canal_salida_V)\n",
        "Sed_canal_salida_HL = (Sed_canal_K * Sed_canal_salida_V**2/(2 * u.gravity)).to(u.cm)\n",
        "print('Perdidad en canal de salida solamente considerando el coeficiente por las equinas y no considerando que la profundidad del canal va a bajar es',Sed_canal_salida_HL)"
      ],
      "execution_count": 16,
      "outputs": [
        {
          "output_type": "stream",
          "text": [
            "Velocidad en canal de salida 0.4806 meter / second\n",
            "Perdidad en canal de salida solamente considerando el coeficiente por las equinas y no considerando que la profundidad del canal va a bajar es 2.355 centimeter\n"
          ],
          "name": "stdout"
        }
      ]
    },
    {
      "cell_type": "markdown",
      "metadata": {
        "id": "ASZjLdwqlQVA"
      },
      "source": [
        "Necesitamos el dato de la perdida de profundidad entre aguas ariba en el canal de salida del tanque de sedimentacion y donde echa el agua al canal de entrada de los filtros.  Abajo hagamos una mejor estimacion sobre el desnivel en el canal considerando que el nivel de agua va a reducir y por eso la velocidad va a aumetar y las perdidas van a aumetar."
      ]
    },
    {
      "cell_type": "code",
      "metadata": {
        "id": "xcIZnwySRZTX",
        "outputId": "3fcd4893-a9c7-4aee-96fe-8db1978b439d",
        "colab": {
          "base_uri": "https://localhost:8080/"
        }
      },
      "source": [
        "# estimacion de la perdida (recursive calculation) - \n",
        "Perdida_de_altura = 7.23 * u.cm\n",
        "Rugosidad = 1 * u.mm\n",
        "# coeficiente de perdida para las esquinas\n",
        "L = 15 * u.m\n",
        "Rh = ac.radius_hydraulic(Sed_canal_salida_W, Sed_vertedero_salida_H - Perdida_de_altura,True)\n",
        "f = ac.fric_rect(Caudal_max, Sed_canal_salida_W, Sed_vertedero_salida_H - Perdida_de_altura, nu, Rugosidad, True)\n",
        "Perdida_de_altura = ((Caudal_max/(Sed_canal_salida_W * (Sed_vertedero_salida_H - Perdida_de_altura )))**2/(2*u.gravity) * (Sed_canal_K + 1 + f * L/(4*Rh))).to(u.cm)\n",
        "print('La perdida de altura seria ',Perdida_de_altura)\n",
        "print('Fuerza cortante en los paredes del canal da una coeficiente de perdida de',ac.round_sig_figs(f * L/(4*Rh),2))"
      ],
      "execution_count": 17,
      "outputs": [
        {
          "output_type": "stream",
          "text": [
            "La perdida de altura seria  6.671 centimeter\n",
            "Fuerza cortante en los paredes del canal da una coeficiente de perdida de 0.0094 meter / centimeter\n"
          ],
          "name": "stdout"
        },
        {
          "output_type": "stream",
          "text": [
            "/usr/local/lib/python3.6/dist-packages/aguaclara/core/physchem.py:184: UserWarning: radius_hydraulic is deprecated; use radius_hydraulic_rect instead.\n",
            "  'instead.', UserWarning)\n"
          ],
          "name": "stderr"
        }
      ]
    },
    {
      "cell_type": "markdown",
      "metadata": {
        "id": "vJIhr2XBw2cH"
      },
      "source": [
        "El vena contracta para una esquina en el canal es 0.62\n",
        "$$K_e = \\left( \\frac{A_{out}}{A_{in}} - 1 \\right)^2$$"
      ]
    },
    {
      "cell_type": "code",
      "metadata": {
        "id": "i9w9i8aUpo2Y",
        "outputId": "e5d91a5c-5bc9-4245-fc82-7f97c13da257",
        "colab": {
          "base_uri": "https://localhost:8080/"
        }
      },
      "source": [
        "Canal_esquina_Ke = (1/0.62 - 1)**2\n",
        "print('La coeficiente de perdida de una esquina es', ac.round_sig_figs(Canal_esquina_Ke,2))"
      ],
      "execution_count": 18,
      "outputs": [
        {
          "output_type": "stream",
          "text": [
            "La coeficiente de perdida de una esquina es 0.38\n"
          ],
          "name": "stdout"
        }
      ]
    },
    {
      "cell_type": "markdown",
      "metadata": {
        "id": "ZGlQyeM4qmQN"
      },
      "source": [
        "Las esquinas no deben ser tan mal. Por eso tengo la duda que tal vez donde se reune los dos canales alli el canal no es suficiente ancho y por eso hay altas perdidas alli. Vale la pena averiguar donde estan las perdidas para saber la major manera de resolver el problema.\n",
        "\n",
        "## Opciones para mantener los nivels funcionando entre tanque de sedimentacion y filtros\n",
        "\n",
        "Segun los calculos la mayoria de la perdida esta por esquinas, pero falta datos para asegurar eso.\n",
        "\n",
        "\n",
        "1.   Aumentar el vertedero de salida del tanque de sedimentacion y la pared entre agua floculada y agua sedimentada\n",
        "1.   Bajar el nivel de los vertederos entrando a los filtros\n",
        "1.   Reducir las perdidas en el canal\n",
        "    1. ampliar el canal conector especialmente donde los dos canales conectores reunen\n"
      ]
    },
    {
      "cell_type": "markdown",
      "metadata": {
        "id": "XT0EkPO90rxI"
      },
      "source": [
        "# Trash rack analysis"
      ]
    },
    {
      "cell_type": "code",
      "metadata": {
        "id": "tZsPSeSD0vyq",
        "outputId": "9660a85a-840f-4a57-e031-b37e2b024ee8",
        "colab": {
          "base_uri": "https://localhost:8080/"
        }
      },
      "source": [
        "Q=60 * u.L/u.s\n",
        "etW = 63 * u.cm - 8 * u.cm\n",
        "trashH = 1 * u.m\n",
        "holeD = 0.25 * u.inch\n",
        "holeS = etW/54\n",
        "\n",
        "porosity = (ac.area_circle(holeD)/holeS**2).to(u.dimensionless)\n",
        "print(porosity)\n",
        "\n",
        "openPI = 0.55\n",
        "\n",
        "venacontracta = 0.62\n",
        "contractedV = (Q/(etW * trashH * porosity*venacontracta * openPI)).to(u.m/u.s)\n",
        "print(contractedV)\n",
        "TrashHL = (contractedV**2/(2*u.gravity)).to(u.cm)\n",
        "print(TrashHL)"
      ],
      "execution_count": 19,
      "outputs": [
        {
          "output_type": "stream",
          "text": [
            "0.3053 dimensionless\n",
            "1.048 meter / second\n",
            "5.599 centimeter\n"
          ],
          "name": "stdout"
        }
      ]
    },
    {
      "cell_type": "markdown",
      "metadata": {
        "id": "jt4_55G9Z6zr"
      },
      "source": [
        "Minimum trash rack area\n",
        "\n",
        "$\\phi$ = fraction of clean trash rack that is open\n",
        "\n",
        "$\\Pi_{vc}$ = vena contracta coefficient\n",
        "\n",
        "$\\Pi_{clogged}$ = clogged fraction of the trash rack\n",
        "\n",
        "\n",
        "\n",
        "$$ Q = (1-\\Pi_{clogged})\\Pi_{vc} \\phi A\\sqrt{2gh}$$\n",
        "\n",
        "Solve for the area\n",
        "\n",
        "$$ A = \\frac{Q}{(1-\\Pi_{clogged})\\Pi_{vc} \\phi \\sqrt{2gh}}$$\n",
        "\n",
        "Set the fraction clogged to between 80 and 90%. Vena contracta coefficient is 0.62 for sharp edged orifices and could be 1 for round wire.\n",
        "Porosity varies widely depending on the fabrication method.\n",
        "For AguaClara plants recommend a head loss of 5 cm max.\n",
        "\n",
        "Also of interest is the effective velocity taking into account the whole area of the trash rack.\n",
        "$$ v_{trashrack} = \\frac{Q}{A} = (1-\\Pi_{clogged})\\Pi_{vc} \\phi \\sqrt{2gh}$$"
      ]
    },
    {
      "cell_type": "code",
      "metadata": {
        "id": "s6jjMlEJ1bKf",
        "outputId": "18db9bc6-ca7c-4d57-d14d-1f1c0c152805",
        "colab": {
          "base_uri": "https://localhost:8080/"
        }
      },
      "source": [
        "Pi_clogged = 0.9\n",
        "venacontracta = 1\n",
        "porosity = 0.5\n",
        "HL = 5 * u.cm\n",
        "v_trashrack = ((1-Pi_clogged)*venacontracta*porosity * np.sqrt(2*u.gravity*HL)).to(u.mm/u.s)\n",
        "print(v_trashrack)"
      ],
      "execution_count": 20,
      "outputs": [
        {
          "output_type": "stream",
          "text": [
            "49.51 millimeter / second\n"
          ],
          "name": "stdout"
        }
      ]
    },
    {
      "cell_type": "code",
      "metadata": {
        "id": "jh8vks_-vwyF",
        "outputId": "a6a62c11-998f-47bc-aa6a-b7ae2b4ad7c3",
        "colab": {
          "base_uri": "https://localhost:8080/"
        }
      },
      "source": [
        "Q = 60 * u.L/u.s\n",
        "A = (Q/v_trashrack).to(u.m**2)\n",
        "print(A)\n"
      ],
      "execution_count": 21,
      "outputs": [
        {
          "output_type": "stream",
          "text": [
            "1.212 meter ** 2\n"
          ],
          "name": "stdout"
        }
      ]
    },
    {
      "cell_type": "code",
      "metadata": {
        "id": "cwGu1O9BwXoB"
      },
      "source": [
        ""
      ],
      "execution_count": 21,
      "outputs": []
    }
  ]
}