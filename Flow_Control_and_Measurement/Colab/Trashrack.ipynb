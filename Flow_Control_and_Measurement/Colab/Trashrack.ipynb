﻿{
  "nbformat": 4,
  "nbformat_minor": 0,
  "metadata": {
    "colab": {
      "name": "Trashrack.ipynb",
      "provenance": [],
      "collapsed_sections": [],
      "include_colab_link": true
    },
    "kernelspec": {
      "display_name": "Python 3",
      "language": "python",
      "name": "python3"
    },
    "language_info": {
      "codemirror_mode": {
        "name": "ipython",
        "version": 3
      },
      "file_extension": ".py",
      "mimetype": "text/x-python",
      "name": "python",
      "nbconvert_exporter": "python",
      "pygments_lexer": "ipython3",
      "version": "3.7.3"
    }
  },
  "cells": [
    {
      "cell_type": "markdown",
      "metadata": {
        "id": "view-in-github",
        "colab_type": "text"
      },
      "source": [
        "<a href=\"https://colab.research.google.com/github/AguaClara/Textbook/blob/sed_design_from_floc/Flow_Control_and_Measurement/Colab/Trashrack.ipynb\" target=\"_parent\"><img src=\"https://colab.research.google.com/assets/colab-badge.svg\" alt=\"Open In Colab\"/></a>"
      ]
    },
    {
      "cell_type": "code",
      "metadata": {
        "id": "TLU4XcGlz593",
        "outputId": "0717181e-c1f8-4d46-9e94-140ba3c4d2de",
        "colab": {
          "base_uri": "https://localhost:8080/"
        }
      },
      "source": [
        "!pip install aguaclara"
      ],
      "execution_count": null,
      "outputs": [
        {
          "output_type": "stream",
          "text": [
            "Collecting aguaclara\n",
            "\u001b[?25l  Downloading https://files.pythonhosted.org/packages/e2/22/0a3989c294e07a8feb0b2ac55cb631ad2592b3c1f12a0792e3e6337d5ab5/aguaclara-0.2.6.tar.gz (89kB)\n",
            "\u001b[K     |████████████████████████████████| 92kB 2.4MB/s \n",
            "\u001b[?25hRequirement already satisfied: matplotlib in /usr/local/lib/python3.6/dist-packages (from aguaclara) (3.2.2)\n",
            "Requirement already satisfied: urllib3 in /usr/local/lib/python3.6/dist-packages (from aguaclara) (1.24.3)\n",
            "Collecting pint\n",
            "\u001b[?25l  Downloading https://files.pythonhosted.org/packages/5f/0e/dd4fb17aed6bfbc168fd767cffb6ec20b634009b75fd8ea699ea244bff3c/Pint-0.16.1-py2.py3-none-any.whl (205kB)\n",
            "\u001b[K     |████████████████████████████████| 215kB 8.4MB/s \n",
            "\u001b[?25hRequirement already satisfied: pandas in /usr/local/lib/python3.6/dist-packages (from aguaclara) (1.1.4)\n",
            "Requirement already satisfied: scipy in /usr/local/lib/python3.6/dist-packages (from aguaclara) (1.4.1)\n",
            "Requirement already satisfied: kiwisolver>=1.0.1 in /usr/local/lib/python3.6/dist-packages (from matplotlib->aguaclara) (1.3.1)\n",
            "Requirement already satisfied: python-dateutil>=2.1 in /usr/local/lib/python3.6/dist-packages (from matplotlib->aguaclara) (2.8.1)\n",
            "Requirement already satisfied: numpy>=1.11 in /usr/local/lib/python3.6/dist-packages (from matplotlib->aguaclara) (1.18.5)\n",
            "Requirement already satisfied: cycler>=0.10 in /usr/local/lib/python3.6/dist-packages (from matplotlib->aguaclara) (0.10.0)\n",
            "Requirement already satisfied: pyparsing!=2.0.4,!=2.1.2,!=2.1.6,>=2.0.1 in /usr/local/lib/python3.6/dist-packages (from matplotlib->aguaclara) (2.4.7)\n",
            "Requirement already satisfied: packaging in /usr/local/lib/python3.6/dist-packages (from pint->aguaclara) (20.4)\n",
            "Requirement already satisfied: importlib-resources; python_version < \"3.7\" in /usr/local/lib/python3.6/dist-packages (from pint->aguaclara) (3.3.0)\n",
            "Requirement already satisfied: importlib-metadata; python_version < \"3.8\" in /usr/local/lib/python3.6/dist-packages (from pint->aguaclara) (2.0.0)\n",
            "Requirement already satisfied: pytz>=2017.2 in /usr/local/lib/python3.6/dist-packages (from pandas->aguaclara) (2018.9)\n",
            "Requirement already satisfied: six>=1.5 in /usr/local/lib/python3.6/dist-packages (from python-dateutil>=2.1->matplotlib->aguaclara) (1.15.0)\n",
            "Requirement already satisfied: zipp>=0.4; python_version < \"3.8\" in /usr/local/lib/python3.6/dist-packages (from importlib-resources; python_version < \"3.7\"->pint->aguaclara) (3.4.0)\n",
            "Building wheels for collected packages: aguaclara\n",
            "  Building wheel for aguaclara (setup.py) ... \u001b[?25l\u001b[?25hdone\n",
            "  Created wheel for aguaclara: filename=aguaclara-0.2.6-cp36-none-any.whl size=101373 sha256=2fe09718d2855919107a400aa1b6e3d5ea22879e28149b0d480b080aff79eb8b\n",
            "  Stored in directory: /root/.cache/pip/wheels/a6/9a/d5/cab5970c57dfc0099454b36812306b976c217408b39e7a379a\n",
            "Successfully built aguaclara\n",
            "Installing collected packages: pint, aguaclara\n",
            "Successfully installed aguaclara-0.2.6 pint-0.16.1\n"
          ],
          "name": "stdout"
        }
      ]
    },
    {
      "cell_type": "code",
      "metadata": {
        "id": "A8B6wldWzniR"
      },
      "source": [
        "import aguaclara as ac\n",
        "from aguaclara.core.units import unit_registry as u\n",
        "import matplotlib.pyplot as plt\n",
        "import numpy as np"
      ],
      "execution_count": null,
      "outputs": []
    },
    {
      "cell_type": "markdown",
      "metadata": {
        "id": "XT0EkPO90rxI"
      },
      "source": [
        "# Trash rack analysis"
      ]
    },
    {
      "cell_type": "code",
      "metadata": {
        "id": "tZsPSeSD0vyq",
        "outputId": "9660a85a-840f-4a57-e031-b37e2b024ee8",
        "colab": {
          "base_uri": "https://localhost:8080/"
        }
      },
      "source": [
        "Q=60 * u.L/u.s\n",
        "etW = 63 * u.cm - 8 * u.cm\n",
        "trashH = 1 * u.m\n",
        "holeD = 0.25 * u.inch\n",
        "holeS = etW/54\n",
        "\n",
        "porosity = (ac.area_circle(holeD)/holeS**2).to(u.dimensionless)\n",
        "print(porosity)\n",
        "\n",
        "openPI = 0.55\n",
        "\n",
        "venacontracta = 0.62\n",
        "contractedV = (Q/(etW * trashH * porosity*venacontracta * openPI)).to(u.m/u.s)\n",
        "print(contractedV)\n",
        "TrashHL = (contractedV**2/(2*u.gravity)).to(u.cm)\n",
        "print(TrashHL)"
      ],
      "execution_count": null,
      "outputs": [
        {
          "output_type": "stream",
          "text": [
            "0.3053 dimensionless\n",
            "1.048 meter / second\n",
            "5.599 centimeter\n"
          ],
          "name": "stdout"
        }
      ]
    },
    {
      "cell_type": "markdown",
      "metadata": {
        "id": "jt4_55G9Z6zr"
      },
      "source": [
        "Minimum trash rack area\n",
        "\n",
        "$\\phi$ = fraction of clean trash rack that is open\n",
        "\n",
        "$\\Pi_{vc}$ = vena contracta coefficient\n",
        "\n",
        "$\\Pi_{clogged}$ = clogged fraction of the trash rack\n",
        "\n",
        "\n",
        "\n",
        "$$ Q = (1-\\Pi_{clogged})\\Pi_{vc} \\phi A\\sqrt{2gh}$$\n",
        "\n",
        "Solve for the area\n",
        "\n",
        "$$ A = \\frac{Q}{(1-\\Pi_{clogged})\\Pi_{vc} \\phi \\sqrt{2gh}}$$\n",
        "\n",
        "Set the fraction clogged to between 80 and 90%. Vena contracta coefficient is 0.62 for sharp edged orifices and could be 1 for round wire.\n",
        "Porosity varies widely depending on the fabrication method.\n",
        "For AguaClara plants recommend a head loss of 5 cm max.\n",
        "\n",
        "Also of interest is the effective velocity taking into account the whole area of the trash rack.\n",
        "$$ v_{trashrack} = \\frac{Q}{A} = (1-\\Pi_{clogged})\\Pi_{vc} \\phi \\sqrt{2gh}$$"
      ]
    },
    {
      "cell_type": "code",
      "metadata": {
        "id": "s6jjMlEJ1bKf",
        "outputId": "18db9bc6-ca7c-4d57-d14d-1f1c0c152805",
        "colab": {
          "base_uri": "https://localhost:8080/"
        }
      },
      "source": [
        "Pi_clogged = 0.9\n",
        "venacontracta = 1\n",
        "porosity = 0.5\n",
        "HL = 5 * u.cm\n",
        "v_trashrack = ((1-Pi_clogged)*venacontracta*porosity * np.sqrt(2*u.gravity*HL)).to(u.mm/u.s)\n",
        "print(v_trashrack)"
      ],
      "execution_count": null,
      "outputs": [
        {
          "output_type": "stream",
          "text": [
            "49.51 millimeter / second\n"
          ],
          "name": "stdout"
        }
      ]
    },
    {
      "cell_type": "code",
      "metadata": {
        "id": "jh8vks_-vwyF",
        "outputId": "a6a62c11-998f-47bc-aa6a-b7ae2b4ad7c3",
        "colab": {
          "base_uri": "https://localhost:8080/"
        }
      },
      "source": [
        "Q = 60 * u.L/u.s\n",
        "A = (Q/v_trashrack).to(u.m**2)\n",
        "print(A)\n"
      ],
      "execution_count": null,
      "outputs": [
        {
          "output_type": "stream",
          "text": [
            "1.212 meter ** 2\n"
          ],
          "name": "stdout"
        }
      ]
    },
    {
      "cell_type": "code",
      "metadata": {
        "id": "cwGu1O9BwXoB"
      },
      "source": [
        ""
      ],
      "execution_count": null,
      "outputs": []
    }
  ]
}