{
  "nbformat": 4,
  "nbformat_minor": 0,
  "metadata": {
    "colab": {
      "name": "Baffle_K.ipynb",
      "provenance": [],
      "authorship_tag": "ABX9TyNU2QOwxsJfx4p6yuSA3p5P",
      "include_colab_link": true
    },
    "kernelspec": {
      "name": "python3",
      "display_name": "Python 3"
    },
    "language_info": {
      "name": "python"
    }
  },
  "cells": [
    {
      "cell_type": "markdown",
      "metadata": {
        "id": "view-in-github",
        "colab_type": "text"
      },
      "source": [
        "<a href=\"https://colab.research.google.com/github/AguaClara/Textbook/blob/Filter_design/Baffle_K.ipynb\" target=\"_parent\"><img src=\"https://colab.research.google.com/assets/colab-badge.svg\" alt=\"Open In Colab\"/></a>"
      ]
    },
    {
      "cell_type": "code",
      "execution_count": 2,
      "metadata": {
        "colab": {
          "base_uri": "https://localhost:8080/"
        },
        "id": "4zU9XXp5KMKR",
        "outputId": "02482f5e-2a7d-40ad-c408-0b3830c927cf"
      },
      "outputs": [
        {
          "output_type": "stream",
          "name": "stdout",
          "text": [
            "Collecting aguaclara\n",
            "  Downloading aguaclara-0.2.10.tar.gz (94 kB)\n",
            "\u001b[K     |████████████████████████████████| 94 kB 2.1 MB/s \n",
            "\u001b[?25hRequirement already satisfied: matplotlib in /usr/local/lib/python3.7/dist-packages (from aguaclara) (3.2.2)\n",
            "Requirement already satisfied: urllib3 in /usr/local/lib/python3.7/dist-packages (from aguaclara) (1.24.3)\n",
            "Collecting pint\n",
            "  Downloading Pint-0.18-py2.py3-none-any.whl (209 kB)\n",
            "\u001b[K     |████████████████████████████████| 209 kB 28.3 MB/s \n",
            "\u001b[?25hRequirement already satisfied: pandas in /usr/local/lib/python3.7/dist-packages (from aguaclara) (1.1.5)\n",
            "Requirement already satisfied: scipy in /usr/local/lib/python3.7/dist-packages (from aguaclara) (1.4.1)\n",
            "Collecting onshape_client\n",
            "  Downloading onshape_client-1.6.3-py3-none-any.whl (2.1 MB)\n",
            "\u001b[K     |████████████████████████████████| 2.1 MB 50.4 MB/s \n",
            "\u001b[?25hRequirement already satisfied: cycler>=0.10 in /usr/local/lib/python3.7/dist-packages (from matplotlib->aguaclara) (0.11.0)\n",
            "Requirement already satisfied: kiwisolver>=1.0.1 in /usr/local/lib/python3.7/dist-packages (from matplotlib->aguaclara) (1.3.2)\n",
            "Requirement already satisfied: python-dateutil>=2.1 in /usr/local/lib/python3.7/dist-packages (from matplotlib->aguaclara) (2.8.2)\n",
            "Requirement already satisfied: numpy>=1.11 in /usr/local/lib/python3.7/dist-packages (from matplotlib->aguaclara) (1.19.5)\n",
            "Requirement already satisfied: pyparsing!=2.0.4,!=2.1.2,!=2.1.6,>=2.0.1 in /usr/local/lib/python3.7/dist-packages (from matplotlib->aguaclara) (3.0.6)\n",
            "Requirement already satisfied: six>=1.5 in /usr/local/lib/python3.7/dist-packages (from python-dateutil>=2.1->matplotlib->aguaclara) (1.15.0)\n",
            "Requirement already satisfied: requests-oauthlib in /usr/local/lib/python3.7/dist-packages (from onshape_client->aguaclara) (1.3.0)\n",
            "Collecting nulltype\n",
            "  Downloading nulltype-2.3.1-py2.py3-none-any.whl (11 kB)\n",
            "Requirement already satisfied: certifi>=2017.4.17 in /usr/local/lib/python3.7/dist-packages (from onshape_client->aguaclara) (2021.10.8)\n",
            "Collecting ruamel.yaml\n",
            "  Downloading ruamel.yaml-0.17.20-py3-none-any.whl (109 kB)\n",
            "\u001b[K     |████████████████████████████████| 109 kB 62.3 MB/s \n",
            "\u001b[?25hRequirement already satisfied: pytz>=2017.2 in /usr/local/lib/python3.7/dist-packages (from pandas->aguaclara) (2018.9)\n",
            "Requirement already satisfied: importlib-metadata in /usr/local/lib/python3.7/dist-packages (from pint->aguaclara) (4.10.0)\n",
            "Requirement already satisfied: packaging in /usr/local/lib/python3.7/dist-packages (from pint->aguaclara) (21.3)\n",
            "Requirement already satisfied: zipp>=0.5 in /usr/local/lib/python3.7/dist-packages (from importlib-metadata->pint->aguaclara) (3.7.0)\n",
            "Requirement already satisfied: typing-extensions>=3.6.4 in /usr/local/lib/python3.7/dist-packages (from importlib-metadata->pint->aguaclara) (3.10.0.2)\n",
            "Requirement already satisfied: oauthlib>=3.0.0 in /usr/local/lib/python3.7/dist-packages (from requests-oauthlib->onshape_client->aguaclara) (3.1.1)\n",
            "Requirement already satisfied: requests>=2.0.0 in /usr/local/lib/python3.7/dist-packages (from requests-oauthlib->onshape_client->aguaclara) (2.23.0)\n",
            "Requirement already satisfied: idna<3,>=2.5 in /usr/local/lib/python3.7/dist-packages (from requests>=2.0.0->requests-oauthlib->onshape_client->aguaclara) (2.10)\n",
            "Requirement already satisfied: chardet<4,>=3.0.2 in /usr/local/lib/python3.7/dist-packages (from requests>=2.0.0->requests-oauthlib->onshape_client->aguaclara) (3.0.4)\n",
            "Collecting ruamel.yaml.clib>=0.2.6\n",
            "  Downloading ruamel.yaml.clib-0.2.6-cp37-cp37m-manylinux1_x86_64.whl (546 kB)\n",
            "\u001b[K     |████████████████████████████████| 546 kB 57.3 MB/s \n",
            "\u001b[?25hBuilding wheels for collected packages: aguaclara\n",
            "  Building wheel for aguaclara (setup.py) ... \u001b[?25l\u001b[?25hdone\n",
            "  Created wheel for aguaclara: filename=aguaclara-0.2.10-py3-none-any.whl size=107244 sha256=16bd63e20ee629e88b09e3c15094cfc051fb03e64f0f6c5e7a47aa1930f96995\n",
            "  Stored in directory: /root/.cache/pip/wheels/a3/12/ef/53d591c580e122cb62a84cb2180ddba9ba03bb3dc85b19285e\n",
            "Successfully built aguaclara\n",
            "Installing collected packages: ruamel.yaml.clib, ruamel.yaml, pint, nulltype, onshape-client, aguaclara\n",
            "Successfully installed aguaclara-0.2.10 nulltype-2.3.1 onshape-client-1.6.3 pint-0.18 ruamel.yaml-0.17.20 ruamel.yaml.clib-0.2.6\n"
          ]
        }
      ],
      "source": [
        "!pip install aguaclara"
      ]
    },
    {
      "cell_type": "code",
      "source": [
        "from aguaclara.core.units import unit_registry as u\n",
        "import aguaclara as ac\n",
        "import numpy as np\n",
        "import matplotlib.pyplot as plt\n",
        "import math\n",
        "import pandas as pd"
      ],
      "metadata": {
        "id": "uYutsER0Ka5W"
      },
      "execution_count": 3,
      "outputs": []
    },
    {
      "cell_type": "markdown",
      "source": [
        "$$  K_{baffle_{min}} = \\left( \\frac{A_{expanded}}{A_{contracted}} -1 \\right)^2 = \\left( \\frac{1}{\\Pi_{vc}^{baffle}} -1 \\right)^2$$\n",
        "\n",
        "$$K_{baffle_{exp}} = \\left(\\frac{\\left(1 - \\Pi_{vc}^{baffle}\\right) ^ 2}{ \\Pi_{vc}^{baffle} \\Pi_{PlaneJet_{exp}} \\left(\\Pi_{H_{e}S}-2\\right)}\\right) ^ 2$$\n",
        "\n"
      ],
      "metadata": {
        "id": "WHUonBToLJV8"
      }
    },
    {
      "cell_type": "code",
      "source": [
        "n_points = 50\n",
        "PI_HS = np.linspace(3,10,n_points)\n",
        "\n",
        "K = np.zeros(n_points)\n",
        "K_halfjet = np.zeros(n_points)\n",
        "K_shortexpansion = np.zeros(n_points)\n",
        "\n",
        "def K_baffle(PI_HS, expansionFactor, contractionFactor):\n",
        "  PI_vcBaffle = 0.62**2\n",
        "  K_min = (1/PI_vcBaffle - 1)**2\n",
        "  PI_jetexp = 0.116 * expansionFactor\n",
        "  return max(K_min,(1 - PI_vcBaffle)**4/(PI_jetexp * PI_vcBaffle * (PI_HS - contractionFactor))**2)\n",
        "\n",
        "for i in range(0, n_points):\n",
        "    K[i] = K_baffle(PI_HS[i], 1, 0)\n",
        "    K_halfjet[i] = K_baffle(PI_HS[i], 0.5, 0)\n",
        "    K_shortexpansion[i] = K_baffle(PI_HS[i], 1, 2)\n",
        "\n",
        "fig, ax = plt.subplots()\n",
        "ax.plot(PI_HS, K, 'k')\n",
        "#ax.plot(PI_HS, K_halfjet, 'b')\n",
        "#ax.plot(PI_HS, K_shortexpansion, 'r')\n",
        "ax.set(xlabel=r'$\\Pi_{H_{e}S}$')\n",
        "ax.set(ylabel='Baffle minor loss coefficient' )\n",
        "ax.set_ylim(0,8)\n",
        "#ax.legend(['base case','one sided jet expansion', 'no expansion in turns'])\n",
        "#fig.savefig('Flow_Control_and_Measurement/Images/Coagulant_Viscosity')\n",
        "plt.show()"
      ],
      "metadata": {
        "colab": {
          "base_uri": "https://localhost:8080/",
          "height": 288
        },
        "id": "eS0LTqtCKdfH",
        "outputId": "d1e43e20-a0bd-407a-ab97-72ec19bf8334"
      },
      "execution_count": 37,
      "outputs": [
        {
          "output_type": "display_data",
          "data": {
            "image/png": "[encoded data removed]",
            "text/plain": [
              "<Figure size 432x288 with 1 Axes>"
            ]
          },
          "metadata": {
            "needs_background": "light"
          }
        }
      ]
    }
  ]
}