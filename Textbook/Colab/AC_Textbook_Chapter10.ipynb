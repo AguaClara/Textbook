{
  "nbformat": 4,
  "nbformat_minor": 0,
  "metadata": {
    "colab": {
      "name": "AC_Textbook_Chapter10.ipynb",
      "provenance": [],
      "include_colab_link": true
    },
    "kernelspec": {
      "name": "python3",
      "display_name": "Python 3"
    },
    "language_info": {
      "name": "python"
    }
  },
  "cells": [
    {
      "cell_type": "markdown",
      "metadata": {
        "id": "view-in-github",
        "colab_type": "text"
      },
      "source": [
        "<a href=\"https://colab.research.google.com/github/AguaClara/Textbook/blob/master/Colab/AC_Textbook_Chapter10.ipynb\" target=\"_parent\"><img src=\"https://colab.research.google.com/assets/colab-badge.svg\" alt=\"Open In Colab\"/></a>"
      ]
    },
    {
      "cell_type": "markdown",
      "metadata": {
        "id": "idtzHXEo5cye"
      },
      "source": [
        "#Chapter 10: Filtration\n",
        "\n",
        "This is a corresponding Colab document for the tenth chapter of the AguaClara textbook."
      ]
    },
    {
      "cell_type": "code",
      "metadata": {
        "id": "iraCMmqY4sT2"
      },
      "source": [
        "!pip install aguaclara"
      ],
      "execution_count": null,
      "outputs": []
    },
    {
      "cell_type": "markdown",
      "metadata": {
        "id": "IHzWSEWP50IL"
      },
      "source": [
        "#Example: Stacked Rapid Sand Filters"
      ]
    },
    {
      "cell_type": "code",
      "metadata": {
        "id": "xAc_E3A85-ai"
      },
      "source": [
        "from aguaclara.core.units import unit_registry as u\n",
        "import numpy as np\n",
        "\n",
        "Q_Filter = 8 * u.L/u.s\n",
        "V_filter_backwash = 11 * u.mm/u.s\n",
        "A_Filter = Q_Filter/V_filter_backwash\n",
        "W_Filter = np.sqrt(A_Filter).to(u.m)\n",
        "print('The width of a filter designed to treat ',Q_Filter,' is ', W_Filter,'.')"
      ],
      "execution_count": null,
      "outputs": []
    },
    {
      "cell_type": "markdown",
      "metadata": {
        "id": "UYYwdIAq6ucL"
      },
      "source": [
        "#Filtration Theory and Future Work:\n",
        "\n"
      ]
    },
    {
      "cell_type": "markdown",
      "metadata": {
        "id": "RJ7yNfwziwvF"
      },
      "source": [
        "Floc size and velocity gradient calculations:"
      ]
    },
    {
      "cell_type": "code",
      "metadata": {
        "id": "Mlv81ZYLi1Gc"
      },
      "source": [
        "import aguaclara.core.physchem as pc\n",
        "from aguaclara.core.units import unit_registry as u\n",
        "import aguaclara.research.floc_model as fm\n",
        "import aguaclara.core.constants as co\n",
        "\n",
        "import numpy as np\n",
        "import matplotlib.pyplot as plt\n",
        "\n",
        "N_layers = 6\n",
        "v_filter_backwash = 11 * u.mm/u.s\n",
        "v_a = v_filter_backwash/N_layers\n",
        "Porosity = 0.4\n",
        "D_sand = 0.5 * u.mm\n",
        "# the following is just a guess at pore size\n",
        "D_pore = 0.2 * D_sand\n",
        "Temperature = 20 * u.degC\n",
        "L = 20 * u.cm\n",
        "Q_waterfall = 20 *u.L/u.s\n",
        "v_waterfall=(np.sqrt(co.GRAVITY*2*40*u.cm)).to(u.m/u.s)\n",
        "v_waterfall\n",
        "#use continuity to get diameter of waterfall\n",
        "D_waterfall = (np.sqrt(Q_waterfall/v_waterfall *4/np.pi)).to(u.cm)\n",
        "D_waterfall\n",
        "Pi_JetRound = 0.08\n",
        "G_Max_waterfall = (v_waterfall*np.sqrt(Pi_JetRound*v_waterfall/(pc.viscosity_kinematic(Temperature)*D_waterfall))).to(u.Hz)\n",
        "print('The maximum velocity gradient in the plunging jet in the filter inlet box is ',G_Max_waterfall,'.')\n",
        "# now estimate the size of this floc\n",
        "EDR_waterfall = (G_Max_waterfall**2*pc.viscosity_kinematic(Temperature)).to(u.mW/u.kg)\n",
        "EDR_waterfall\n",
        "\n",
        "\n",
        "\n",
        "# Calculate maximum diameter of flocs leaving the clarifier\n",
        "D_floc= fm.diam_floc_vel_term(0*u.mg/u.L,10*u.mg/u.L,fm.PACl,fm.Clay,fm.DIM_FRACTAL, 0.12*u.mm/u.s,20*u.degC)\n",
        "print('The maximum diameter of flocs leaving the clarifier is',D_floc.to(u.um),'.')\n",
        "\n",
        "v_graph = np.linspace(0.1, 100, 500) * u.mm/u.s\n",
        "\n",
        "fig, ax = plt.subplots()\n",
        "ax.plot(v_graph,(pc.headloss_ergun(v_graph, D_sand, Temperature, Porosity, L)/L).to(u.dimensionless),'-')\n",
        "ax.set(xlabel='approach velocity (mm/s)')\n",
        "ax.set(ylabel='head loss per m')\n",
        "plt.show()"
      ],
      "execution_count": null,
      "outputs": []
    },
    {
      "cell_type": "code",
      "metadata": {
        "id": "g4nn81gGi9aS"
      },
      "source": [
        "# Need to use a root finding method here because f_phi is a function of velocity\n",
        "# Will use a graphical solution for now\n",
        "\n",
        "fig, ax = plt.subplots()\n",
        "ax.plot(v_graph,pc.g_cs_ergun(v_graph, D_sand, Temperature, Porosity),'-')\n",
        "ax.set(xlabel='approach velocity (mm/s)')\n",
        "ax.set(ylabel='velocity gradient (Hz)')\n",
        "plt.show()"
      ],
      "execution_count": null,
      "outputs": []
    },
    {
      "cell_type": "code",
      "metadata": {
        "id": "KqQCyZaZjBJm"
      },
      "source": [
        "#from the graph above we'd need an approach velocity of about 80 mm/s to achieve a G of 10,000 Hz.\n",
        "v_inject = 80*u.mm/u.s\n",
        "(v_inject/v_a).to(u.dimensionless)\n",
        "injection_port_spacing = 10 * u.cm\n",
        "injection_port_width =     (injection_port_spacing/(v_inject/v_a)).to(u.mm)\n",
        "print('The injection port width would be ',injection_port_width,'.')\n",
        "print('The injection velocity would be ',v_inject.to(u.mm/u.s),'.')"
      ],
      "execution_count": null,
      "outputs": []
    },
    {
      "cell_type": "code",
      "metadata": {
        "id": "PF8v34hSjJtx"
      },
      "source": [
        "#This is for an inlet that serves 2 layers (up and down)\n",
        "v_filter = (11 * u.mm/u.s)/N_layers*2\n",
        "S_branch = 10 * u.cm\n",
        "v0 = 80 * u.mm/u.s\n",
        "r0 = (2*v_filter/v0 * S_branch/(2*np.pi)).to(u.mm)\n",
        "r0\n",
        "\n",
        "#create coefficients for the constant terms in the equation\n",
        "a0 = v0 * r0 /(2*co.GRAVITY*D_sand)\n",
        "a1 = (300*pc.viscosity_kinematic_water(Temperature)*(1-Porosity)**2)/(D_sand*Porosity**3)\n",
        "a2 = 3.5*(1-Porosity)* v0 * r0/Porosity**3\n",
        "r1 = S_branch/(2*np.pi)\n",
        "r1\n",
        "#create an array of r values with each value centered in the ring that it represents. #We will use simple r_array.to_base_units()\n",
        "n_points = 10000 #np.multiply(r_array.to_base_units(),r_array.to_base_units()))\n",
        "dr = ((r1-r0)/(n_points)).to(u.mm)\n",
        "r_array = np.linspace((r0).to(u.mm),(r1).to(u.mm),n_points)\n",
        "y_array = (a0*(np.divide(a1,r_array) + np.divide(a2,np.multiply(r_array,r_array)))).to(u.dimensionless)#Use the trapezoidal rule to integrate\n",
        "#need to reattach units to np.trapz.\n",
        "hf_inlet = np.trapz(y_array,x=r_array, dx = dr).magnitude\n",
        "print('The head loss through the sand between the injection point and where it reaches the filtration velocity is ', hf_inlet * (1/10) * (u.cm))"
      ],
      "execution_count": null,
      "outputs": []
    },
    {
      "cell_type": "markdown",
      "metadata": {
        "id": "EpZ0bYSJjaeX"
      },
      "source": [
        "#Filtration Design Solution:"
      ]
    },
    {
      "cell_type": "markdown",
      "metadata": {
        "id": "2PD3JJiFjdww"
      },
      "source": [
        "DC Stacked Rapid Sand Filtration:"
      ]
    },
    {
      "cell_type": "code",
      "metadata": {
        "id": "hTiLSh4XjiAt"
      },
      "source": [
        "import aguaclara.core.physchem as pc\n",
        "from aguaclara.core.units import unit_registry as u\n",
        "import aguaclara.research.floc_model as fm\n",
        "import aguaclara.core.constants as co\n",
        "\n",
        "import numpy as np\n",
        "import matplotlib.pyplot as plt"
      ],
      "execution_count": null,
      "outputs": []
    },
    {
      "cell_type": "code",
      "metadata": {
        "id": "F6PVT-H8jj6W"
      },
      "source": [
        "flow_plant = 12 * u.L / u.s\n",
        "density_sand = 2650 * u.kg / u.m**3\n",
        "k_Kozeny = 5\n",
        "H_filter_layer = 20 * u.cm\n",
        "N_filter_layer = 6\n",
        "\n",
        "\n",
        "#We will use 20 deg C as the typical operating temperature. Honduras is quite warm.\n",
        "T_design = 20*u.degC\n",
        "\n",
        "\n",
        "# Notes on Uniformity Coefficient and Effective size from http://www.clean-water-for-laymen.com/sand-sieve.html\n",
        "\n",
        "#Effective Size (ES) – This is defined as the size of screen opening that will pass 10% of the sand sample (see more explanation below)\n",
        "#Uniformity Coefficient (UC) – This is defined as a ratio and is calculated as the size opening that will just pass 60% of the sand (d60 value) divided by the size opening that will just pass 10% of the sand sample (d10 value).\n",
        "#ES is basically a value describing the average size of sand grains in a sand sample.\n",
        "#UC is basically a value describing the range of grain sizes present in a sample\n",
        "\n",
        "D_filter_sand_ES = 0.5 * u.mm\n",
        "UC_filter_sand = 1.6\n",
        "porosity_filter_sand = 0.4\n",
        "V_filter_backwash = 11 * u.mm / u.s"
      ],
      "execution_count": null,
      "outputs": []
    },
    {
      "cell_type": "markdown",
      "metadata": {
        "id": "53eAo1FPjo8B"
      },
      "source": [
        "1) Calculate the total sand depth of all 6 sand layers:"
      ]
    },
    {
      "cell_type": "code",
      "metadata": {
        "id": "13aD7DhDjs-V"
      },
      "source": [
        "H_filter_sand_total = (H_filter_layer * N_filter_layer).to(u.m)\n",
        "print('The total depth of the filter sand is', H_filter_sand_total,'.')"
      ],
      "execution_count": null,
      "outputs": []
    },
    {
      "cell_type": "markdown",
      "metadata": {
        "id": "V0ZK3HuRjwN6"
      },
      "source": [
        "2) Calculate the diameter that is larger than 60% of the sand (D60 of the filter sand)."
      ]
    },
    {
      "cell_type": "code",
      "metadata": {
        "id": "DQ2OyZQVj0Wy"
      },
      "source": [
        "D60_filter_sand = D_filter_sand_ES * UC_filter_sand\n",
        "print('The D60 for the sand grain size is', D60_filter_sand,'.')"
      ],
      "execution_count": null,
      "outputs": []
    },
    {
      "cell_type": "markdown",
      "metadata": {
        "id": "C-sMeJtyj3lk"
      },
      "source": [
        "3) What is the total filter bed plan view area for both filters in Tamara?"
      ]
    },
    {
      "cell_type": "code",
      "metadata": {
        "id": "iM-n546Pj8N3"
      },
      "source": [
        "A_filter_total = (flow_plant / V_filter_backwash).to(u.m**2)\n",
        "print('The filter bed plan view area is ',A_filter_total,'.')"
      ],
      "execution_count": null,
      "outputs": []
    },
    {
      "cell_type": "markdown",
      "metadata": {
        "id": "HJnKk4dhj-B4"
      },
      "source": [
        "4) What is the velocity of water through a filter during filtration? Recall that the flow through the filter is the same in filter and backwash modes."
      ]
    },
    {
      "cell_type": "code",
      "metadata": {
        "id": "zSB4eZTikBPi"
      },
      "source": [
        "V_filter = V_filter_backwash / N_filter_layer\n",
        "print('The filtration velocity is', V_filter,'.')"
      ],
      "execution_count": null,
      "outputs": []
    },
    {
      "cell_type": "markdown",
      "metadata": {
        "id": "DhVYzRFAkC6R"
      },
      "source": [
        "5) Create a function to calculate the head loss through the filter at the beginning of filtration with a clean filter bed. Then use that function to find the head loss through the clean bed of the Tamara filter. Assume that each flow path receives the same flow.\n",
        "\n",
        "Recall: - If you have flow paths in parallel, the head loss is NOT the sum of the head loss in each path. - Instead, the head loss in each path is the same as the total head loss."
      ]
    },
    {
      "cell_type": "code",
      "metadata": {
        "id": "3W9UXgKVkG1f"
      },
      "source": [
        "def headloss_kozeny(PorosityFilterSand, D60_filter_sand, VelocityFilter, DepthFilter):\n",
        "\n",
        "    return (36*k_Kozeny*((1 - PorosityFilterSand)**2 / PorosityFilterSand**3) * (\n",
        "            pc.viscosity_kinematic_water(T_design) * VelocityFilter)/(co.GRAVITY * D_filter_sand_ES**2)* DepthFilter).to(u.cm)\n",
        "\n",
        "hl_filter_clean = headloss_kozeny(porosity_filter_sand, D60_filter_sand, V_filter, H_filter_layer)\n",
        "print('The headloss through the clean filter sand is', hl_filter_clean,'.')"
      ],
      "execution_count": null,
      "outputs": []
    },
    {
      "cell_type": "markdown",
      "metadata": {
        "id": "qbAjBzv4kKEy"
      },
      "source": [
        "6) Create a function to estimate the minimum fluidization velocity for this filter bed. Then use that function to find the minimum fluidization velocity of the Tamara filter. Fluidization occurs at the beginning of backwash as all of the water flows through the bottom inlet. Note that this is not the actual velocity used for backwashing the sand."
      ]
    },
    {
      "cell_type": "code",
      "metadata": {
        "id": "I371vnWukNyl"
      },
      "source": [
        "def velocity_backwash_min(porosity_sand, D60_filter_sand,T):\n",
        "    return ((porosity_sand**3 * co.GRAVITY * D60_filter_sand**2) / (\n",
        "            36 * k_Kozeny * pc.viscosity_kinematic_water(T) * (1 - porosity_sand)) * (\n",
        "            density_sand / pc.density_water(T)-1)).to(u.mm/u.s)\n",
        "\n",
        "print('The minimum fluidization velocity for this filter bed is', velocity_backwash_min(porosity_filter_sand, D60_filter_sand,T_design),'.')"
      ],
      "execution_count": null,
      "outputs": []
    },
    {
      "cell_type": "markdown",
      "metadata": {
        "id": "xrslNO2UkQJY"
      },
      "source": [
        "7) First, plot the minimum backwash velocity as a function of water temperature from 0°C to 30°C. Then use your plot to answer the following question: if you have a water treatment plant with a single filter and there is a drought that is reducing flow to the plant, when should you backwash the filter? Should you backwash when the water is coolest or when the water is warmest?"
      ]
    },
    {
      "cell_type": "code",
      "metadata": {
        "id": "cLWw4SvhkT0U"
      },
      "source": [
        "T_graph=np.linspace(0,30,50)*u.degC\n",
        "ypoints = velocity_backwash_min(porosity_filter_sand, D60_filter_sand,T_graph)\n",
        "fig, ax = plt.subplots()\n",
        "ax.plot(T_graph,ypoints,'-')\n",
        "\n",
        "ax.set(xlabel=r'Temperature (°C)')\n",
        "ax.set(ylabel='Minimum backwash velocity')\n",
        "plt.show()"
      ],
      "execution_count": null,
      "outputs": []
    },
    {
      "cell_type": "markdown",
      "metadata": {
        "id": "bWHqMsNLkV7x"
      },
      "source": [
        "8) What is the residence time of water in the filter during backwash, when the bed is fluidized? You may assume the sand bed expansion ratio is 1.3."
      ]
    },
    {
      "cell_type": "code",
      "metadata": {
        "id": "G3br_Q8CkZGv"
      },
      "source": [
        "Pi_filter_backwash_expansion = 1.3\n",
        "t_res_filter_backwash = ((porosity_filter_sand * H_filter_sand_total + (\n",
        "                            Pi_filter_backwash_expansion - 1) * H_filter_sand_total\n",
        "                           ) / V_filter_backwash).to(u.s)\n",
        "\n",
        "\n",
        "print('The residence time in the fluidized bed during backwash is', t_res_filter_backwash,'.')"
      ],
      "execution_count": null,
      "outputs": []
    },
    {
      "cell_type": "markdown",
      "metadata": {
        "id": "wbtDqvhikdY4"
      },
      "source": [
        "9) Our next overall goal is to determine the ratio of water wasted in a Stacked Rapid Sand (StaRS) Filter to water treated in a StaRS. Given that the backwash water that ends up above the filter bed never returns to the filter it isn’t necessary to completely clear the water above the filter bed during a backwash cycle. Therefore we anticipate that backwash can be ended after approximately 3 expanded bed residence times. In addition it takes about 1 minute to initiate backwash by lowering the water level above the filter bed.\n",
        "\n",
        "To start, estimate the time between beginning backwash and finishing the cleaning of the bed."
      ]
    },
    {
      "cell_type": "code",
      "metadata": {
        "id": "4KIv2OZMkjQt"
      },
      "source": [
        "t_filter_backwash_drain = 1 * u.min\n",
        "t_filter_backwash = (t_res_filter_backwash * 3 + t_filter_backwash_drain).to(u.s)\n",
        "\n",
        "print('The time to backwash the filter is', t_filter_backwash,'.')"
      ],
      "execution_count": null,
      "outputs": []
    },
    {
      "cell_type": "markdown",
      "metadata": {
        "id": "4jMKSrJBkmTy"
      },
      "source": [
        "10) Estimate the total depth of water that is wasted while backwash is occuring."
      ]
    },
    {
      "cell_type": "code",
      "metadata": {
        "id": "QAudW_F3krtL"
      },
      "source": [
        "H_filter_backwash_water = (V_filter_backwash * t_filter_backwash).to(u.m)\n",
        "\n",
        "print('The total depth of water that is wasted is', H_filter_backwash_water,'.')"
      ],
      "execution_count": null,
      "outputs": []
    },
    {
      "cell_type": "markdown",
      "metadata": {
        "id": "xZNbPfiFkut-"
      },
      "source": [
        "11) Estimate the total depth of water that is lost due to refilling the filter box at the end of backwash plus the slow refilling to the maximum dirty bed height. You may ignore the influence of plumbing head loss and you may assume that the dirty bed head loss is about 40 cm. The water level in the filter during backwash is lower than the water level at the end of filtration by both the head loss during backwash AND the head loss at the end of filtration. There is also an additional 20 cm of lost water that is required for the hydraulic controls."
      ]
    },
    {
      "cell_type": "code",
      "metadata": {
        "id": "wMYPt-XLkzMA"
      },
      "source": [
        "hl_filter_final = 40 * u.cm\n",
        "H_hydraulic_controls = 20*u.cm\n",
        "H_filter_backwash_water_refill = H_filter_sand_total + H_hydraulic_controls + hl_filter_final\n",
        "\n",
        "print('The total depth of water that is lost due to refilling the filter box is', H_filter_backwash_water_refill)"
      ],
      "execution_count": null,
      "outputs": []
    },
    {
      "cell_type": "markdown",
      "metadata": {
        "id": "fup41bU-k15r"
      },
      "source": [
        "12) Now calculate the total length (or depth) of water that is wasted due to backwash by adding the two previous lengths. The length found in problem 10 represents water wasted while backwash is occurring, while the length in problem 11 represents the water lost in the transition to and from backwash."
      ]
    },
    {
      "cell_type": "code",
      "metadata": {
        "id": "jvCvZWB9k45v"
      },
      "source": [
        "H_filter_backwash_water_wasted = H_filter_backwash_water + H_filter_backwash_water_refill\n",
        "print('The depth of the water that is wasted due to backwash is', H_filter_backwash_water_wasted)"
      ],
      "execution_count": null,
      "outputs": []
    },
    {
      "cell_type": "markdown",
      "metadata": {
        "id": "iGUJCm3Xk77x"
      },
      "source": [
        "13) Assume that the filter is backwashed every 12 hours. This means that the filter is producing clean water for 12 hours before it need to be backwashed. What is the total height (or length) of water that would be treated by the filter during this time? This length when multiplied by the area of the filter would give the total volume of water processed by a filter."
      ]
    },
    {
      "cell_type": "code",
      "metadata": {
        "id": "E1yHTQwwk-8f"
      },
      "source": [
        "t_filter_cycle = 12 * u.hr\n",
        "H_water_filtered_per_cycle = (t_filter_cycle * V_filter_backwash).to(u.m)\n",
        "print('The height of water that would enter the filter in 12 hours is', H_water_filtered_per_cycle)"
      ],
      "execution_count": null,
      "outputs": []
    },
    {
      "cell_type": "markdown",
      "metadata": {
        "id": "zUaIJtT9lCH8"
      },
      "source": [
        "14) Finally, what is the ratio of water lost due to backwash and related water level changes in the filter box to water treated?"
      ]
    },
    {
      "cell_type": "code",
      "metadata": {
        "id": "ftRvIVVLlFIi"
      },
      "source": [
        "Pi_water_wasted = (H_filter_backwash_water_wasted / H_water_filtered_per_cycle)\n",
        "print('The fraction of the total water that is lost due to backwash is', Pi_water_wasted)"
      ],
      "execution_count": null,
      "outputs": []
    },
    {
      "cell_type": "markdown",
      "metadata": {
        "id": "hEhHqKNIlIcy"
      },
      "source": [
        "15) Now we will evaluate the very first data set from a full scale SRSF. The performance data given below is the settled water turbidity and then the filtered water turbidity during one filter run. The time step is 5 minutes. Plot pC* for the filter as well as effluent turbidity as a function of time on two separate graphs."
      ]
    },
    {
      "cell_type": "code",
      "metadata": {
        "id": "-I-OQ1YflL87"
      },
      "source": [
        "filter_influent = np.array([7.06201,7.14465,7.00537,6.33032,5.4502,4.98511,4.64221,4.23853,3.93707,3.72717,3.67126,3.55866,3.55292,3.45593,3.48163,3.50226,3.45093,3.50232,3.41095,3.55341,3.46643,3.50732,3.49146,3.51208,3.487,3.58893,3.54315,3.61469,3.58429,3.55835,3.72723,3.7829,3.74201,3.82398,3.74725,3.83423,3.72717,3.72705,3.87079,3.77338,3.70148,3.74762,3.76227,3.58875,3.63477,3.67566,3.52789,3.59296,3.66577,3.51709,3.63965,3.57843,3.47546,3.66016,3.58386,3.53259,3.57886,3.51392,3.63983,3.64972,3.64606,3.49121,3.51691,3.5119,3.61414,3.5835,3.46558,3.63965,3.60962,3.50147,3.51678,3.46039,3.49133,3.48566,3.50104,3.5943,3.47778,3.53766,3.55811,3.50635,3.42535,3.48077,3.54242,3.55274,3.59369,3.48596,3.53296,3.51746,3.45056,3.59387,3.5426,4.26868,3.99201,3.45569,3.86975,3.54407,3.49097,3.9823,3.58325,3.77789,3.70111,3.59839,4.09424,3.56769,3.83325,3.76019,3.49121,4.52917,3.63037,4.21228,3.60858,4.72827,4.00757,3.71674,3.87647,3.8288,3.44067,3.74219,3.64941,3.87439,3.79327,4.10486,4.16638,3.84418,4.11792,3.46082,3.71661,3.5061,3.48596,4.42175,3.57806,4.01294,3.63965,3.80408,3.60431,3.67572,3.61981,3.66022,3.67554,3.46076,3.72669,3.56287,3.66003,3.60004,3.4812,3.55823,6.19641,3.74146,3.88025,4.18713,4.27881,3.6496,3.45111,3.8656,3.90106,3.68597,3.66101,3.88513,3.74652,3.70123,3.79828,3.84369,3.59418,3.60968,3.49127,3.45081,3.40424,3.35852,3.32788,3.29211,3.21008,3.79279,])*u.NTU\n",
        "filter_effluent = np.array([0.926376,0.645981,0.69725,0.625855,0.600449,0.472694,0.381546,0.340439,0.309883,0.289848,0.27813,0.254097,0.249432,0.253769,0.203117,0.253891,0.34063,0.223385,0.365952,0.264389,0.259193,0.340576,0.279671,0.309776,0.304878,0.279404,0.299896,0.340294,0.25399,0.350731,0.34053,0.487877,0.391518,0.309715,0.360901,0.442352,0.30967,0.391251,0.457253,0.447685,0.386322,0.549149,0.33036,0.426437,0.513458,0.279022,0.462692,0.589768,0.381073,0.532669,0.538529,0.350472,0.559036,0.51828,0.462578,0.594772,0.47242,0.538681,0.605087,0.402168,0.538818,0.66658,0.447243,0.574585,0.691544,0.513382,0.655701,0.655884,0.605408,0.666153,0.599976,0.651047,0.702515,0.92572,0.90535,0.732117,0.605026,0.849335,0.691925,0.584976,0.803314,0.783569,0.706787,0.783066,0.640701,0.732269,0.803497,0.625458,0.625687,1.00089,1.03265,1.00687,0.834213,0.732224,0.859665,0.559174,1.08862,0.93634,0.722717,0.966141,1.03278,0.890366,0.874756,0.813675,0.864746,0.874863,0.625504,0.874847,0.889893,0.931473,0.880112,1.30231,0.813965,0.961502,0.966324,0.839432,0.889969,0.930618,1.20074,0.93631,0.951584,0.78331,0.961609,0.996796,0.940994,0.966675,1.04788,0.951645,0.966888,1.01251,0.96167,1.0076,0.900436,0.996628,1.12949,0.910263,1.03256,1.04788,0.997604,1.05817,1.05801,1.06311,1.05805,1.00711,1.05811,1.11896,1.06299,1.07318,0.966049,1.07343,1.09918,1.15497,1.07303,1.13937,1.12402,1.155,1.15436,1.2056,1.14954,1.17526,1.15457,1.20569,1.17517,1.0376,0.915253,0.935471,0.884979,0.89035,0.940781,0.885071,0.874817,0.828796])*u.NTU\n",
        "\n",
        "\n",
        "t_delta = 5 * u.min\n",
        "t_end = np.shape(filter_effluent)[0]\n",
        "t_data = np.arange(0,t_end)*t_delta\n",
        "c_dim = np.divide(filter_effluent,filter_influent)\n",
        "filter_pc = -np.log10(c_dim)\n",
        "fig, ax = plt.subplots()\n",
        "ax.plot(t_data.to(u.hour),filter_pc)\n",
        "ax.set(xlabel='Filter run time (hrs)')\n",
        "ax.set(ylabel='pC*')\n",
        "plt.show()\n",
        "\n",
        "fig, ax = plt.subplots()\n",
        "ax.plot(t_data.to(u.hour),filter_effluent)\n",
        "ax.set(xlabel='Filter run time (hrs)')\n",
        "ax.set(ylabel='Effluent turbidity (NTU)')\n",
        "plt.show()"
      ],
      "execution_count": null,
      "outputs": []
    },
    {
      "cell_type": "markdown",
      "metadata": {
        "id": "aa_Q-AvElTVI"
      },
      "source": [
        "16) How many kg of suspended solids per square meter of filter were removed during this filter run. Use the plan view area for the filter (don’t multiply by the number of layers)"
      ]
    },
    {
      "cell_type": "code",
      "metadata": {
        "id": "cT0s6pXYlWWm"
      },
      "source": [
        "M_filter_solids = (np.sum((filter_influent - filter_effluent) * (\n",
        "                    flow_plant * t_delta)/ A_filter_total)\n",
        "                     ).to(u.kg/u.m**2)\n",
        "\n",
        "print('The mass of the suspended solids removed is', M_filter_solids)"
      ],
      "execution_count": null,
      "outputs": []
    },
    {
      "cell_type": "markdown",
      "metadata": {
        "id": "cM1iBdFklY4S"
      },
      "source": [
        "17) Another useful way to express the solids capacity of the filter is to calculate the turbidity removed the run time and then express the results with units of NTU hrs. What was the capacity of the filter in NTU hrs?"
      ]
    },
    {
      "cell_type": "code",
      "metadata": {
        "id": "SaSPisiGlbUx"
      },
      "source": [
        "solids_capacity_filter = (np.sum((filter_influent-filter_effluent) * t_delta)).to(u.NTU * u.hr)\n",
        "\n",
        "\n",
        "print('The filter capacity is',solids_capacity_filter,)"
      ],
      "execution_count": null,
      "outputs": []
    },
    {
      "cell_type": "markdown",
      "metadata": {
        "id": "h3k5QYiGleJA"
      },
      "source": [
        "18) How long was the filter run?"
      ]
    },
    {
      "cell_type": "code",
      "metadata": {
        "id": "YMGzJLt7lioK"
      },
      "source": [
        "t_filter_cycle = t_data[np.size(t_data)-1]\n",
        "print('The filter was run for', t_filter_cycle.to(u.hour))"
      ],
      "execution_count": null,
      "outputs": []
    },
    {
      "cell_type": "markdown",
      "metadata": {
        "id": "gyTg5RkWlmv6"
      },
      "source": [
        "19) What is the total volume of pores per square meter (plan view area) of StarS filter bed (includes all 6 layers) (in L/m^2)?"
      ]
    },
    {
      "cell_type": "code",
      "metadata": {
        "id": "yZ7H6G07lsC_"
      },
      "source": [
        "volume_filter_pores = (H_filter_sand_total * porosity_filter_sand).to(u.L/u.m **2)\n",
        "print('The total volume of pores is', volume_filter_pores)"
      ],
      "execution_count": null,
      "outputs": []
    },
    {
      "cell_type": "markdown",
      "metadata": {
        "id": "1kFJ_GoDltxm"
      },
      "source": [
        "20) The next step is to estimate the volume of flocs per plan view area of the filter. Assume the density of the flocs being captured by the filter are approximated by the density of flocs that have a terminal velocity of 0.10 mm/s (slightly less than the capture velocity of the plate settlers). (see slides in flocculation notes for size of the floc and then density of that floc. I’ve provided this value below to simplify the analysis"
      ]
    },
    {
      "cell_type": "code",
      "metadata": {
        "id": "5QW7qgdHlw26"
      },
      "source": [
        "density_floc = pc.density_water(T_design) + 100 * u.kg/u.m**3\n",
        "density_clay = 2650 * u.kg/u.m**3"
      ],
      "execution_count": null,
      "outputs": []
    },
    {
      "cell_type": "code",
      "metadata": {
        "id": "IbhGFltil2nn"
      },
      "source": [
        "vol_floc = ((M_filter_solids *pc.density_water(T_design)/(density_floc-pc.density_water(T_design))) *\n",
        "            ((1/pc.density_water(T_design))-1/density_clay)).to(u.l / u.m **2)\n",
        "print('The volume of the flocs per plan view area is', vol_floc)"
      ],
      "execution_count": null,
      "outputs": []
    },
    {
      "cell_type": "markdown",
      "metadata": {
        "id": "j5hlU3mtl4I1"
      },
      "source": [
        "21) What percent of the filter pore volume is occupied by the flocs? This fraction of pore space occupied is quite small and suggests that much of the filter bed has a very low particle concentration at the end of a filter run."
      ]
    },
    {
      "cell_type": "code",
      "metadata": {
        "id": "9ZrPAB0ul7dE"
      },
      "source": [
        "Pi_flocvolume_porevolume = (vol_floc / volume_filter_pores)\n",
        "\n",
        "print('The fraction of filter pore volume that is occupied by flocs is', Pi_flocvolume_porevolume)"
      ],
      "execution_count": null,
      "outputs": []
    },
    {
      "cell_type": "markdown",
      "metadata": {
        "id": "BXmMBxOHl_TB"
      },
      "source": [
        "#Filter constriction hypothesis:"
      ]
    },
    {
      "cell_type": "code",
      "metadata": {
        "id": "OlPwd_BNmDoC"
      },
      "source": [
        "hl_filter_final = 50 * u.cm\n",
        "hl_constriction = hl_filter_final-hl_filter_clean\n",
        "\n",
        "print('The minor loss contribution is', hl_constriction)"
      ],
      "execution_count": null,
      "outputs": []
    },
    {
      "cell_type": "code",
      "metadata": {
        "id": "mTuzOAZFmFXU"
      },
      "source": [
        "vol_filter_sand_grain = D60_filter_sand**3 * np.pi/6\n",
        "vol_filter_sand_grain_and_pore = vol_filter_sand_grain / (1 - porosity_filter_sand)\n",
        "N_sand_grains = 1 /(vol_filter_sand_grain_and_pore)\n",
        "\n",
        "print('There are this many sand grains in a cubic millimeter', N_sand_grains.to(1/u.mm**3))"
      ],
      "execution_count": null,
      "outputs": []
    },
    {
      "cell_type": "code",
      "metadata": {
        "id": "Lnv-Lr3rmH26"
      },
      "source": [
        "L_grain_separation = (vol_filter_sand_grain_and_pore **(1/3)).to(u.mm)\n",
        "\n",
        "print('The distance between flow constriction is', L_grain_separation)"
      ],
      "execution_count": null,
      "outputs": []
    },
    {
      "cell_type": "code",
      "metadata": {
        "id": "vh2-U1SXmKP2"
      },
      "source": [
        "N_constriction = (H_filter_layer/L_grain_separation).to(u.dimensionless)\n",
        "\n",
        "print('A water molecule flows through', N_constriction,'constriction through the StaRS filter')"
      ],
      "execution_count": null,
      "outputs": []
    },
    {
      "cell_type": "code",
      "metadata": {
        "id": "08iP2d2zmL9z"
      },
      "source": [
        "hl_per_constriction = (hl_constriction / N_constriction).to(u.mm)\n",
        "print('The head loss per constriction is', hl_per_constriction)"
      ],
      "execution_count": null,
      "outputs": []
    },
    {
      "cell_type": "code",
      "metadata": {
        "id": "4zM3jTJNmNcp"
      },
      "source": [
        "V_pore = V_filter / porosity_filter_sand\n",
        "V_constriction = ((2 * co.GRAVITY * hl_per_constriction)**(1/2) + V_pore).to(u.mm /u.s)\n",
        "\n",
        "print('The velocity in the constriction is', V_constriction)"
      ],
      "execution_count": null,
      "outputs": []
    },
    {
      "cell_type": "code",
      "metadata": {
        "id": "IT7ymBB-mWNh"
      },
      "source": [
        "N_pore_per_area = 1 / L_grain_separation**2\n",
        "flow_per_pore = (V_filter/ N_pore_per_area).to(u.microliter/u.s)\n",
        "\n",
        "print('The flow rate through each pore is', flow_per_pore)"
      ],
      "execution_count": null,
      "outputs": []
    },
    {
      "cell_type": "code",
      "metadata": {
        "id": "1P7WvFqRma4G"
      },
      "source": [
        "Pi_vena_contracta = 0.62\n",
        "A_constriction = flow_per_pore / V_constriction/Pi_vena_contracta\n",
        "D_constriction = pc.diam_circle(A_constriction)\n",
        "print('The inner diameter of the flow constriction created by the flocs is', D_constriction.to(u.micrometer))"
      ],
      "execution_count": null,
      "outputs": []
    },
    {
      "cell_type": "code",
      "metadata": {
        "id": "6R407jBRmcPm"
      },
      "source": [
        "D_clay = 7 * u.micrometer\n",
        "\n",
        "#create an array of floc sizes from clay diameter up to the diameter of the constriction\n",
        "\n",
        "def D_floc(D_constriction):\n",
        "    return (np.linspace(D_clay.to(u.micrometer), D_constriction.to(u.micrometer)))\n",
        "\n",
        "\n",
        "#below is an estimate of the floc removal efficiency as a function of the floc size\n",
        "def c_star_constriction(D_constriction):\n",
        "    return (((D_constriction - D_floc(D_constriction))/ D_constriction)**2)\n",
        "\n",
        "c_star = c_star_constriction(D_constriction)\n",
        "fig, ax = plt.subplots()\n",
        "ax.plot(D_floc(D_constriction),c_star)\n",
        "ax.set(xlabel='Particle diameter(micrometer)')\n",
        "ax.set(ylabel='Fractional remaining')\n",
        "plt.show()"
      ],
      "execution_count": null,
      "outputs": []
    },
    {
      "cell_type": "code",
      "source": [
        ""
      ],
      "metadata": {
        "id": "IGGZjnkeR_fh"
      },
      "execution_count": null,
      "outputs": []
    },
    {
      "cell_type": "markdown",
      "metadata": {
        "id": "D90Xesr4QvKj"
      },
      "source": [
        "# Chapter 11: Hydraulics\n",
        "\n",
        "This Colab document corresponds to the eleventh chapter of the AguaClara textbook."
      ]
    },
    {
      "cell_type": "markdown",
      "metadata": {
        "id": "X5_Vhq403Kyk"
      },
      "source": [
        "#Constants Needed To Run Snippets:"
      ]
    },
    {
      "cell_type": "code",
      "metadata": {
        "id": "QKlfOMPoROA3",
        "colab": {
          "base_uri": "https://localhost:8080/"
        },
        "outputId": "fba57465-e23b-41df-d082-a823295f491a"
      },
      "source": [
        "!pip install aguaclara\n",
        "import aguaclara.core.physchem as pc\n",
        "import aguaclara.core.utility as uc\n",
        "import aguaclara.core.pipes as pp\n",
        "from aguaclara.core.units import unit_registry as u\n",
        "\n",
        "import numpy as np\n",
        "import matplotlib.pyplot as plt\n",
        "#I played with the velocity gradient to get a reasonable head loss of 50 cm.\n",
        "G_CS = 123 * u.Hz\n",
        "density_clay = 2650 * u.kg/u.m**3\n",
        "#From William's research the k for flocculator is 0.03. We need to confirm that this value is correct.\n",
        "k = 0.03\n",
        "# It isn't clear what value should be used for alpha\n",
        "alpha = 0.5\n",
        "# The following 3 values are estimates from Casey's floc blanket video.\n",
        "C_infb = 40 * u.NTU\n",
        "C_outfb = 1 * u.NTU\n",
        "t_fb = 800 * u.s\n",
        "k_fb = -1/t_fb*(np.log(C_outfb/C_infb))\n",
        "C_out_f = (np.pi* density_clay/6 * (k_fb/(np.pi*alpha*k*G_CS))**(3/2)).to(u.NTU)\n",
        "\n",
        "Gt = (3/2 * 1/(k*np.pi * alpha) * (np.pi/6 * density_clay/C_out_f)**(2/3)).to(u.dimensionless)\n",
        "t_floc = 3/2 * 1/k_fb\n",
        "\n",
        "Temp = 20 * u.degC\n",
        "\n",
        "Floc_HL = (G_CS**2 * t_floc * pc.viscosity_kinematic(Temp)/u.standard_gravity).to(u.cm)"
      ],
      "execution_count": null,
      "outputs": [
        {
          "output_type": "stream",
          "name": "stdout",
          "text": [
            "Collecting aguaclara\n",
            "  Downloading aguaclara-0.2.10.tar.gz (94 kB)\n",
            "\u001b[K     |████████████████████████████████| 94 kB 3.0 MB/s \n",
            "\u001b[?25hRequirement already satisfied: matplotlib in /usr/local/lib/python3.7/dist-packages (from aguaclara) (3.2.2)\n",
            "Requirement already satisfied: urllib3 in /usr/local/lib/python3.7/dist-packages (from aguaclara) (1.24.3)\n",
            "Collecting pint\n",
            "  Downloading Pint-0.18-py2.py3-none-any.whl (209 kB)\n",
            "\u001b[K     |████████████████████████████████| 209 kB 63.1 MB/s \n",
            "\u001b[?25hRequirement already satisfied: pandas in /usr/local/lib/python3.7/dist-packages (from aguaclara) (1.3.5)\n",
            "Requirement already satisfied: scipy in /usr/local/lib/python3.7/dist-packages (from aguaclara) (1.4.1)\n",
            "Collecting onshape_client\n",
            "  Downloading onshape_client-1.6.3-py3-none-any.whl (2.1 MB)\n",
            "\u001b[K     |████████████████████████████████| 2.1 MB 45.1 MB/s \n",
            "\u001b[?25hRequirement already satisfied: kiwisolver>=1.0.1 in /usr/local/lib/python3.7/dist-packages (from matplotlib->aguaclara) (1.3.2)\n",
            "Requirement already satisfied: cycler>=0.10 in /usr/local/lib/python3.7/dist-packages (from matplotlib->aguaclara) (0.11.0)\n",
            "Requirement already satisfied: numpy>=1.11 in /usr/local/lib/python3.7/dist-packages (from matplotlib->aguaclara) (1.21.5)\n",
            "Requirement already satisfied: python-dateutil>=2.1 in /usr/local/lib/python3.7/dist-packages (from matplotlib->aguaclara) (2.8.2)\n",
            "Requirement already satisfied: pyparsing!=2.0.4,!=2.1.2,!=2.1.6,>=2.0.1 in /usr/local/lib/python3.7/dist-packages (from matplotlib->aguaclara) (3.0.7)\n",
            "Requirement already satisfied: six>=1.5 in /usr/local/lib/python3.7/dist-packages (from python-dateutil>=2.1->matplotlib->aguaclara) (1.15.0)\n",
            "Collecting nulltype\n",
            "  Downloading nulltype-2.3.1-py2.py3-none-any.whl (11 kB)\n",
            "Requirement already satisfied: requests-oauthlib in /usr/local/lib/python3.7/dist-packages (from onshape_client->aguaclara) (1.3.1)\n",
            "Collecting ruamel.yaml\n",
            "  Downloading ruamel.yaml-0.17.21-py3-none-any.whl (109 kB)\n",
            "\u001b[K     |████████████████████████████████| 109 kB 54.1 MB/s \n",
            "\u001b[?25hRequirement already satisfied: certifi>=2017.4.17 in /usr/local/lib/python3.7/dist-packages (from onshape_client->aguaclara) (2021.10.8)\n",
            "Requirement already satisfied: pytz>=2017.3 in /usr/local/lib/python3.7/dist-packages (from pandas->aguaclara) (2018.9)\n",
            "Requirement already satisfied: importlib-metadata in /usr/local/lib/python3.7/dist-packages (from pint->aguaclara) (4.11.2)\n",
            "Requirement already satisfied: packaging in /usr/local/lib/python3.7/dist-packages (from pint->aguaclara) (21.3)\n",
            "Requirement already satisfied: typing-extensions>=3.6.4 in /usr/local/lib/python3.7/dist-packages (from importlib-metadata->pint->aguaclara) (3.10.0.2)\n",
            "Requirement already satisfied: zipp>=0.5 in /usr/local/lib/python3.7/dist-packages (from importlib-metadata->pint->aguaclara) (3.7.0)\n",
            "Requirement already satisfied: requests>=2.0.0 in /usr/local/lib/python3.7/dist-packages (from requests-oauthlib->onshape_client->aguaclara) (2.23.0)\n",
            "Requirement already satisfied: oauthlib>=3.0.0 in /usr/local/lib/python3.7/dist-packages (from requests-oauthlib->onshape_client->aguaclara) (3.2.0)\n",
            "Requirement already satisfied: idna<3,>=2.5 in /usr/local/lib/python3.7/dist-packages (from requests>=2.0.0->requests-oauthlib->onshape_client->aguaclara) (2.10)\n",
            "Requirement already satisfied: chardet<4,>=3.0.2 in /usr/local/lib/python3.7/dist-packages (from requests>=2.0.0->requests-oauthlib->onshape_client->aguaclara) (3.0.4)\n",
            "Collecting ruamel.yaml.clib>=0.2.6\n",
            "  Downloading ruamel.yaml.clib-0.2.6-cp37-cp37m-manylinux1_x86_64.whl (546 kB)\n",
            "\u001b[K     |████████████████████████████████| 546 kB 75.3 MB/s \n",
            "\u001b[?25hBuilding wheels for collected packages: aguaclara\n",
            "  Building wheel for aguaclara (setup.py) ... \u001b[?25l\u001b[?25hdone\n",
            "  Created wheel for aguaclara: filename=aguaclara-0.2.10-py3-none-any.whl size=107244 sha256=9e71b95f889ee1ec0abcffb2c4596c01f37a6883996d4d17babe218611b7865b\n",
            "  Stored in directory: /root/.cache/pip/wheels/a3/12/ef/53d591c580e122cb62a84cb2180ddba9ba03bb3dc85b19285e\n",
            "Successfully built aguaclara\n",
            "Installing collected packages: ruamel.yaml.clib, ruamel.yaml, pint, nulltype, onshape-client, aguaclara\n",
            "Successfully installed aguaclara-0.2.10 nulltype-2.3.1 onshape-client-1.6.3 pint-0.18 ruamel.yaml-0.17.21 ruamel.yaml.clib-0.2.6\n"
          ]
        },
        {
          "output_type": "stream",
          "name": "stderr",
          "text": [
            "/usr/local/lib/python3.7/dist-packages/aguaclara/core/physchem.py:157: UserWarning: viscosity_kinematic is deprecated; use viscosity_kinematic_water instead.\n",
            "  'viscosity_kinematic_water instead.', UserWarning)\n"
          ]
        }
      ]
    },
    {
      "cell_type": "markdown",
      "metadata": {
        "id": "jeEorEE1UwV7"
      },
      "source": [
        "#Example: Filter Inlet Channel with Rectangular Weir Flow Distribution"
      ]
    },
    {
      "cell_type": "code",
      "metadata": {
        "id": "MyYpzYxOU5px",
        "colab": {
          "base_uri": "https://localhost:8080/",
          "height": 342
        },
        "outputId": "49545b13-f45f-423b-90e8-d3a0e3eac91e"
      },
      "source": [
        "def Inlet_Channel_V_Max(H_weir,Ratio_Flow):\n",
        "  return (2 * np.sqrt(u.gravity*H_weir*(1-Ratio_Flow**(2/3))/(1+Ratio_Flow**(2/3)))).to(u.m/u.s)\n",
        "\n",
        "Ratio_Q_graph = np.linspace(0.6,0.95,20)\n",
        "\n",
        "H_weir = 5 * u.cm\n",
        "v_graph = np.empty_like(Ratio_Q_graph) * u.m/u.s\n",
        "for i in range(20):\n",
        "  v_graph[i] = Inlet_Channel_V_Max(H_weir,Ratio_Q_graph[i])\n",
        "\n",
        "plt.plot(Ratio_Q_graph,v_graph)\n",
        "plt.xlabel(r'Flow ratio, $\\Pi_{Q_{weir}}$')\n",
        "plt.ylabel(r'Maximum manifold channel velocity, $ \\bar v_{M_1} \\left(\\frac{m}{s} \\right)$')\n",
        "plt.show()"
      ],
      "execution_count": null,
      "outputs": [
        {
          "output_type": "stream",
          "name": "stderr",
          "text": [
            "/usr/local/lib/python3.7/dist-packages/matplotlib/cbook/__init__.py:1317: UnitStrippedWarning: The unit of the quantity is stripped when downcasting to ndarray.\n",
            "  return np.asarray(x, float)\n"
          ]
        },
        {
          "output_type": "display_data",
          "data": {
            "text/plain": [
              "<Figure size 432x288 with 1 Axes>"
            ],
            "image/png": "[encoded data removed]"
          },
          "metadata": {
            "needs_background": "light"
          }
        }
      ]
    }
  ]
}